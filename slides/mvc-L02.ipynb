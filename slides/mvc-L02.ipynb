{
 "cells": [
  {
   "cell_type": "code",
   "execution_count": 33,
   "metadata": {
    "slideshow": {
     "slide_type": "skip"
    }
   },
   "outputs": [],
   "source": [
    "import numpy as np\n",
    "import matplotlib.pyplot as plt\n",
    "from IPython.display import display, HTML, IFrame\n",
    "from ipywidgets import interact\n",
    "import pandas as pd\n",
    "from numpy import cos,sin,pi"
   ]
  },
  {
   "cell_type": "markdown",
   "metadata": {
    "slideshow": {
     "slide_type": "notes"
    }
   },
   "source": [
    "$\\newcommand{\\RR}{\\mathbb{R}}$\n",
    "$\\newcommand{\\bv}[1]{\\begin{bmatrix} #1 \\end{bmatrix}}$\n",
    "$\\renewcommand{\\vec}{\\mathbf}$"
   ]
  },
  {
   "cell_type": "markdown",
   "metadata": {
    "hide_input": true,
    "slideshow": {
     "slide_type": "slide"
    }
   },
   "source": [
    "## Announcements\n",
    "\n",
    "  - Recitations **do** meet this week. No quiz. \n",
    "  - Homework 0 due Friday, noon. \n",
    "  - Take questions to Piazza. \n",
    "  - Homework 1 due Tuesday, 8am. \n",
    "  - Office hours:\n",
    "    "
   ]
  },
  {
   "cell_type": "markdown",
   "metadata": {
    "slideshow": {
     "slide_type": "slide"
    }
   },
   "source": [
    "## One-minute Review\n",
    "\n",
    "  - Distance between points in $\\RR^n = \\{(x_1, \\dots,x_n): x_i \\in \\RR\\}$ is measured by $$\\sqrt{\\sum_{i=1}^n (x_i - y_i)^2}$$\n",
    "  - A vector $\\vec v$ is a directed line segment.\n",
    "  - It can be specified by the displacement in each coordinate. \n",
    "  $$\\vec v = \\langle v_1, v_2, v_3 \\rangle $$\n",
    "  - The **length** of a vector is (in $\\RR^3$), the scalar\n",
    "   $$|\\vec v| = \\sqrt{v_1^2+ v_2^2 + v_3^2}$$\n",
    "  - Thus the distance between points with position vectors $\\vec v $ and $\\vec w$ is simply $|\\vec v - \\vec w|$.\n"
   ]
  },
  {
   "cell_type": "markdown",
   "metadata": {
    "slideshow": {
     "slide_type": "slide"
    }
   },
   "source": [
    "## Vector Operations\n",
    "\n",
    "Let $\\vec v, \\vec w$ be vectors in $\\RR^n$ and $c$ a scalar. \n",
    "\n",
    "| Operation | Notation | Formula | Output |\n",
    "|---|---| --- |---|\n",
    "| magnitude    | $|\\vec v|$ | $\\sqrt{\\sum v_i^2}$ | scalar |\n",
    "| scalar multiplication | $c \\vec v$ | $\\langle c v_1, \\dots, c v_n \\rangle $| vector |\n",
    "| vector addition | $\\vec v + \\vec w$ | $\\langle v_1 + w_1, \\dots, c v_n + w_n \\rangle $| vector |"
   ]
  },
  {
   "cell_type": "markdown",
   "metadata": {
    "slideshow": {
     "slide_type": "slide"
    }
   },
   "source": [
    "## Linear Combinations\n",
    "\n",
    "A *linear combination* of vectors $\\vec v$ and $\\vec w$ is the expression $$a \\vec v + b \\vec w$$ where $a$ and $b$ are scalars."
   ]
  },
  {
   "cell_type": "code",
   "execution_count": 30,
   "metadata": {
    "scrolled": true,
    "slideshow": {
     "slide_type": "fragment"
    }
   },
   "outputs": [
    {
     "data": {
      "application/vnd.jupyter.widget-view+json": {
       "model_id": "",
       "version_major": 2,
       "version_minor": 0
      },
      "text/plain": [
       "interactive(children=(FloatSlider(value=0.0, description='a', max=2.0, min=-2.0), FloatSlider(value=0.0, descr…"
      ]
     },
     "metadata": {},
     "output_type": "display_data"
    }
   ],
   "source": [
    "\n",
    "    \n",
    "@interact\n",
    "def _(a=(-2.0,2.0),b=(-2.0,2.0)):\n",
    "    fig,ax = plt.subplots(1, figsize=(6,6))\n",
    "\n",
    "    ax.set_xlim(-4,4)\n",
    "    ax.set_ylim(-4,4)\n",
    "\n",
    "    ax.arrow(0,0,2,1,color='r',width=.02,head_width=.1)\n",
    "    ax.arrow(0,0,-1/2,3/2,color='b',width=.02,head_width=.1)\n",
    "    ax.arrow(0,0,2*a,a,alpha = .3)\n",
    "    ax.arrow(0,0,-b/2,b*3/2,alpha=.3)\n",
    "    ax.arrow(0,0,2*a - b/2,a + b*3/2,color='purple', width=.02,head_width=.1)\n",
    "\n",
    "    "
   ]
  },
  {
   "cell_type": "code",
   "execution_count": 32,
   "metadata": {
    "scrolled": true,
    "slideshow": {
     "slide_type": "subslide"
    }
   },
   "outputs": [
    {
     "data": {
      "application/vnd.jupyter.widget-view+json": {
       "model_id": "",
       "version_major": 2,
       "version_minor": 0
      },
      "text/plain": [
       "interactive(children=(FloatSlider(value=0.0, description='t', max=2.0, min=-2.0), Output()), _dom_classes=('wi…"
      ]
     },
     "metadata": {},
     "output_type": "display_data"
    }
   ],
   "source": [
    "\n",
    "    \n",
    "@interact\n",
    "def _(t=(-2.0,2.0)):\n",
    "    fig,ax = plt.subplots(1, figsize=(6,6))\n",
    "\n",
    "    ax.set_xlim(-4,4)\n",
    "    ax.set_ylim(-4,4)\n",
    "\n",
    "    ax.arrow(0,0,2,1,color='r',width=.02,head_width=.1)\n",
    "    ax.arrow(0,0,-1/2,3/2,color='b',width=.02,head_width=.1)\n",
    "    ax.arrow(0,0,2*t,t,alpha = .3)\n",
    "    ax.arrow(0,0,-(1-t)/2,(1-t)*3/2,alpha=.3)\n",
    "    ax.arrow(0,0,2*t - (1-t)/2,t + (1-t)*3/2,color='purple', width=.02,head_width=.1)\n",
    "\n",
    "    "
   ]
  },
  {
   "cell_type": "markdown",
   "metadata": {
    "slideshow": {
     "slide_type": "slide"
    }
   },
   "source": [
    "## The Dot Product\n",
    "\n",
    "We expand our list of vector operations with the **dot** (or **inner** or **scalar**) **product**.\n",
    "\n",
    "$$\\vec v \\cdot \\vec w = \\sum_{i=1}^n v_i w_i$$"
   ]
  },
  {
   "cell_type": "markdown",
   "metadata": {
    "slideshow": {
     "slide_type": "fragment"
    }
   },
   "source": [
    "#### Examples\n",
    "  - $\\langle 4,2 \\rangle \\cdot \\langle -2,6 \\rangle = -8 + 12 = 4 $\n",
    "  - $\\vec i \\cdot \\vec i = 1$\n",
    "  - $\\vec i \\cdot \\vec j = \\vec i \\cdot \\vec k = \\vec j \\cdot \\vec k = 0$"
   ]
  },
  {
   "cell_type": "markdown",
   "metadata": {
    "slideshow": {
     "slide_type": "subslide"
    }
   },
   "source": [
    "## Properties of the dot product. \n",
    "\n",
    "  - $\\vec v \\cdot \\vec v = |\\vec v |^2$"
   ]
  },
  {
   "cell_type": "markdown",
   "metadata": {
    "slideshow": {
     "slide_type": "fragment"
    }
   },
   "source": [
    "  - $\\vec v \\cdot \\vec 0 = 0$"
   ]
  },
  {
   "cell_type": "markdown",
   "metadata": {
    "slideshow": {
     "slide_type": "fragment"
    }
   },
   "source": [
    "  - $\\vec v \\cdot \\vec w = \\vec w \\cdot \\vec v$"
   ]
  },
  {
   "cell_type": "markdown",
   "metadata": {
    "slideshow": {
     "slide_type": "fragment"
    }
   },
   "source": [
    "  - $(c\\vec u + d\\vec v) \\cdot \\vec w = c(\\vec u \\cdot \\vec w) + d (\\vec v \\cdot \\vec w)$"
   ]
  },
  {
   "cell_type": "markdown",
   "metadata": {
    "slideshow": {
     "slide_type": "slide"
    }
   },
   "source": [
    "## Dot products and angles"
   ]
  },
  {
   "cell_type": "code",
   "execution_count": 55,
   "metadata": {
    "hide_input": true,
    "scrolled": true,
    "slideshow": {
     "slide_type": "fragment"
    }
   },
   "outputs": [
    {
     "data": {
      "application/vnd.jupyter.widget-view+json": {
       "model_id": "",
       "version_major": 2,
       "version_minor": 0
      },
      "text/plain": [
       "interactive(children=(FloatSlider(value=3.141592653589793, description='th', max=6.283185307179586), FloatSlid…"
      ]
     },
     "metadata": {},
     "output_type": "display_data"
    }
   ],
   "source": [
    "@interact\n",
    "def _(th=(0.,2.0*pi),al=(0.,2.*pi,pi/16)):\n",
    "    fig,ax = plt.subplots(1, figsize=(6,6))\n",
    "\n",
    "    ax.set_xlim(-4,4)\n",
    "    ax.set_ylim(-4,4)\n",
    "\n",
    "    ax.arrow(0,0,2*cos(th)-sin(th),2*sin(th)+cos(th),color='r',width=.02,head_width=.1)\n",
    "    ax.arrow(0,0,2*cos(th+al)-sin(th+al),2*sin(th+al)+cos(th+al),color='b',width=.02,head_width=.1)\n",
    "#     ax.arrow(0,0,2*t,t,alpha = .3)\n",
    "#     ax.arrow(0,0,-(1-t)/2,(1-t)*3/2,alpha=.3)\n",
    "#     ax.arrow(0,0,2*t - (1-t)/2,t + (1-t)*3/2,color='purple', width=.02,head_width=.1)\n",
    "    ax.grid(True)\n",
    "    ax.text(0,3.5,f\"$\\\\vec v\\\\cdot\\\\vec w = {5*cos(al):.4f}$\")\n",
    "    "
   ]
  },
  {
   "cell_type": "markdown",
   "metadata": {
    "slideshow": {
     "slide_type": "subslide"
    }
   },
   "source": [
    "## Geometric View\n",
    "\n",
    "The following formula best summarizes the signnificance of the dot product. \n",
    "\n",
    "$$\\vec v \\cdot \\vec w = |\\vec v | | \\vec w | \\cos \\theta $$\n",
    "\n",
    "where $\\theta$ is the angle between the vectors. "
   ]
  },
  {
   "cell_type": "markdown",
   "metadata": {
    "slideshow": {
     "slide_type": "fragment"
    }
   },
   "source": [
    "This equation holds in any dimension. "
   ]
  },
  {
   "cell_type": "markdown",
   "metadata": {
    "slideshow": {
     "slide_type": "fragment"
    }
   },
   "source": [
    "#### Definition\n",
    "\n",
    "Two vectors $\\vec v$ and $\\vec w$ are **orthogonal** provided $\\vec v \\cdot \\vec w =0$. \n",
    "\n",
    "*Perpendicular*, usually for dimesions 2 and 3, is also acceptable."
   ]
  },
  {
   "cell_type": "markdown",
   "metadata": {
    "slideshow": {
     "slide_type": "slide"
    }
   },
   "source": [
    "### Exercises\n",
    "\n",
    "  1. Find the angle between vectors $\\langle 4,3,1\\rangle$ and $\\langle -1,3,0 \\rangle$ in degrees.\n",
    "\n",
    "  2. Let $v = \\langle 2,1 \\rangle$. Describe the set of all vectors $\\vec x$ in $\\RR^2$ such that:\n",
    "    1. $\\vec v \\cdot \\vec x = 0$\n",
    "    1. $\\vec v \\cdot \\vec x = 1$\n",
    "    1. $\\vec v \\cdot \\vec x = -5$\n",
    "    \n",
    "  3. Let $\\vec v = \\langle 5,3,-2 \\rangle$ and $\\vec w = \\langle 1,1,1\\rangle$. Find the scalar $c$ such that $$|\\vec v - c \\vec w|$$ is as small as possible.  "
   ]
  },
  {
   "cell_type": "code",
   "execution_count": null,
   "metadata": {
    "scrolled": true,
    "slideshow": {
     "slide_type": "subslide"
    }
   },
   "outputs": [],
   "source": []
  },
  {
   "cell_type": "markdown",
   "metadata": {
    "slideshow": {
     "slide_type": "slide"
    }
   },
   "source": [
    "## Projection\n",
    "\n",
    "The third exercise above could be reworded, \"Fid the multiple of $\\vec w $ *closest* to $\\vec v$."
   ]
  },
  {
   "cell_type": "code",
   "execution_count": 76,
   "metadata": {
    "hide_input": false,
    "scrolled": false,
    "slideshow": {
     "slide_type": "fragment"
    }
   },
   "outputs": [
    {
     "data": {
      "application/vnd.jupyter.widget-view+json": {
       "model_id": "657dc3abe285448a97b677145ae72193",
       "version_major": 2,
       "version_minor": 0
      },
      "text/plain": [
       "interactive(children=(FloatSlider(value=4.0, description='t', max=8.0, step=0.2), Output()), _dom_classes=('wi…"
      ]
     },
     "metadata": {},
     "output_type": "display_data"
    }
   ],
   "source": [
    "@interact\n",
    "def _(t=(0.,8,.2)):\n",
    "    fig,ax = plt.subplots(1, figsize=(6,6))\n",
    "\n",
    "    ax.set_xlim(0,8)\n",
    "    ax.set_ylim(0,8)\n",
    "\n",
    "    ax.arrow(0,0,5,3,color='r',width=.02,head_width=.1,length_includes_head=True)\n",
    "    ax.arrow(0,0,t,t,color='b',width=.02,head_width=.1,length_includes_head=True)\n",
    "    ax.arrow(t,t,5-t,3-t,color='k',alpha = .3,length_includes_head=True)\n",
    "#     ax.arrow(0,0,-(1-t)/2,(1-t)*3/2,alpha=.3)\n",
    "#     ax.arrow(0,0,2*t - (1-t)/2,t + (1-t)*3/2,color='purple', width=.02,head_width=.1)\n",
    "    ax.grid(True)\n",
    "    ax.text(2,7,f\"$|\\\\vec v- c \\\\vec w | = {np.linalg.norm(np.array([5-t,3-t])):.4f}$\",size=22)\n",
    "    ax.plot([0,8],[0,8],'k','---',alpha=.2)"
   ]
  },
  {
   "cell_type": "markdown",
   "metadata": {
    "slideshow": {
     "slide_type": "subslide"
    }
   },
   "source": [
    "### Definitions\n",
    "\n",
    "The **vector projection** of the vector $\\vec a$ onto $\\vec b$ is \n",
    "$$\\operatorname{proj}_\\vec b \\vec a = \\frac{\\vec a \\cdot \\vec b}{\\vec b \\cdot \\vec b} \\vec b. $$\n",
    "\n",
    "The **scalar projection** of the vector $\\vec a$ onto $\\vec b$ is \n",
    "$$\\operatorname{comp}_\\vec b \\vec a = \\frac{\\vec a \\cdot \\vec b}{|\\vec b|}. $$\n"
   ]
  },
  {
   "cell_type": "markdown",
   "metadata": {
    "slideshow": {
     "slide_type": "fragment"
    }
   },
   "source": [
    "Note: The notation for the latter comes from the \"*comp*onent of $\\vec a$ in the $\\vec b$ direction.\""
   ]
  },
  {
   "cell_type": "markdown",
   "metadata": {
    "slideshow": {
     "slide_type": "fragment"
    }
   },
   "source": [
    "Furthermore, let $\\vec u = \\frac{\\vec b}{|\\vec b|}$, the normalization of $\\vec b$. Then,\n",
    "\n",
    "$$\\operatorname{proj}_\\vec b \\vec a = (\\operatorname{comp}_\\vec b \\vec a)\\vec u .$$"
   ]
  },
  {
   "cell_type": "code",
   "execution_count": null,
   "metadata": {},
   "outputs": [],
   "source": []
  }
 ],
 "metadata": {
  "celltoolbar": "Slideshow",
  "kernelspec": {
   "display_name": "Python 3",
   "language": "python",
   "name": "python3"
  },
  "language_info": {
   "codemirror_mode": {
    "name": "ipython",
    "version": 3
   },
   "file_extension": ".py",
   "mimetype": "text/x-python",
   "name": "python",
   "nbconvert_exporter": "python",
   "pygments_lexer": "ipython3",
   "version": "3.7.3"
  },
  "rise": {
   "scroll": true,
   "theme": "sky",
   "transition": "concave"
  }
 },
 "nbformat": 4,
 "nbformat_minor": 2
}
