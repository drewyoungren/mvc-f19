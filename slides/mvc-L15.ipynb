{
 "cells": [
  {
   "cell_type": "code",
   "execution_count": 1,
   "metadata": {
    "slideshow": {
     "slide_type": "skip"
    }
   },
   "outputs": [],
   "source": [
    "import numpy as np\n",
    "import matplotlib.pyplot as plt\n",
    "from IPython.display import display, HTML, IFrame\n",
    "from ipywidgets import interact,fixed\n",
    "import pandas as pd\n",
    "from mpl_toolkits import mplot3d\n",
    "from mpl_toolkits.mplot3d import axes3d\n",
    "from matplotlib.patches import FancyArrowPatch,Rectangle\n",
    "from mpl_toolkits.mplot3d.art3d import Poly3DCollection\n",
    "from mpl_toolkits.mplot3d import proj3d\n",
    "\n",
    "plt.rcParams[\"figure.figsize\"] = [10, 10]\n",
    "\n",
    "from numpy.linalg import norm\n",
    "from numpy import cos,sin,tan,arctan,exp,log,pi,sqrt\n",
    "\n",
    "from scipy.integrate import quad,dblquad"
   ]
  },
  {
   "cell_type": "markdown",
   "metadata": {
    "slideshow": {
     "slide_type": "notes"
    }
   },
   "source": [
    "$\\newcommand{\\RR}{\\mathbb{R}}$\n",
    "$\\newcommand{\\bv}[1]{\\begin{bmatrix} #1 \\end{bmatrix}}$\n",
    "$\\renewcommand{\\vec}{\\mathbf}$\n"
   ]
  },
  {
   "cell_type": "markdown",
   "metadata": {
    "hide_input": true,
    "slideshow": {
     "slide_type": "slide"
    }
   },
   "source": [
    "## Announcements\n",
    "\n",
    "  - Happy $2^{10}$ Day!\n",
    "  - Quiz 6 this week. \n",
    "    - Find critical points.\n",
    "    - Classify them.\n",
    "    - Constrained optimization.\n",
    "  - Homework 8 due Tuesday\n",
    "    "
   ]
  },
  {
   "cell_type": "markdown",
   "metadata": {
    "slideshow": {
     "slide_type": "slide"
    }
   },
   "source": [
    "# One-minute Review\n",
    "\n",
    "  - A double integral over a region $\\mathcal D$ is a limit of Riemann sums \n",
    "  $$\\iint_\\mathcal{D} f(x,y)\\,dA = \\lim_{M,N\\to \\infty} \\sum_{i=1}^M \\sum_{j=1}^N f(x_{ij}^*,y_{ij}^*)\\, \\Delta A_{ij} $$\n",
    "\n",
    "where $(x_{ij}^*,y_{ij}^*)$ is a sample point in the $ij$th subrectangle contained in $\\mathcal{D}$ and $\\Delta A_{ij}$ is the area of the $ij$th subrectangle (often $\\Delta x\\Delta y$).\n",
    "\n",
    "  - Fubini's Theorem states that for a continuous $f$ on a rectangle $[a,b]\\times[c,d]$, the double integral is equal to the iterated integral. $$\\iint_\\mathcal D f dA = \\int_a^b \\int_c^d f(x,y) dy dx$$\n",
    "  \n",
    "  "
   ]
  },
  {
   "cell_type": "markdown",
   "metadata": {
    "slideshow": {
     "slide_type": "slide"
    }
   },
   "source": [
    "# Lecture 15\n",
    "\n",
    "  - Objectives\n",
    "    - Integration\n",
    "      - See examples using polar coordinates.\n",
    "      - Applications of integration:\n",
    "        - Center of mass\n",
    "        - Moment of intertia\n",
    "        - Probability\n",
    "      - Preview triple integrals.\n",
    "    \n",
    "  - Resources\n",
    "    - Content\n",
    "      - Stewart: §15.3–4\n",
    "      - New Strang:  [§5.3](https://openstax.org/books/calculus-volume-3/pages/5-3-double-integrals-in-polar-coordinates) [§5.6](https://openstax.org/books/calculus-volume-3/pages/5-6-calculating-centers-of-mass-and-moments-of-inertia)\n",
    "      - [Slides](https://hub.columbiajupyter2.org/hub/user-redirect/git-pull?repo=https%3A%2F%2Fgithub.com%2Fdrewyoungren%2Fmvc-f19&urlpath=tree%2Fmvc-f19%2Fslides%2Fmvc-L15.ipynb) via JupyterHub\n",
    "    - Practice\n",
    "      - Mooculus: [Polar Coordinates](https://ximera.osu.edu/mooculus/calculus3/commonCoordinates/digInPolarCoordinates) [Mass and Moments](https://ximera.osu.edu/mooculus/calculus3/computationsAndInterpretations/digInMassMomentsAndCenterOfMass)\n",
    "    - Extras\n",
    "      - CalcBLUE: [Integrals](https://www.math.upenn.edu/~ghrist/BLUE.html#VOL3) "
   ]
  },
  {
   "cell_type": "markdown",
   "metadata": {
    "slideshow": {
     "slide_type": "subslide"
    }
   },
   "source": [
    "## Converting integrals to polar coordinates. \n",
    "\n",
    "Let $\\mathcal{D}$ be the polar region defined by $r_1 \\leq r \\leq r_2, \\theta_1 \\leq \\theta \\leq \\theta_2 $ and $f(x,y)$ a continuous function on $\\mathcal D$. Then,\n",
    "\n",
    "$$\\iint_\\mathcal D f dA = \\int_{\\theta_1}^{\\theta_2} \\int_{r_1}^{r_2} f(r \\cos \\theta,r \\sin \\theta )\\,r\\,dr\\,d\\theta$$ \n",
    "\n"
   ]
  },
  {
   "cell_type": "markdown",
   "metadata": {
    "slideshow": {
     "slide_type": "fragment"
    }
   },
   "source": [
    "Remember to convert all parts of the integral:\n",
    "  - the limits of integration\n",
    "  - the integrand\n",
    "  - the differential"
   ]
  },
  {
   "cell_type": "code",
   "execution_count": 63,
   "metadata": {
    "hide_input": false,
    "slideshow": {
     "slide_type": "skip"
    }
   },
   "outputs": [
    {
     "data": {
      "application/vnd.jupyter.widget-view+json": {
       "model_id": "f27cdcfa1abf4296ab0110c24f39c360",
       "version_major": 2,
       "version_minor": 0
      },
      "text/plain": [
       "interactive(children=(FloatSlider(value=0.0, description='s', max=1.0, step=0.02), Output()), _dom_classes=('w…"
      ]
     },
     "metadata": {},
     "output_type": "display_data"
    }
   ],
   "source": [
    "@interact\n",
    "def _(s=(0,1,.02)):\n",
    "    fig = plt.figure(figsize=(12,6))\n",
    "    ax= fig.add_subplot(121)\n",
    "    ax2 = fig.add_subplot(122,projection='3d')\n",
    "    r = np.linspace(1,2,8)\n",
    "    th = np.linspace(0,pi/3,8)\n",
    "    t = np.linspace(0,1,26)\n",
    "    for x in r:\n",
    "        ax.plot(x*np.ones_like(t),t*pi/3,'k')\n",
    "    for y in th:\n",
    "        ax.plot(1+t,y*np.ones_like(t),'k')\n",
    "\n",
    "    ax.set_xlim([0,2.5])\n",
    "    ax.set_ylim([0,2.5])\n",
    "    ax2.set_xlim3d([0,2.5])\n",
    "    ax2.set_ylim3d([0,2.5])"
   ]
  },
  {
   "cell_type": "code",
   "execution_count": 5,
   "metadata": {
    "hide_input": true
   },
   "outputs": [
    {
     "data": {
      "application/vnd.jupyter.widget-view+json": {
       "model_id": "5f368a1b1e3940f3ad27a5c414bf4ef8",
       "version_major": 2,
       "version_minor": 0
      },
      "text/plain": [
       "interactive(children=(FloatSlider(value=0.0, description='s', max=1.0), IntSlider(value=-61, description='angl…"
      ]
     },
     "metadata": {},
     "output_type": "display_data"
    }
   ],
   "source": [
    "@interact\n",
    "def _(s=(0,1,.1),angle=(-127,6,6)):\n",
    "    fig = plt.figure(figsize=(12,6))\n",
    "    ax= fig.add_subplot(121)\n",
    "    ax2 = fig.add_subplot(122,projection='3d')\n",
    "    r = np.linspace(1,2,8)\n",
    "    th = np.linspace(0,pi/3,8)\n",
    "    t = np.linspace(0,1,26)\n",
    "    for x in r:\n",
    "        ax.plot((1-s)*x*np.ones_like(t) + s*(x*cos(t*pi/3)),(1-s)*t*pi/3 + s*(x*sin(t*pi/3)),'k')\n",
    "    for y in th:\n",
    "        ax.plot((1-s)*(1+t) + s*(1+t)*cos(y),(1-s)*y*np.ones_like(t)+ s*(1+t)*sin(y),'k')\n",
    "\n",
    "    for x in r:\n",
    "        ax2.plot((1-s)*x*np.ones_like(t) + s*(x*cos(t*pi/3)),(1-s)*t*pi/3 + s*(x*sin(t*pi/3)),0*t,'k')\n",
    "    for y in th:\n",
    "        ax2.plot((1-s)*(1+t) + s*(1+t)*cos(y),(1-s)*y*np.ones_like(t)+ s*(1+t)*sin(y),0*t,'k')\n",
    "        \n",
    "    for a in [ax,ax2]:\n",
    "        if s == 0:\n",
    "            a.set_xlabel('$r$',fontsize=20)\n",
    "            a.set_ylabel('$\\\\theta$',fontsize=20)\n",
    "        elif s == 1:\n",
    "            a.set_xlabel('$x$',fontsize=20)\n",
    "            a.set_ylabel('$y$',fontsize=20)\n",
    "        else:\n",
    "            a.set_xlabel(' ',fontsize=20)\n",
    "            a.set_ylabel(' ',fontsize=20)\n",
    "            \n",
    "    R,TH = np.meshgrid(r,th)\n",
    "    \n",
    "    X = (1-s)*R + s*(R*cos(TH))\n",
    "    Y = (1-s)*TH + s*(R*sin(TH))\n",
    "    Z = 1 + R*cos(TH) + R*sin(TH)\n",
    "    ax2.plot_surface(X,Y,Z,cmap='rainbow')\n",
    "    ax2.view_init(35,angle)\n",
    "   \n",
    "    ax.set_xlim([0,2.5])\n",
    "    ax.set_ylim([0,2.5])\n",
    "    ax2.set_xlim3d([0,2.5])\n",
    "    ax2.set_ylim3d([0,2.5])"
   ]
  },
  {
   "cell_type": "markdown",
   "metadata": {
    "slideshow": {
     "slide_type": "subslide"
    }
   },
   "source": [
    "## Examples\n",
    "\n",
    "  1. Find the volume under a paraboloid $z=a-x^2-y^2$ and above $z=0$ in terms of $a$ where $a>0$.\n",
    "  "
   ]
  },
  {
   "cell_type": "code",
   "execution_count": 25,
   "metadata": {
    "hide_input": true,
    "slideshow": {
     "slide_type": "fragment"
    }
   },
   "outputs": [
    {
     "data": {
      "image/png": "[encoded data removed]",
      "text/plain": [
       "<Figure size 432x288 with 1 Axes>"
      ]
     },
     "metadata": {
      "needs_background": "light"
     },
     "output_type": "display_data"
    }
   ],
   "source": [
    "ax = plt.gca(projection='3d')\n",
    "r = np.linspace(0,1,40)\n",
    "th = np.linspace(0,2*pi,56)\n",
    "r,th = np.meshgrid(r,th)\n",
    "X = r*cos(th)\n",
    "Y = r*sin(th)\n",
    "Z = 1 - r**2\n",
    "ax.plot_surface(X,Y,Z,cmap='rainbow');\n"
   ]
  },
  {
   "cell_type": "markdown",
   "metadata": {
    "slideshow": {
     "slide_type": "subslide"
    }
   },
   "source": [
    "  2. Sketch the region of integration in the definite integral below and then evaluate it using polar coordinates.  $$\\int_0^1\\int_{\\sqrt{1-x^2}}^{\\sqrt{4-x^2}} x\\,dy\\,dx + \\int_1^2\\int_{0}^{\\sqrt{4-x^2}} x\\,dy\\,dx$$\n",
    "  "
   ]
  },
  {
   "cell_type": "markdown",
   "metadata": {
    "slideshow": {
     "slide_type": "subslide"
    }
   },
   "source": [
    "  3. Find the volume of the region above the $xy$-plane, under the surface $z=x^2+y^2$ and inside the cylinder $x^2 +(y-1)^2 =1$.\n",
    "  "
   ]
  },
  {
   "cell_type": "markdown",
   "metadata": {
    "slideshow": {
     "slide_type": "subslide"
    }
   },
   "source": [
    "### Cool Example\n",
    "\n",
    "Compute $$\\int_{-\\infty}^\\infty e^{-x^2}\\,dx.$$"
   ]
  },
  {
   "cell_type": "markdown",
   "metadata": {
    "slideshow": {
     "slide_type": "fragment"
    }
   },
   "source": [
    "See homework 8. "
   ]
  },
  {
   "cell_type": "markdown",
   "metadata": {
    "slideshow": {
     "slide_type": "slide"
    }
   },
   "source": [
    "# Applications of Integration\n",
    "\n",
    "The basic principal behind applying integration is that the desired quantity, the _desideratum_, is obtained by integrating its _elements_. Put plainly,\n",
    "$$\\spadesuit = \\int d\\spadesuit$$"
   ]
  },
  {
   "cell_type": "markdown",
   "metadata": {
    "slideshow": {
     "slide_type": "subslide"
    }
   },
   "source": [
    "## A Word on Density\n",
    "\n",
    "\"Density\" often stands in for mass density which has units of mass/volume, like $\\frac{{\\rm g}}{{\\rm ml}}$. \n",
    "\n",
    "But think of it more generally as $$\\frac{\\rm stuff}{\\rm unit\\ of\\ measure}$$\n",
    "\n",
    "Further, these can vary continuously throughout a medium or space. Thus, we integrate to find the total amount of \"stuff\". \n",
    "\n",
    "### Examples\n",
    "\n",
    "  - Resistivity $\\rho(x)$ along a wire. $\\frac{\\Omega}{{\\rm m}}$. $$\\Omega = \\int_0^\\ell \\rho(x)\\, dx$$\n",
    "  - Probability density function $\\rho(x,y)$ of two random variables. $$P(E) = \\iint_E \\rho(x,y)\\, dA$$\n",
    "  - Concentration of chemicals, like $[\\text{H}_2\\text{CO}_3] = \\rho(x,y,z)$. $$\\text{total carbonic acid} = \\iiint_D \\rho(x,y,z)\\,dV$$"
   ]
  },
  {
   "cell_type": "markdown",
   "metadata": {
    "slideshow": {
     "slide_type": "slide"
    }
   },
   "source": [
    "## Masses and Moments\n",
    "\n",
    "Let consider a planar region $\\mathcal D$ (a \"lamina\") with continuously varying density (mass per unit area) $\\rho(x,y)$. The the total mass is given by $$M = \\iint_D \\rho(x,y)\\,dA$$ \n",
    "\n",
    "The **center of mass** $(\\bar{x},\\bar y)$ is the \"(weighted) average position\" of the mass in the object. \n",
    "$$(\\bar{x},\\bar y) = \\left(\\frac{M_y}{M},\\frac{M_x}{M}\\right)$$ \n",
    "\n",
    "where \n",
    "\n",
    "$$ M_y = \\iint_\\mathcal D x \\rho(x,y)\\,dA$$ \n",
    "\n",
    "$$ M_x = \\iint_\\mathcal D y \\rho(x,y)\\,dA$$\n",
    "\n",
    "are the **first moments** relative to the $y-$ and $x-$axis, respectively."
   ]
  },
  {
   "cell_type": "markdown",
   "metadata": {
    "slideshow": {
     "slide_type": "fragment"
    }
   },
   "source": [
    "### Example\n",
    "\n",
    "Find the center of mass of the unit square $[0,1]\\times [0,1]$ whose density is given by $\\rho(x,y) = x+y$ "
   ]
  },
  {
   "cell_type": "code",
   "execution_count": 53,
   "metadata": {
    "hide_input": true,
    "scrolled": false,
    "slideshow": {
     "slide_type": "fragment"
    }
   },
   "outputs": [
    {
     "data": {
      "application/vnd.jupyter.widget-view+json": {
       "model_id": "b245d0dce0904fb0a3fa276e1b5331d4",
       "version_major": 2,
       "version_minor": 0
      },
      "text/plain": [
       "interactive(children=(Checkbox(value=False, description='show'), Output()), _dom_classes=('widget-interact',))"
      ]
     },
     "metadata": {},
     "output_type": "display_data"
    }
   ],
   "source": [
    "@interact\n",
    "def _(show=False):\n",
    "    x = y = np.linspace(0,1,100)\n",
    "    x,y = np.meshgrid(x,y)\n",
    "\n",
    "    plt.figure(figsize=(8,8))\n",
    "    plt.pcolormesh(x,y,x+y,cmap='rainbow')\n",
    "    plt.xlim([0,1.5])\n",
    "    plt.ylim([0,1.5])\n",
    "    if show:\n",
    "        plt.scatter([7/12],[7/12])\n"
   ]
  },
  {
   "cell_type": "code",
   "execution_count": 56,
   "metadata": {
    "slideshow": {
     "slide_type": "skip"
    }
   },
   "outputs": [
    {
     "data": {
      "text/plain": [
       "1.0"
      ]
     },
     "execution_count": 56,
     "metadata": {},
     "output_type": "execute_result"
    }
   ],
   "source": [
    "rho = lambda x,y: x+y\n",
    "\n",
    "dblquad(lambda x,y: (x+y),0,1,0,1)[0]"
   ]
  },
  {
   "cell_type": "markdown",
   "metadata": {
    "slideshow": {
     "slide_type": "slide"
    }
   },
   "source": [
    "### Exercise\n",
    "\n",
    "Take the top half of the annulus $\\{(x,y) \\mid 1 \\leq x^2 + y^2 \\leq 4\\}$. Does this region contain its **centroid** (center of mass with uniform density)?"
   ]
  },
  {
   "cell_type": "markdown",
   "metadata": {
    "slideshow": {
     "slide_type": "slide"
    }
   },
   "source": [
    "## Moment(s) of Inertia\n",
    "\n",
    "The **moment of inertia** $I$ of a massive body is a measure of its \"resistance to rotation\" about a given axis. \n",
    "\n",
    "Angular momentum is  $L=I\\omega$, the product of the moment of inertia and the angular velocity."
   ]
  },
  {
   "cell_type": "markdown",
   "metadata": {
    "slideshow": {
     "slide_type": "fragment"
    }
   },
   "source": [
    "![Figure skater spinning](http://giphygifs.s3.amazonaws.com/media/RmuN3xF9sBpL2/giphy.gif)\n",
    "\n",
    "The figure skater pulls her body in to reduce her moment of intertia. As angular momentum is conserved, she spins faster."
   ]
  },
  {
   "cell_type": "markdown",
   "metadata": {
    "slideshow": {
     "slide_type": "subslide"
    }
   },
   "source": [
    "### Formula\n",
    "\n",
    "$I$ is a measurement of how far the mass is spread from the axis. It is the second moment of the density distribution. \n",
    "\n",
    "If we take a body $\\mathcal D$ in the plane with area density $\\rho(x,y)$, and consider it rotating about the origin, then\n",
    "\n",
    "$$ I = \\iint_\\mathcal D (x^2+y^2)\\rho(x,y)\\,dA $$\n",
    "\n",
    "that is, the distance to the axis squared, weighted by mass. \n"
   ]
  },
  {
   "cell_type": "markdown",
   "metadata": {
    "slideshow": {
     "slide_type": "subslide"
    }
   },
   "source": [
    "#### Exercise\n",
    "\n",
    "Set up integrals to compute the moments of inertia for the annular region above about \n",
    "\n",
    "  - the origin\n",
    "  - the $x$-axis\n",
    "  - the line $y=-1$."
   ]
  },
  {
   "cell_type": "markdown",
   "metadata": {
    "slideshow": {
     "slide_type": "fragment"
    }
   },
   "source": [
    "![The region D spinning abut the z-axis in 3 different configurations.](constant_L.gif)"
   ]
  },
  {
   "cell_type": "markdown",
   "metadata": {
    "slideshow": {
     "slide_type": "slide"
    }
   },
   "source": [
    "# Probability\n",
    "\n",
    "Two (real) random variables $X$ and $Y$ have a joint probability density function $\\rho(x,y)$. This is simply a function on the plane with $\\rho(x,y) \\geq 0$ and \n",
    "\n",
    "$$\\iint_{\\RR^2} \\rho(x,y)\\,dA = 1.$$\n",
    "\n",
    "An **event** $E \\subset \\RR^2$ is just a subset of the sample space, and its probability is \n",
    "\n",
    "$$P(E) = \\iint_E \\rho(x,y)\\,dA$$."
   ]
  },
  {
   "cell_type": "markdown",
   "metadata": {
    "slideshow": {
     "slide_type": "subslide"
    }
   },
   "source": [
    "## Example\n",
    "\n",
    "Suppose a straw is creased at two random points along its length. What is the probability the three resulting sections can be folded into a triangle?"
   ]
  },
  {
   "cell_type": "code",
   "execution_count": 61,
   "metadata": {
    "hide_input": true,
    "slideshow": {
     "slide_type": "skip"
    }
   },
   "outputs": [
    {
     "data": {
      "application/vnd.jupyter.widget-view+json": {
       "model_id": "f1177ab32e0841eeb73f1e1645c500cb",
       "version_major": 2,
       "version_minor": 0
      },
      "text/plain": [
       "interactive(children=(FloatSlider(value=0.5, description='t', max=1.0), Output()), _dom_classes=('widget-inter…"
      ]
     },
     "metadata": {},
     "output_type": "display_data"
    }
   ],
   "source": [
    "v = np.random.rand(2)\n",
    "\n",
    "\n",
    "@interact\n",
    "def _(t=(0.,1.)):\n",
    "    v.sort()\n",
    "    x,y = v\n",
    "    \n",
    "    a = x\n",
    "    b = y-x\n",
    "    c = 1-y\n",
    "    \n",
    "    if ((a**2+b**2 - c**2)/(2*a*b))**2 <= 1:\n",
    "        alpha = np.arccos((a**2+b**2 - c**2)/(2*a*b))\n",
    "    else:\n",
    "        alpha=0\n",
    "    if ((-a**2+b**2 + c**2)/(2*c*b))**2 <= 1:\n",
    "        beta = np.arccos((-a**2+b**2 + c**2)/(2*c*b))\n",
    "    else:\n",
    "        beta=0\n",
    "    \n",
    "    fig = plt.figure(figsize=(8,8))\n",
    "    ax = fig.add_subplot(111)\n",
    "    ax.plot([a+a*cos((1-t)*pi + t * alpha),a,y,y-c*cos((1-t)*pi + t * beta)],[a*sin((1-t)*pi + t * alpha),0,0,c*sin((1-t)*pi + t * beta)])\n",
    "    ax.set_xlim([-.1,1])\n",
    "    ax.set_ylim([-.1,1])\n",
    "    ax.axis('off')\n",
    "    ax.scatter([x,y],[0,0])\n"
   ]
  },
  {
   "cell_type": "markdown",
   "metadata": {
    "slideshow": {
     "slide_type": "subslide"
    }
   },
   "source": [
    "## The Moments \n",
    "\n",
    "Moment measurements have analogous meaning in the probability context."
   ]
  },
  {
   "cell_type": "markdown",
   "metadata": {
    "slideshow": {
     "slide_type": "fragment"
    }
   },
   "source": [
    "The \"center of mass\" is in fact the **expected value** of the variables.\n",
    "\n",
    "$$(\\bar{x},\\bar{y}) = \\left( \\iint_{\\RR^2} x \\rho(x,y)\\,dA,\\iint_{\\RR^2} y \\rho(x,y)\\,dA\\right) $$"
   ]
  },
  {
   "cell_type": "markdown",
   "metadata": {
    "slideshow": {
     "slide_type": "fragment"
    }
   },
   "source": [
    "The second moments (relative to this center) give the **variances** of the respected variables. \n",
    "\n",
    "$$(\\sigma_x^2,\\sigma_{y}^2) = \\left( \\iint_{\\RR^2} (x-\\bar{x})^2 \\rho(x,y)\\,dA,\\iint_{\\RR^2} (y-\\bar{y})^2 \\rho(x,y)\\,dA\\right) $$"
   ]
  },
  {
   "cell_type": "markdown",
   "metadata": {
    "slideshow": {
     "slide_type": "fragment"
    }
   },
   "source": [
    "The list goes on \n",
    "\n",
    "  - mixed moments $\\to$ covariance\n",
    "  - 3rd moments $\\to$ skewedness\n",
    "  - 4th moments $\\to$ kurtosis\n",
    "  - $\\ldots$"
   ]
  },
  {
   "cell_type": "code",
   "execution_count": null,
   "metadata": {},
   "outputs": [],
   "source": []
  }
 ],
 "metadata": {
  "celltoolbar": "Slideshow",
  "kernelspec": {
   "display_name": "Python 3",
   "language": "python",
   "name": "python3"
  },
  "language_info": {
   "codemirror_mode": {
    "name": "ipython",
    "version": 3
   },
   "file_extension": ".py",
   "mimetype": "text/x-python",
   "name": "python",
   "nbconvert_exporter": "python",
   "pygments_lexer": "ipython3",
   "version": "3.7.3"
  },
  "rise": {
   "enable_chalkboard": true,
   "scroll": true,
   "theme": "sky",
   "transition": "concave"
  }
 },
 "nbformat": 4,
 "nbformat_minor": 2
}
