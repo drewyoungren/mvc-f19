{
 "cells": [
  {
   "cell_type": "code",
   "execution_count": 5,
   "metadata": {
    "slideshow": {
     "slide_type": "skip"
    }
   },
   "outputs": [],
   "source": [
    "import numpy as np\n",
    "import matplotlib.pyplot as plt\n",
    "from IPython.display import display, HTML, IFrame\n",
    "from ipywidgets import interact,fixed\n",
    "import pandas as pd\n",
    "from mpl_toolkits import mplot3d\n",
    "from mpl_toolkits.mplot3d import axes3d\n",
    "from matplotlib.patches import FancyArrowPatch\n",
    "from mpl_toolkits.mplot3d import proj3d\n",
    "\n",
    "plt.rcParams[\"figure.figsize\"] = [12, 9]\n",
    "\n",
    "from numpy.linalg import norm\n",
    "from numpy import cos,sin,tan,arctan,exp,log,pi,sqrt"
   ]
  },
  {
   "cell_type": "markdown",
   "metadata": {
    "slideshow": {
     "slide_type": "notes"
    }
   },
   "source": [
    "$\\newcommand{\\RR}{\\mathbb{R}}$\n",
    "$\\newcommand{\\bv}[1]{\\begin{bmatrix} #1 \\end{bmatrix}}$\n",
    "$\\renewcommand{\\vec}{\\mathbf}$\n"
   ]
  },
  {
   "cell_type": "markdown",
   "metadata": {
    "hide_input": true,
    "slideshow": {
     "slide_type": "slide"
    }
   },
   "source": [
    "## Announcements\n",
    "\n",
    "  - Quiz 4 in recitation this week. \n",
    "    - partial derivatives\n",
    "  - Homework 5 posted, due 10/08\n",
    "  - First midterm exam - Thur 10/10\n",
    "    - No quiz that week!\n",
    "    - review material in Canvas under \"Files $\\to$ practice\"\n",
    "    - Review sessions TBA.\n",
    "    "
   ]
  },
  {
   "cell_type": "markdown",
   "metadata": {
    "slideshow": {
     "slide_type": "slide"
    }
   },
   "source": [
    "# One-minute Review\n",
    "\n",
    "The **linearization** of a differential function $f(x,y,z)$ about a point $(a,b,c)$ is the linear function $$L(x,y,z) = f(a,b,c) + f_x(a,b,c)(x-a) + f_y(a,b,c)(y-b) + f_z(a,b,c)(z-c).$$\n",
    "\n",
    "Its graph is tangent to the graph of $f$. "
   ]
  },
  {
   "cell_type": "markdown",
   "metadata": {
    "slideshow": {
     "slide_type": "slide"
    }
   },
   "source": [
    "# Lecture 10\n",
    "\n",
    "  - Objectives\n",
    "    - Compute derivatives of compositions.\n",
    "    - Compute derivatives from implicit relations.\n",
    "    - Review for midterm.\n",
    "    \n",
    "  - Resources\n",
    "    - Content\n",
    "      - Stewart: §14.5\n",
    "      - New Strang: [§4.5](https://cnx.org/contents/oxzXkyFi@6.1:8QoqMp7K@7/4-5-The-Chain-Rule)\n",
    "      - [Slides](https://hub.columbiajupyter2.org/hub/user-redirect/git-pull?repo=https%3A%2F%2Fgithub.com%2Fdrewyoungren%2Fmvc-f19&urlpath=tree%2Fmvc-f19%2Fslides%2Fmvc-L10.ipynb) via JupyterHub\n",
    "    - Practice\n",
    "      - Mooculus: [Chain Rule](https://ximera.osu.edu/mooculus/calculus3/directionalDerivativeAndChainRule/digInChainRule)\n",
    "    - Extras\n",
    "      - CalcBLUE: WARNING! This is very matrix-dependent (and thus extra) [The Chain Rule](https://youtu.be/3WtjD3bewBk) "
   ]
  },
  {
   "cell_type": "markdown",
   "metadata": {
    "slideshow": {
     "slide_type": "slide"
    }
   },
   "source": [
    "## Theorem of Differentiability\n",
    "\n",
    "If all partial derivatives $\\frac{\\partial f}{\\partial x_i}$ are continuous in a neighborhood of a point $P$, then $f$ is diffferentiable at $P$. "
   ]
  },
  {
   "cell_type": "markdown",
   "metadata": {
    "slideshow": {
     "slide_type": "fragment"
    }
   },
   "source": [
    "#### Nonexample\n",
    "\n",
    "Consider $$f(x,y) = \\frac{xy}{x^2 + y^2}.$$"
   ]
  },
  {
   "cell_type": "markdown",
   "metadata": {
    "slideshow": {
     "slide_type": "slide"
    }
   },
   "source": [
    "# The Chain Rule\n",
    "\n",
    "Start by recalling the 1-D chain rule $$(f\\circ g)'(x) = f'(g(x))g'(x)$$"
   ]
  },
  {
   "cell_type": "markdown",
   "metadata": {
    "slideshow": {
     "slide_type": "fragment"
    }
   },
   "source": [
    "or if $u=g(x)$, $$ \\frac{df}{dx} = \\frac{df}{du}\\frac{du}{dx}$$ where the derivatives are evaluated at the appropriate point."
   ]
  },
  {
   "cell_type": "markdown",
   "metadata": {
    "slideshow": {
     "slide_type": "subslide"
    }
   },
   "source": [
    "## The main problem\n",
    "\n",
    "Suppose a hiking party charts a route on a map given by $\\langle x(t),y(t) \\rangle$ where the altitude is given by a function $f(x,y)$.\n",
    "\n",
    "What is $\\frac{df}{dt}$ at a given time $t_0$?"
   ]
  },
  {
   "cell_type": "code",
   "execution_count": 25,
   "metadata": {
    "hide_input": false,
    "scrolled": false,
    "slideshow": {
     "slide_type": "fragment"
    }
   },
   "outputs": [
    {
     "data": {
      "application/vnd.jupyter.widget-view+json": {
       "model_id": "396c405e988c4e2c82a54d50d871bacd",
       "version_major": 2,
       "version_minor": 0
      },
      "text/plain": [
       "interactive(children=(IntSlider(value=12, description='angle', max=120, min=-90, step=6), IntSlider(value=42, …"
      ]
     },
     "metadata": {},
     "output_type": "display_data"
    }
   ],
   "source": [
    "f = lambda x,y: exp(-4*(y-sin(x))**2)*(1-np.abs(x+pi/2)/5)\n",
    "\n",
    "@interact\n",
    "def _(func=fixed(f),angle=(-90,120,6),vangle=(0,90,6),pt=(1,98)):\n",
    "    pt = 99-pt\n",
    "    fig = plt.figure(figsize = (12,6))\n",
    "    ax = fig.add_subplot(121,projection='3d')\n",
    "    ax.view_init(vangle,angle)\n",
    "    for c in 'xyz':\n",
    "#         getattr(ax,f\"set_{c}lim\")([-1,1]);    \n",
    "        getattr(ax,f\"set_{c}label\")(f\"${c}$\",size=16)\n",
    "    x =  np.linspace(-4,4,601)\n",
    "    y =  np.linspace(-2,2,301)    \n",
    "    X,Y = np.meshgrid(x,y)\n",
    "    Z = func(X,Y)\n",
    "    ax.plot_surface(X,Y,Z,alpha=.6,cmap='ocean',rcount=100,ccount=100);\n",
    "    t = np.linspace(-pi/2,pi/2,100)\n",
    "    X = t\n",
    "    Y = t/pi - 1/2 - t*(t**2-pi**2/4)/5\n",
    "    Z = func(X,Y)\n",
    "    ax.plot(X,Y,Z,lw=6,color='r',alpha=1)\n",
    "    ax2 = fig.add_subplot(122)\n",
    "    ax2.plot((pi/2-t)/pi*4,Z)\n",
    "    ax2.set_xlabel(\"$t$\",size=16)\n",
    "    ax2.set_ylabel(\"$z$\",size=16)\n",
    "    dt = t[pt+1]-t[pt-1]\n",
    "    dx = X[pt+1]-X[pt-1]\n",
    "    dy = Y[pt+1]-Y[pt-1]\n",
    "    dz = Z[pt+1]-Z[pt-1]\n",
    "    s = np.linspace(-20,20,100)\n",
    "    ax.plot(X[pt] + dx*s,Y[pt] + dy*s,Z[pt] + dz*s,lw=4)\n",
    "    ax.set_zlim3d([0,1])\n",
    "    ax2.plot((pi/2-t)/pi*4,dz/dt*(t-t[pt])+Z[pt])\n",
    "    ax2.set_ylim([0,1])"
   ]
  },
  {
   "cell_type": "markdown",
   "metadata": {
    "slideshow": {
     "slide_type": "subslide"
    }
   },
   "source": [
    "##### Clue: replace $f$ with $L$"
   ]
  },
  {
   "cell_type": "code",
   "execution_count": 35,
   "metadata": {
    "hide_input": true
   },
   "outputs": [
    {
     "data": {
      "application/vnd.jupyter.widget-view+json": {
       "model_id": "d667a55fa3ab456895fa64dbff7769ea",
       "version_major": 2,
       "version_minor": 0
      },
      "text/plain": [
       "interactive(children=(IntSlider(value=-46, description='angle', max=14, min=-100, step=6), Output()), _dom_cla…"
      ]
     },
     "metadata": {},
     "output_type": "display_data"
    }
   ],
   "source": [
    "@interact\n",
    "def _(angle=(-100,14,6)):\n",
    "    fig = plt.figure()\n",
    "    ax = fig.add_subplot(111,projection='3d')\n",
    "    x = y = np.linspace(0,2,75)\n",
    "    x,y = np.meshgrid(x,y)\n",
    "    ax.view_init(30,angle)\n",
    "    for c in 'xyz':\n",
    "    #         getattr(ax,f\"set_{c}lim\")([-1,1]);    \n",
    "        getattr(ax,f\"set_{c}label\")(f\"${c}$\",size=16)\n",
    "    ax.plot_surface(x,y,-(x-2)**2 - (y-2)**2/2,alpha=.5)\n",
    "    ax.plot_surface(x,y,2*(x-1) + (y-1) -3/2,alpha=.5)\n",
    "    t = np.linspace(0,2,50)\n",
    "    ax.plot(t,t,-(t-2)**2 - (t-2)**2/2)\n",
    "    ax.plot(t,t,2*(t-1) + (t-1) - 3/2);"
   ]
  },
  {
   "cell_type": "markdown",
   "metadata": {
    "slideshow": {
     "slide_type": "fragment"
    }
   },
   "source": [
    "That is, linearize $f$ around the point $a,b) = (x(t_0),y(t_0)$.\n",
    "\n",
    "$$\\frac{d}{dt} f(x(t),y(t)) = \\frac{d}{dt} L(x(t),y(t))$$"
   ]
  },
  {
   "cell_type": "markdown",
   "metadata": {
    "slideshow": {
     "slide_type": "fragment"
    }
   },
   "source": [
    "$$= \\frac{d}{dt} \\left( f(a,b) + f_x(a,b)(x(t)-a) + f_y(a,b)(y(t) - b)\\right)$$"
   ]
  },
  {
   "cell_type": "markdown",
   "metadata": {
    "slideshow": {
     "slide_type": "fragment"
    }
   },
   "source": [
    "$$= f_x(a,b) x'(t) + f_y(a,b) y'(t)$$"
   ]
  },
  {
   "cell_type": "markdown",
   "metadata": {
    "slideshow": {
     "slide_type": "fragment"
    }
   },
   "source": [
    "$$= \\frac{\\partial f}{\\partial x}\\frac{dx}{dt} + \\frac{\\partial f}{\\partial y}\\frac{dy}{dt}$$ where, again, we're careful to evaluate the partials at the appropriate point."
   ]
  },
  {
   "cell_type": "markdown",
   "metadata": {
    "slideshow": {
     "slide_type": "slide"
    }
   },
   "source": [
    "# The Chain Rule\n",
    "\n",
    "If $f(x_1,\\ldots,x_n)$ is differentiable at $\\vec x_0 = \\langle x_1(t_0),\\ldots,x_n(t_0) \\rangle$ and each $x_i$ is differetiable at $t_0$, then \n",
    "\n",
    "$$ \\frac {df}{dt}\\Big|_{t_0} = \\sum_{i=1}^n \\frac{\\partial f}{\\partial x_1}\\Big|_{\\vec x_0}\\frac{dx}{dt}\\Big|_{t_0} $$"
   ]
  },
  {
   "cell_type": "markdown",
   "metadata": {
    "slideshow": {
     "slide_type": "subslide"
    }
   },
   "source": [
    "#### Definition\n",
    "\n",
    "This is more easily expressed using the **gradient** vector of a function $$\\nabla f = \\begin{bmatrix} f_{x_1} \\\\ f_{x_2} \\\\ \\vdots \\\\ f_{x_n} \\end{bmatrix}$$\n",
    "\n",
    "*There will be **much** more to say about this later; for now, just treat it as notation.*"
   ]
  },
  {
   "cell_type": "markdown",
   "metadata": {
    "slideshow": {
     "slide_type": "fragment"
    }
   },
   "source": [
    "Thus for differetiable functions $f:\\RR^n\\to \\RR$ and $\\vec r: \\RR \\to \\RR^n$, the composition has derivative $$\\frac{d}{dt} f(\\vec r(t)) = \\nabla f(\\vec r(t))\\cdot \\vec r'(t).$$"
   ]
  },
  {
   "cell_type": "markdown",
   "metadata": {
    "slideshow": {
     "slide_type": "subslide"
    }
   },
   "source": [
    "## Other forms\n",
    "\n",
    "Other cases can be handled by extrapolatig from the case above. \n",
    "\n",
    "$$\\frac{\\partial}{\\partial t} f(x(s,t),y(s,t),z(s,t)) = \\frac{\\partial f}{\\partial x} \\frac{\\partial x}{\\partial t} + \\frac{\\partial f}{\\partial y}\\frac{\\partial y}{\\partial t} +\\frac{\\partial f}{\\partial z}\\frac{\\partial z}{\\partial t} $$\n"
   ]
  },
  {
   "cell_type": "markdown",
   "metadata": {
    "slideshow": {
     "slide_type": "subslide"
    }
   },
   "source": [
    "### Example\n",
    "\n",
    "A particle circles the $z$-axis every second at a distance of 1 unit. If it is confined to the surface $z=xy$, find the maximum of $\\frac{dz}{dt}$."
   ]
  },
  {
   "cell_type": "markdown",
   "metadata": {
    "slideshow": {
     "slide_type": "subslide"
    }
   },
   "source": [
    "### Exercises\n",
    "\n",
    "  1. ![Wheat problem from Stewart](wheat-problem.png)\n",
    "\n",
    "  2. Suppose \n",
    "\\begin{align} \n",
    "z &= z(x,y) \\\\\n",
    "x &= x(u,v) \\\\\n",
    "y &= y(u,v) \\\\\n",
    "u &= u(s,t) \\\\\n",
    "v &= v(s,t) \\\\\n",
    "\\end{align}\n",
    "are all differetiable. Find an expression for $\\frac{\\partial z}{\\partial s}$."
   ]
  },
  {
   "cell_type": "markdown",
   "metadata": {
    "slideshow": {
     "slide_type": "slide"
    }
   },
   "source": [
    "## Example\n",
    "\n",
    "If $g:\\RR\\to\\RR$ is any smooth function, show that $f(x,y) = g(x^2+y^2)$ is radially symmetric. That is, $\\frac{\\partial f}{\\partial \\theta} =0$"
   ]
  },
  {
   "cell_type": "markdown",
   "metadata": {
    "slideshow": {
     "slide_type": "slide"
    }
   },
   "source": [
    "# Implicit differentiation\n",
    "\n",
    "Everything  implicit relationship among variables $x$ and $y$ ca nbe expressed as a level set $$ F(x,y) = c. $$"
   ]
  },
  {
   "cell_type": "markdown",
   "metadata": {
    "slideshow": {
     "slide_type": "fragment"
    }
   },
   "source": [
    "To find the rae of change $\\frac{dy}{dx}$ determined by this relation, we ca nbe clever and differenntiate the whole expressio nwith respect to $x$. "
   ]
  },
  {
   "cell_type": "markdown",
   "metadata": {
    "slideshow": {
     "slide_type": "fragment"
    }
   },
   "source": [
    "$$ \\frac{d}{dx}F(x,y) = 0$$"
   ]
  },
  {
   "cell_type": "markdown",
   "metadata": {
    "slideshow": {
     "slide_type": "fragment"
    }
   },
   "source": [
    "**WARNING** Mind your $d$'s and $\\partial$'s."
   ]
  },
  {
   "cell_type": "markdown",
   "metadata": {
    "slideshow": {
     "slide_type": "fragment"
    }
   },
   "source": [
    "$$ \\frac{d}{dx}F(x,y(x)) = 0$$"
   ]
  },
  {
   "cell_type": "markdown",
   "metadata": {
    "slideshow": {
     "slide_type": "fragment"
    }
   },
   "source": [
    "$$ \\frac{\\partial F}{\\partial x}\\frac{dx}{dx} + \\frac{\\partial F}{\\partial y}\\frac{dy}{dx} = 0$$"
   ]
  },
  {
   "cell_type": "markdown",
   "metadata": {
    "slideshow": {
     "slide_type": "fragment"
    }
   },
   "source": [
    "$$ \\frac{dy}{dx} = -\\frac{F_x}{F_y}$$"
   ]
  },
  {
   "cell_type": "code",
   "execution_count": null,
   "metadata": {},
   "outputs": [],
   "source": []
  }
 ],
 "metadata": {
  "celltoolbar": "Slideshow",
  "kernelspec": {
   "display_name": "Python 3",
   "language": "python",
   "name": "python3"
  },
  "language_info": {
   "codemirror_mode": {
    "name": "ipython",
    "version": 3
   },
   "file_extension": ".py",
   "mimetype": "text/x-python",
   "name": "python",
   "nbconvert_exporter": "python",
   "pygments_lexer": "ipython3",
   "version": "3.7.3"
  },
  "rise": {
   "enable_chalkboard": true,
   "scroll": true,
   "theme": "sky",
   "transition": "concave"
  }
 },
 "nbformat": 4,
 "nbformat_minor": 2
}
