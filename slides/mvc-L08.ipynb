{
 "cells": [
  {
   "cell_type": "code",
   "execution_count": 1,
   "metadata": {
    "slideshow": {
     "slide_type": "skip"
    }
   },
   "outputs": [],
   "source": [
    "import numpy as np\n",
    "import matplotlib.pyplot as plt\n",
    "from IPython.display import display, HTML, IFrame\n",
    "from ipywidgets import interact,fixed\n",
    "import pandas as pd\n",
    "from mpl_toolkits import mplot3d\n",
    "from mpl_toolkits.mplot3d import axes3d\n",
    "from matplotlib.patches import FancyArrowPatch\n",
    "from mpl_toolkits.mplot3d import proj3d\n",
    "\n",
    "plt.rcParams[\"figure.figsize\"] = [12, 9]\n",
    "\n",
    "from numpy.linalg import norm\n",
    "from numpy import cos,sin,tan,arctan,exp,log,pi,sqrt"
   ]
  },
  {
   "cell_type": "markdown",
   "metadata": {
    "slideshow": {
     "slide_type": "notes"
    }
   },
   "source": [
    "$\\newcommand{\\RR}{\\mathbb{R}}$\n",
    "$\\newcommand{\\bv}[1]{\\begin{bmatrix} #1 \\end{bmatrix}}$\n",
    "$\\renewcommand{\\vec}{\\mathbf}$\n"
   ]
  },
  {
   "cell_type": "markdown",
   "metadata": {
    "hide_input": true,
    "slideshow": {
     "slide_type": "slide"
    }
   },
   "source": [
    "## Announcements\n",
    "\n",
    "  - Quiz 3 in recitation this week. \n",
    "    - Curves, tangents\n",
    "    - Motion\n",
    "    - Arc length\n",
    "  - Homework 4 posted, due 10/01\n",
    "  - CA Help Room (New Rooms!) open \n",
    "    - Thur 7–9pm - ET 253\n",
    "    - Sun 3–5pm - Mudd 337\n",
    "    - Mon 7–9pm - ET 253\n",
    "    "
   ]
  },
  {
   "cell_type": "markdown",
   "metadata": {
    "slideshow": {
     "slide_type": "slide"
    }
   },
   "source": [
    "# One-minute Review\n",
    "\n",
    "A **scalar field** (e.g., $f(x,y)$) is a function of several variables. Its **domain** is the subset of input values in $\\RR^n$; its **image** is the set of output values in $\\RR$.\n",
    "\n",
    "**Level sets** (\"curves\" for functions of 2 variables) are sets of input points associated to a particular output. For example, contour lines on a topographical map.\n",
    "\n",
    "![Map of Adirondack region](https://www.nyroute28.com/maps/oldforgetopo.jpg)"
   ]
  },
  {
   "cell_type": "markdown",
   "metadata": {
    "slideshow": {
     "slide_type": "subslide"
    }
   },
   "source": [
    "## Level Curves"
   ]
  },
  {
   "cell_type": "code",
   "execution_count": 30,
   "metadata": {
    "hide_input": false,
    "scrolled": false,
    "slideshow": {
     "slide_type": "fragment"
    }
   },
   "outputs": [
    {
     "data": {
      "application/vnd.jupyter.widget-view+json": {
       "model_id": "01c7b32d90bd45d5a25bcdc97da37986",
       "version_major": 2,
       "version_minor": 0
      },
      "text/plain": [
       "interactive(children=(FloatSlider(value=0.505, description='lev', max=1.0, min=0.01), Dropdown(description='pr…"
      ]
     },
     "metadata": {},
     "output_type": "display_data"
    }
   ],
   "source": [
    "f = lambda x,y: x*y\n",
    "g = lambda x,y: x*sin(y)\n",
    "h = lambda x,y: sqrt(4-x**2-y**2)\n",
    "k = lambda x,y: log(x**2+y**2)\n",
    "l = lambda x,y: exp((x-y)*log(2))\n",
    "\n",
    "\n",
    "@interact\n",
    "def _(lev=(0.01,1.),prob={\"1\":[f,r\"$z = x y$\"],\"2\":[g,r\"$z = x \\sin(y)$\"],\"3\":[h,r\"$z = \\sqrt{4-x^2-y^2}$\"],\"4\":[k,r\"$z = \\ln (x^2+y^2)$\"],\"5\":[l,r\"$z = 2^{x-y}$\"]},angle=(-90,120,6),vangle=(0,90,6)):\n",
    "    func,fs = prob\n",
    "    fig = plt.figure(figsize = (12,6))\n",
    "    ax = fig.add_subplot(121,projection='3d')\n",
    "    ax.view_init(vangle,angle)\n",
    "    for c in 'xyz':\n",
    "#         getattr(ax,f\"set_{c}lim\")([-1,1]);    \n",
    "        getattr(ax,f\"set_{c}label\")(f\"${c}$\",size=16)\n",
    "    x = y = np.linspace(-1,1,400)\n",
    "    X,Y = np.meshgrid(x,y)\n",
    "    if func == h:\n",
    "        x = np.linspace(0,2*pi,100)\n",
    "        y = np.linspace(0,1.99,100)\n",
    "        x,y = np.meshgrid(x,y)\n",
    "        X = y*cos(x)\n",
    "        Y = y*sin(x)\n",
    "        ax.set_zlim3d([0,4])\n",
    "    else:\n",
    "        X = 5*X\n",
    "        Y = 5*Y\n",
    "    Z = func(X,Y)\n",
    "#     ax.set_autoscale_on(True)\n",
    "    ax.plot_surface(X,Y,Z,alpha=.3,cmap='viridis',rcount=75,ccount=75);\n",
    "    k = np.max(Z)*(lev)+(1-lev)*np.min(Z)\n",
    "    ax.contour(X,Y,Z,offset=k,levels=[k],colors=['red'])\n",
    "    ax.set_title(fs)\n",
    "    ax2 = fig.add_subplot(122)\n",
    "    cp = ax2.contour(X,Y,Z,cmap='viridis');\n",
    "    # fig.colorbar(cp); # for colorbar reference\n",
    "    ax2.clabel(cp,fmt='%1.1f'); # inline counour labels.\n",
    "    cp2 = ax2.contour(X,Y,Z,levels=[k],colors=['red'])\n",
    "    ax2.clabel(cp2,fmt='%1.1f'); # inline counour labels."
   ]
  },
  {
   "cell_type": "markdown",
   "metadata": {
    "slideshow": {
     "slide_type": "slide"
    }
   },
   "source": [
    "# Lecture 08\n",
    "\n",
    "  - Objectives\n",
    "\n",
    "    - Explore limits and continuity of $f(x,y)$.\n",
    "    - Define partial derivatives\n",
    "    - Estimate partial derivatives from contour maps and tables.\n",
    "  \n",
    "  - Resources\n",
    "    - Content\n",
    "      - Stewart: §14.2—3\n",
    "      - New Strang: [§4.2](https://cnx.org/contents/oxzXkyFi@5.30:2YObsFkq@7/4-2-Limits-and-Continuity)\n",
    "      - [Slides](https://hub.columbiajupyter2.org/hub/user-redirect/git-pull?repo=https%3A%2F%2Fgithub.com%2Fdrewyoungren%2Fmvc-f19&urlpath=tree%2Fmvc-f19%2Fslides%2Fmvc-L08.ipynb) via JupyterHub\n",
    "    - Visualization\n",
    "      - [CalcPlot3D](https://www.monroecc.edu/faculty/paulseeburger/calcnsf/CalcPlot3D/)\n",
    "    - Practice\n",
    "      - Mooculus: [Continuity](https://ximera.osu.edu/mooculus/calculus3/continuityOfFunctionsOfSeveralVariables/digInContinuity) [Partial Derivatives](https://ximera.osu.edu/mooculus/calculus3/partialDerivativesAndTheGradientVector/digInPartialDerivatives)\n",
    "    - Extras\n",
    "      - CalcBLUE: [Partial Derivatives](https://youtu.be/3QqfUIbQpfg)"
   ]
  },
  {
   "cell_type": "markdown",
   "metadata": {
    "slideshow": {
     "slide_type": "slide"
    }
   },
   "source": [
    "# Limits\n",
    "\n",
    "Consider a function $f:\\RR^n \\to \\RR$ as mapping vectors to scalars. We write $$\\lim_{\\vec x \\to \\vec p} f(\\vec x) = L$$ if $|f(\\vec x) - L|$ can be made arbitrarily small by making $|\\vec x - \\vec p|$ sufficiently small. "
   ]
  },
  {
   "cell_type": "markdown",
   "metadata": {
    "slideshow": {
     "slide_type": "subslide"
    }
   },
   "source": [
    "# Limits in $\\RR^2$\n",
    "\n",
    "Consider a function $f:\\RR^2 \\to \\RR$ as mapping vectors to scalars. We write $$\\lim_{(x,y) \\to (a,b)} f(x,y) = L$$ if $|f(x,y) - L|$ can be made arbitrarily small by making $\\sqrt{(x-a)^2+(y-b)^2}$ sufficiently small. "
   ]
  },
  {
   "cell_type": "markdown",
   "metadata": {
    "slideshow": {
     "slide_type": "subslide"
    }
   },
   "source": [
    "### Examples\n",
    "\n",
    "See [This screencast](https://youtu.be/EQUBHl3X7oU) for a few more/more detail. "
   ]
  },
  {
   "cell_type": "code",
   "execution_count": 31,
   "metadata": {
    "hide_input": true,
    "scrolled": false,
    "slideshow": {
     "slide_type": "fragment"
    }
   },
   "outputs": [
    {
     "data": {
      "application/vnd.jupyter.widget-view+json": {
       "model_id": "659115eeb2044cee9362e30fcf30901c",
       "version_major": 2,
       "version_minor": 0
      },
      "text/plain": [
       "interactive(children=(FloatSlider(value=0.505, description='lev', max=1.0, min=0.01), Dropdown(description='pr…"
      ]
     },
     "metadata": {},
     "output_type": "display_data"
    }
   ],
   "source": [
    "f = lambda x,y: (x**2 + y**2)\n",
    "g = lambda x,y: x*y/(x**2 + y**2)\n",
    "h = lambda x,y: x*y/sqrt(x**2 + y**2)\n",
    "\n",
    "\n",
    "@interact\n",
    "def _(lev=(0.01,1.),prob={\"1\":[f,r\"$z = x^2 + y^2$\"],\"2\":[g,r\"$z = \\frac{xy}{x^2 + y^2}$\"],\"3\":[h,r\"$z = \\frac{xy}{\\sqrt{x^2+ y^2}}$\"]},angle=(-90,120,6),vangle=(0,90,6)):\n",
    "    func,fs = prob\n",
    "    fig = plt.figure(figsize = (12,6))\n",
    "    ax = fig.add_subplot(121,projection='3d')\n",
    "    ax.view_init(vangle,angle)\n",
    "    for c in 'xyz':\n",
    "#         getattr(ax,f\"set_{c}lim\")([-1,1]);    \n",
    "        getattr(ax,f\"set_{c}label\")(f\"${c}$\",size=16)\n",
    "    x = y = np.linspace(-1,1,400)\n",
    "    X,Y = np.meshgrid(x,y)\n",
    "    Z = func(X,Y)\n",
    "#     ax.set_autoscale_on(True)\n",
    "    ax.plot_surface(X,Y,Z,alpha=.7,cmap='viridis',rcount=75,ccount=75);\n",
    "    k = np.max(Z)*(lev)+(1-lev)*np.min(Z)\n",
    "    ax.contour(X,Y,Z,offset=k,levels=[k],colors=['red'])\n",
    "    ax.set_title(fs)\n",
    "    ax2 = fig.add_subplot(122)\n",
    "    cp = ax2.contour(X,Y,Z,cmap='viridis');\n",
    "    # fig.colorbar(cp); # for colorbar reference\n",
    "    ax2.clabel(cp,fmt='%1.1f'); # inline counour labels.\n",
    "    cp2 = ax2.contour(X,Y,Z,levels=[k],colors=['red'])\n",
    "    ax2.clabel(cp2,fmt='%1.1f'); # inline counour labels."
   ]
  },
  {
   "cell_type": "markdown",
   "metadata": {
    "slideshow": {
     "slide_type": "slide"
    }
   },
   "source": [
    "# Rates of Change\n",
    "\n",
    "Limits went well. Let's try derivatives as a limit of a difference quotient. \n",
    "\n",
    "$$ \\lim_{\\langle x,y\\rangle \\to \\langle a,b \\rangle} \\frac{f(x,y) - f(a,b)}{\\langle x,y\\rangle - \\langle a,b \\rangle}$$"
   ]
  },
  {
   "cell_type": "markdown",
   "metadata": {
    "slideshow": {
     "slide_type": "fragment"
    }
   },
   "source": [
    "# Blech!"
   ]
  },
  {
   "cell_type": "markdown",
   "metadata": {
    "slideshow": {
     "slide_type": "fragment"
    }
   },
   "source": [
    "**One cannot divide by vectors!**"
   ]
  },
  {
   "cell_type": "markdown",
   "metadata": {
    "slideshow": {
     "slide_type": "subslide"
    }
   },
   "source": [
    "## A sensible question\n",
    "\n",
    "A group of hikers follows a curving path up a mountain ridge. How steep is their path at the halfway point?\n"
   ]
  },
  {
   "cell_type": "code",
   "execution_count": 32,
   "metadata": {
    "hide_input": true,
    "scrolled": false,
    "slideshow": {
     "slide_type": "fragment"
    }
   },
   "outputs": [
    {
     "data": {
      "application/vnd.jupyter.widget-view+json": {
       "model_id": "00428be74bf54b6c8e7fecfe4ded9ac8",
       "version_major": 2,
       "version_minor": 0
      },
      "text/plain": [
       "interactive(children=(IntSlider(value=12, description='angle', max=120, min=-90, step=6), IntSlider(value=42, …"
      ]
     },
     "metadata": {},
     "output_type": "display_data"
    }
   ],
   "source": [
    "f = lambda x,y: exp(-4*(y-sin(x))**2)*(1-np.abs(x+pi/2)/5)\n",
    "\n",
    "\n",
    "\n",
    "@interact\n",
    "def _(func=fixed(f),angle=(-90,120,6),vangle=(0,90,6)):\n",
    "    fig = plt.figure(figsize = (12,6))\n",
    "    ax = fig.add_subplot(111,projection='3d')\n",
    "    ax.view_init(vangle,angle)\n",
    "    for c in 'xyz':\n",
    "#         getattr(ax,f\"set_{c}lim\")([-1,1]);    \n",
    "        getattr(ax,f\"set_{c}label\")(f\"${c}$\",size=16)\n",
    "    x =  np.linspace(-4,4,601)\n",
    "    y =  np.linspace(-2,2,301)    \n",
    "    X,Y = np.meshgrid(x,y)\n",
    "    Z = func(X,Y)\n",
    "    ax.plot_surface(X,Y,Z,alpha=.6,cmap='ocean',rcount=100,ccount=100);\n",
    "    t = np.linspace(-pi/2,pi/2,100)\n",
    "    X = t\n",
    "    Y = t/pi - 1/2 - t*(t**2-pi**2/4)/5\n",
    "    Z = func(X,Y)\n",
    "    ax.plot(X,Y,Z,lw=6,color='r',alpha=1)"
   ]
  },
  {
   "cell_type": "markdown",
   "metadata": {
    "slideshow": {
     "slide_type": "subslide"
    }
   },
   "source": [
    "# Partial Derivatives\n",
    "\n",
    "We start by considering \"one direction at a time\".\n",
    "\n",
    "The **partial derivative** of a function $f(x,y)$ with respect to $x$ at the point $(a,b)$ is $$f_x(a,b) = \\lim_{h\\to 0} \\frac{f(a+h,b) - f(a,b)}{h}.$$"
   ]
  },
  {
   "cell_type": "markdown",
   "metadata": {
    "slideshow": {
     "slide_type": "fragment"
    }
   },
   "source": [
    "\n",
    "The **partial derivative** of a function $f(x,y)$ with respect to $y$ at the point $(a,b)$ is $$f_y(a,b) = \\lim_{h\\to 0} \\frac{f(a,b+h) - f(a,b)}{h}.$$"
   ]
  },
  {
   "cell_type": "code",
   "execution_count": 33,
   "metadata": {
    "hide_input": false,
    "slideshow": {
     "slide_type": "subslide"
    }
   },
   "outputs": [
    {
     "data": {
      "application/vnd.jupyter.widget-view+json": {
       "model_id": "c22e87d4f61747c98c5b013ae519fc05",
       "version_major": 2,
       "version_minor": 0
      },
      "text/plain": [
       "interactive(children=(IntSlider(value=12, description='angle', max=120, min=-90, step=6), IntSlider(value=42, …"
      ]
     },
     "metadata": {},
     "output_type": "display_data"
    }
   ],
   "source": [
    "f = lambda x,y: exp(-4*(y-sin(x))**2)*(1-np.abs(x+pi/2)/5)\n",
    "\n",
    "\n",
    "\n",
    "@interact\n",
    "def _(func=fixed(f),angle=(-90,120,6),vangle=(0,90,6),var=['x','y']):\n",
    "    fig = plt.figure(figsize = (12,6))\n",
    "    ax = fig.add_subplot(111,projection='3d')\n",
    "    ax.view_init(vangle,angle)\n",
    "    for c in 'xyz':\n",
    "#         getattr(ax,f\"set_{c}lim\")([-1,1]);    \n",
    "        getattr(ax,f\"set_{c}label\")(f\"${c}$\",size=16)\n",
    "    x =  np.linspace(-4,4,601)\n",
    "    y =  np.linspace(-2,2,301)    \n",
    "    X,Y = np.meshgrid(x,y)\n",
    "    Z = func(X,Y)\n",
    "    ax.plot_surface(X,Y,Z,alpha=.6,cmap='ocean',rcount=100,ccount=100);\n",
    "    t = np.linspace(-pi,pi,100)\n",
    "    X = t\n",
    "    Y = np.zeros_like(X)\n",
    "    if var == 'y':\n",
    "        X,Y = Y,X\n",
    "    Z = func(X,Y)\n",
    "    ax.plot(X,Y,Z,lw=6,color='r',alpha=1)"
   ]
  },
  {
   "cell_type": "code",
   "execution_count": 29,
   "metadata": {
    "hide_input": false,
    "slideshow": {
     "slide_type": "skip"
    }
   },
   "outputs": [
    {
     "data": {
      "application/vnd.jupyter.widget-view+json": {
       "model_id": "58dd7eb815e44b2b84a35f862632b78f",
       "version_major": 2,
       "version_minor": 0
      },
      "text/plain": [
       "interactive(children=(IntSlider(value=12, description='angle', max=120, min=-90, step=6), IntSlider(value=42, …"
      ]
     },
     "metadata": {},
     "output_type": "display_data"
    }
   ],
   "source": [
    "f = lambda x,y: exp(-4*(y-sin(x))**2)*(1-np.abs(x+pi/2)/5)\n",
    "\n",
    "\n",
    "\n",
    "@interact\n",
    "def _(func=fixed(f),angle=(-90,120,6),vangle=(0,90,6),var=['x','y']):\n",
    "    fig = plt.figure(figsize = (12,6))\n",
    "    ax = fig.add_subplot(111,projection='3d')\n",
    "    ax.view_init(vangle,angle)\n",
    "    for c in 'xyz':\n",
    "#         getattr(ax,f\"set_{c}lim\")([-1,1]);    \n",
    "        getattr(ax,f\"set_{c}label\")(f\"${c}$\",size=16)\n",
    "    x =  np.linspace(-4,4,601)\n",
    "    y =  np.linspace(-2,2,301)    \n",
    "    X,Y = np.meshgrid(x,y)\n",
    "    Z = func(X,Y)\n",
    "    ax.plot_surface(X,Y,Z,alpha=.6,cmap='ocean',rcount=100,ccount=100);\n",
    "    t = np.linspace(-pi,pi,100)\n",
    "    X = t\n",
    "    Y = np.zeros_like(X)\n",
    "    if var == 'y':\n",
    "        X,Y = Y,X\n",
    "    Z = func(X,Y)\n",
    "    ax.plot(X,Y,Z,lw=6,color='r',alpha=1)"
   ]
  },
  {
   "cell_type": "markdown",
   "metadata": {
    "slideshow": {
     "slide_type": "fragment"
    }
   },
   "source": [
    "\n",
    "##### Other notation\n",
    "\n",
    "All of these are equivalent. \n",
    "\n",
    "$$f_x = \\frac{\\partial f}{\\partial x} = \\partial_x f = f^{(1,0)}$$\n",
    "\n",
    "and there are many more. "
   ]
  },
  {
   "cell_type": "markdown",
   "metadata": {
    "slideshow": {
     "slide_type": "subslide"
    }
   },
   "source": [
    "### Computing $\\frac{\\partial f}{\\partial x}$\n",
    "\n",
    "In practice, we compute partial derivatives by **treating all variables except the variable in question as constant**."
   ]
  },
  {
   "cell_type": "markdown",
   "metadata": {
    "slideshow": {
     "slide_type": "fragment"
    }
   },
   "source": [
    "#### Example\n",
    "\n",
    "Compute:\n",
    "\n",
    "  1. $\\displaystyle \\frac{\\partial}{\\partial x} \\left( x^2y - \\sin(x-2y) \\right)$"
   ]
  },
  {
   "cell_type": "markdown",
   "metadata": {
    "slideshow": {
     "slide_type": "fragment"
    }
   },
   "source": [
    "  2. $\\displaystyle \\frac{\\partial}{\\partial y} \\left( x^2y - \\sin(x-2y) \\right)$"
   ]
  },
  {
   "cell_type": "markdown",
   "metadata": {
    "slideshow": {
     "slide_type": "fragment"
    }
   },
   "source": [
    "  3. $\\displaystyle \\frac{\\partial}{\\partial z} \\left( \\frac{z^2 \\tan^{-1}(\\sqrt{x^2+1})}{\\cosh(xy)} \\right)$"
   ]
  },
  {
   "cell_type": "markdown",
   "metadata": {
    "slideshow": {
     "slide_type": "slide"
    }
   },
   "source": [
    "# Higher Order Derivatives\n",
    "\n",
    "Since the partial derivative of a function is a function, we can iterate the process. \n",
    "\n",
    "$$f_{xx} = \\frac{\\partial^2 f}{\\partial x^2}$$\n",
    "$$f_{xy} = \\frac{\\partial^2 f}{\\partial y \\partial x}$$\n",
    "\n",
    "etc."
   ]
  },
  {
   "cell_type": "markdown",
   "metadata": {
    "slideshow": {
     "slide_type": "subslide"
    }
   },
   "source": [
    "## Interpretation \n",
    "\n",
    "The case of a second derivative of a single variable easily relates to the one-variable case and the concept of **concavity**. A function $f$ for which $f_{xx} > 0$ is said to be \"concave up in the $x$-direction\". "
   ]
  },
  {
   "cell_type": "markdown",
   "metadata": {
    "slideshow": {
     "slide_type": "fragment"
    }
   },
   "source": [
    "### Example: Heat Equation\n",
    "\n",
    "The temperature at time $t$ at position $x$ along a straight bar is given by a function $u(t,x)$. The evolution of the temperature distribution is governed by the **heat equation** $$u_t = u_{xx}.$$\n",
    "This is a **partial differential equation** or **PDE**, but don't let it intimidate you. "
   ]
  },
  {
   "cell_type": "markdown",
   "metadata": {
    "slideshow": {
     "slide_type": "fragment"
    }
   },
   "source": [
    "One could interpret this equation as stating, \"Where the temperature distribution is concave down, the bar will cool; where it is concave up, the bar will warm.\""
   ]
  },
  {
   "cell_type": "code",
   "execution_count": 34,
   "metadata": {
    "hide_input": true,
    "scrolled": false,
    "slideshow": {
     "slide_type": "fragment"
    }
   },
   "outputs": [
    {
     "data": {
      "application/vnd.jupyter.widget-view+json": {
       "model_id": "ed2bf844ccbd4b3ca0e228b1cadc7e39",
       "version_major": 2,
       "version_minor": 0
      },
      "text/plain": [
       "interactive(children=(FloatSlider(value=3.5500000000000003, description='t', max=7.0, min=0.1), Output()), _do…"
      ]
     },
     "metadata": {},
     "output_type": "display_data"
    }
   ],
   "source": [
    "u = lambda x,t: exp(-x**2/t)/sqrt(2*pi*t)\n",
    "@interact\n",
    "def _(t=(.1,7)):\n",
    "    x = np.linspace(-3,3,100)\n",
    "    plt.plot(x,u(x,t)+u(x-2,t+1/2),color='k',lw=3)\n",
    "    plt.ylim([0,1.5])\n",
    "    plt.ylabel(\"temp\")\n",
    "    plt.xlabel(\"position\")\n",
    "    y = np.linspace(0,1.5,10)\n",
    "    x,y= np.meshgrid(x,y)\n",
    "    plt.pcolormesh(x,y,u(x,t)+u(x-2,t+1/2),vmin=0,vmax=.6,cmap='rainbow')"
   ]
  },
  {
   "cell_type": "code",
   "execution_count": 25,
   "metadata": {
    "hide_input": false,
    "scrolled": false,
    "slideshow": {
     "slide_type": "skip"
    }
   },
   "outputs": [
    {
     "data": {
      "application/vnd.jupyter.widget-view+json": {
       "model_id": "f584fc337161413088e20a0fa6c76505",
       "version_major": 2,
       "version_minor": 0
      },
      "text/plain": [
       "interactive(children=(FloatSlider(value=3.5500000000000003, description='t', max=7.0, min=0.1), Output()), _do…"
      ]
     },
     "metadata": {},
     "output_type": "display_data"
    }
   ],
   "source": [
    "u = lambda x,t: exp(-x**2/t)/sqrt(2*pi*t)\n",
    "@interact\n",
    "def _(t=(.1,7)):\n",
    "    fig,axs = plt.subplots(2,1,sharex=True)\n",
    "    x = np.linspace(-3,3,100)\n",
    "    axs[0].plot(x,u(x,t)+u(x-2,t+1/2))\n",
    "    axs[0].set_ylim([0,1.5])\n",
    "    axs[0].set_ylabel(\"temp\")\n",
    "    y = np.linspace(0,1,10)\n",
    "    x,y= np.meshgrid(x,y)\n",
    "    axs[1].pcolormesh(x,y,u(x,t)+u(x-2,t+1/2),vmin=0,vmax=.6,cmap='rainbow')\n",
    "    axs[1].set_xlabel(\"position\")\n",
    "    axs[1].set_yticklabels([])"
   ]
  },
  {
   "cell_type": "code",
   "execution_count": 19,
   "metadata": {
    "hide_input": true,
    "scrolled": false,
    "slideshow": {
     "slide_type": "skip"
    }
   },
   "outputs": [
    {
     "data": {
      "application/vnd.jupyter.widget-view+json": {
       "model_id": "89717594789941a393b40342024c9695",
       "version_major": 2,
       "version_minor": 0
      },
      "text/plain": [
       "interactive(children=(FloatSlider(value=3.5500000000000003, description='t', max=7.0, min=0.1), Output()), _do…"
      ]
     },
     "metadata": {},
     "output_type": "display_data"
    }
   ],
   "source": [
    "u = lambda x,t: exp(-x**2/t)/sqrt(2*pi*t)\n",
    "@interact\n",
    "def _(t=(.1,7)):\n",
    "    fig,ax = plt.subplots(figsize=(8,.5),dpi=100)\n",
    "    x = np.linspace(-3,3,200)\n",
    "    y = np.linspace(0,1,10)\n",
    "    x,y= np.meshgrid(x,y)\n",
    "    ax.pcolormesh(x,y,u(x,t)+u(x-2,t+1/2),vmin=0,vmax=.6,cmap='rainbow')\n",
    "#     ax.set_ylim([0,1])\n",
    "#     plt.ylabel(\"temp\")\n",
    "    ax.set_xlabel(\"position\")"
   ]
  },
  {
   "cell_type": "code",
   "execution_count": 19,
   "metadata": {
    "scrolled": false,
    "slideshow": {
     "slide_type": "skip"
    }
   },
   "outputs": [
    {
     "data": {
      "image/png": "[encoded data removed]",
      "text/plain": [
       "<Figure size 432x288 with 2 Axes>"
      ]
     },
     "metadata": {
      "needs_background": "light"
     },
     "output_type": "display_data"
    }
   ],
   "source": [
    "u = lambda x,t: exp(-x**2/t)/sqrt(2*pi*t)\n",
    "\n",
    "x = np.linspace(-3,3,100)\n",
    "t = np.linspace(.4,5,150)\n",
    "x,t = np.meshgrid(x,t)\n",
    "plt.contourf(x,t,u(x,t));\n",
    "plt.ylabel(\"time\")\n",
    "plt.colorbar()\n",
    "plt.xlabel(\"position\");"
   ]
  },
  {
   "cell_type": "markdown",
   "metadata": {
    "slideshow": {
     "slide_type": "subslide"
    }
   },
   "source": [
    "## Mixed partials\n",
    "\n",
    "A quantity like $\\frac{\\partial^2 f}{\\partial x \\partial y}$ is a little harder to wrap ones head around. \n",
    "\n",
    "Compute all mixed partials of the following funtions:\n",
    "  \n",
    "  1. $f(x,y) = xy^3 - y \\sin x$\n",
    "  2. $r(x,t) = \\frac{x}{x+t}$\n",
    "  2. $u(p,q) = e^{-p\\sqrt{q}}$\n",
    "      "
   ]
  },
  {
   "cell_type": "markdown",
   "metadata": {
    "slideshow": {
     "slide_type": "subslide"
    }
   },
   "source": [
    "## Clairaut's Theorem\n",
    "\n",
    "If all mixed partials of a function $f$ exist and are continuous in a neighborhood of a point, then $$ \\frac{\\partial^2 f}{\\partial x \\partial y} = \\frac{\\partial^2 f}{\\partial y \\partial x}.$$"
   ]
  },
  {
   "cell_type": "markdown",
   "metadata": {
    "slideshow": {
     "slide_type": "fragment"
    }
   },
   "source": [
    "#### Quick exercise\n",
    "\n",
    "Compute $g_{zzxw}$ for $$g(w,x,y,z)= w^2 x^3 y z^2+\\sin \\left(\\frac{x y}{z^2}\\right).$$"
   ]
  },
  {
   "cell_type": "markdown",
   "metadata": {
    "slideshow": {
     "slide_type": "slide"
    }
   },
   "source": [
    "## Estimating Partials"
   ]
  },
  {
   "cell_type": "code",
   "execution_count": 66,
   "metadata": {
    "hide_input": true,
    "scrolled": true,
    "slideshow": {
     "slide_type": "fragment"
    }
   },
   "outputs": [
    {
     "data": {
      "image/png": "[encoded data removed]",
      "text/plain": [
       "<Figure size 432x288 with 1 Axes>"
      ]
     },
     "metadata": {
      "needs_background": "light"
     },
     "output_type": "display_data"
    }
   ],
   "source": [
    "X = Y = np.linspace(-3,3,400)\n",
    "X,Y = np.meshgrid(X,Y)\n",
    "Z = (1.5**Y*Y - X) / sqrt(X**2 + Y**2 + 1)\n",
    "cs = plt.contour(X,Y,Z)\n",
    "plt.clabel(cs,fmt=\"%1.2f\");"
   ]
  },
  {
   "cell_type": "markdown",
   "metadata": {
    "slideshow": {
     "slide_type": "slide"
    }
   },
   "source": [
    "### Better"
   ]
  },
  {
   "cell_type": "code",
   "execution_count": 67,
   "metadata": {
    "hide_input": true,
    "scrolled": false,
    "slideshow": {
     "slide_type": "fragment"
    }
   },
   "outputs": [
    {
     "data": {
      "image/png": "[encoded data removed]",
      "text/plain": [
       "<Figure size 432x288 with 1 Axes>"
      ]
     },
     "metadata": {
      "needs_background": "light"
     },
     "output_type": "display_data"
    }
   ],
   "source": [
    "X = Y = np.linspace(-3,3,400)\n",
    "X,Y = np.meshgrid(X,Y)\n",
    "Z = (1.5**Y*Y - X) / sqrt(X**2 + Y**2 + 1)\n",
    "cs = plt.contour(X,Y,Z,levels=20)\n",
    "plt.clabel(cs,fmt=\"%1.2f\");"
   ]
  }
 ],
 "metadata": {
  "celltoolbar": "Slideshow",
  "kernelspec": {
   "display_name": "Python 3",
   "language": "python",
   "name": "python3"
  },
  "language_info": {
   "codemirror_mode": {
    "name": "ipython",
    "version": 3
   },
   "file_extension": ".py",
   "mimetype": "text/x-python",
   "name": "python",
   "nbconvert_exporter": "python",
   "pygments_lexer": "ipython3",
   "version": "3.7.3"
  },
  "rise": {
   "enable_chalkboard": true,
   "scroll": true,
   "theme": "sky",
   "transition": "concave"
  }
 },
 "nbformat": 4,
 "nbformat_minor": 2
}
