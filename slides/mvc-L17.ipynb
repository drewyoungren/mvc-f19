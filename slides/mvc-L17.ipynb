{
 "cells": [
  {
   "cell_type": "code",
   "execution_count": 1,
   "metadata": {
    "slideshow": {
     "slide_type": "skip"
    }
   },
   "outputs": [],
   "source": [
    "import numpy as np\n",
    "import matplotlib.pyplot as plt\n",
    "from IPython.display import display, HTML, IFrame\n",
    "from ipywidgets import interact,fixed\n",
    "import pandas as pd\n",
    "from mpl_toolkits import mplot3d\n",
    "from mpl_toolkits.mplot3d import axes3d\n",
    "from matplotlib.patches import FancyArrowPatch,Rectangle\n",
    "from mpl_toolkits.mplot3d.art3d import Poly3DCollection\n",
    "from mpl_toolkits.mplot3d import proj3d\n",
    "\n",
    "plt.rcParams[\"figure.figsize\"] = [10, 10]\n",
    "\n",
    "from numpy.linalg import norm\n",
    "from numpy import cos,sin,tan,arctan,exp,log,pi,sqrt\n",
    "\n",
    "from scipy.integrate import quad,dblquad"
   ]
  },
  {
   "cell_type": "markdown",
   "metadata": {
    "slideshow": {
     "slide_type": "notes"
    }
   },
   "source": [
    "$\\newcommand{\\RR}{\\mathbb{R}}$\n",
    "$\\newcommand{\\bv}[1]{\\begin{bmatrix} #1 \\end{bmatrix}}$\n",
    "$\\renewcommand{\\vec}{\\mathbf}$\n"
   ]
  },
  {
   "cell_type": "markdown",
   "metadata": {
    "hide_input": true,
    "slideshow": {
     "slide_type": "slide"
    }
   },
   "source": [
    "## Announcements\n",
    "\n",
    "  - Quiz 7 this week. \n",
    "    - Switch order of double integral.\n",
    "    - Polar coordinates.\n",
    "    - Center of mass/moments of inertia.\n",
    "  - Homework 9 due **Wednesday**.\n",
    "  - Exam 2 11/07\n",
    "    - Review sessions\n",
    "      - Monday, 11/04, TBD, (Sagiv), \n",
    "      - Tues, 11/05, 1:10pm–2:30pm, Havemeyer 209 (Youngren), \n",
    "    - Practice materials in the \"practice\" folder on Canvas.\n",
    "    - [Screencast with old exam here](https://youtu.be/d2n3ytcJ5j4).\n",
    "    \n",
    "    "
   ]
  },
  {
   "cell_type": "markdown",
   "metadata": {
    "slideshow": {
     "slide_type": "slide"
    }
   },
   "source": [
    "# One-minute Review\n",
    "\n",
    "Fubini's Theorem applies directly to triple integrals.\n",
    "\n",
    "$$\\iiint_E f(x,y,z)\\,dV = \\int_a^b \\int_{g(x)}^{h(x)} \\int_{j(x,y)}^{k(x,y)} f(x,y,z)\\,dz\\,dy\\,dx $$\n",
    "\n",
    "In setting up such an integral, look for one coordinate whose upper- and lower-bounds are easily expressed as functions of the other two variables. Make this the \"inside\" variable. This reduces the problem to a 2-D case (easier said than done).\n",
    "  "
   ]
  },
  {
   "cell_type": "markdown",
   "metadata": {
    "slideshow": {
     "slide_type": "slide"
    }
   },
   "source": [
    "# Lecture 17\n",
    "\n",
    "  - Objectives\n",
    "    - Triple Integration\n",
    "      - Integrals in Spherical and Cylindrical Coords\n",
    "      - Integration Review\n",
    "      - Midterm 2 review.\n",
    "  - Resources\n",
    "    - Content\n",
    "      - Stewart: §15.5–7\n",
    "      - New Strang:  \n",
    "        - [§5.4](https://openstax.org/books/calculus-volume-3/pages/5-4-triple-integrals) Some good practice on changing order of integration here, Particularly, nos. 203–206, 211, 212, 215–220, 235, 240\n",
    "        - [§5.5](https://openstax.org/books/calculus-volume-3/pages/5-5-triple-integrals-in-cylindrical-and-spherical-coordinates)\n",
    "      - [Slides](https://hub.columbiajupyter2.org/hub/user-redirect/git-pull?repo=https%3A%2F%2Fgithub.com%2Fdrewyoungren%2Fmvc-f19&urlpath=tree%2Fmvc-f19%2Fslides%2Fmvc-L17.ipynb) via JupyterHub\n",
    "    - Practice\n",
    "      - Mooculus: [Cylindrical Coordinates](https://ximera.osu.edu/mooculus/calculus3/commonCoordinates/digInCylindricalCoordinates) [Spherical](https://ximera.osu.edu/mooculus/calculus3/computationsAndInterpretations/digInMassMomentsAndCenterOfMass)\n",
    "    - Extras\n",
    "      - CalcBLUE: [Cylindrical Coordinates](https://www.youtube.com/watch?v=YIi7muLgI9U&list=PL8erL0pXF3JaJdUcmc_PeGV-vG5z87BkD&index=90) [Spherical Coordinates](https://www.youtube.com/watch?v=Zc8uCT-e5KI&list=PL8erL0pXF3JaJdUcmc_PeGV-vG5z87BkD&index=98) "
   ]
  },
  {
   "cell_type": "markdown",
   "metadata": {
    "slideshow": {
     "slide_type": "subslide"
    }
   },
   "source": [
    "### Exercise\n",
    "\n",
    "Sketch the region in the first octant bounded by the planes $z=1$, $z = x$, $z=y$ and $z=y/2$, and express the triple integral of an arbitrary integrand over this region as an iterated integral. \n",
    "\n",
    "Start by sketching the regions \"shadow\" in each of the \n",
    "  - $xy$-\n",
    "  - $xz$-\n",
    "  - $yz$-planes."
   ]
  },
  {
   "cell_type": "code",
   "execution_count": 27,
   "metadata": {
    "hide_input": false,
    "scrolled": false,
    "slideshow": {
     "slide_type": "fragment"
    }
   },
   "outputs": [
    {
     "data": {
      "application/vnd.jupyter.widget-view+json": {
       "model_id": "f83330cfc1e54927898c9e429ef1a88a",
       "version_major": 2,
       "version_minor": 0
      },
      "text/plain": [
       "interactive(children=(IntSlider(value=-24, description='angle', max=66, min=-108, step=6), IntSlider(value=42,…"
      ]
     },
     "metadata": {},
     "output_type": "display_data"
    }
   ],
   "source": [
    "@interact(angle=(-108,66,6))\n",
    "def _(angle=-24,vangle=(0,90,6)):\n",
    "    fig = plt.figure(figsize=(10,10))\n",
    "    ax= fig.add_subplot(111,projection='3d')\n",
    "    u = np.linspace(0,1,80)\n",
    "    v = np.linspace(0,1,80)\n",
    "    U,V = np.meshgrid(u,v)\n",
    "    X = U\n",
    "    Y = V\n",
    "    Z = np.ones_like(U)\n",
    "    ax.plot_wireframe(X,1/2 +Y/2,Z,rcount=10,ccount=10)\n",
    "#     ax.plot_surface(X,Y,0*X,rcount=20,ccount=20,color='gray',alpha=.4)\n",
    "    ax.view_init(vangle,angle)\n",
    "    \n",
    "    ax.plot_wireframe(U,U/2+U*V/2,U,rcount=10,ccount=10)\n",
    "    ax.plot_wireframe(U*V,U,U,rcount=10,ccount=10)\n",
    "    ax.plot_wireframe(U*V,U/2,U,rcount=10,ccount=10)\n",
    "\n",
    "    ax.plot_surface(U,0*X,U+V*(1-U),rcount=20,ccount=20,color='gray',alpha=.4)\n",
    "    ax.plot_surface(U*0,U/2+V*(U)/2,U,rcount=20,ccount=20,color='gray',alpha=.4)\n",
    "\n",
    "    for c in 'xyz':\n",
    "#         getattr(ax,f\"set_{c}lim\")([-1,1]);    \n",
    "        getattr(ax,f\"set_{c}label\")(f\"${c}$\",size=16)\n",
    "    "
   ]
  },
  {
   "cell_type": "markdown",
   "metadata": {
    "slideshow": {
     "slide_type": "slide"
    }
   },
   "source": [
    "# Other Coordinates"
   ]
  },
  {
   "cell_type": "code",
   "execution_count": 3,
   "metadata": {
    "hide_input": true,
    "scrolled": false,
    "slideshow": {
     "slide_type": "fragment"
    }
   },
   "outputs": [
    {
     "data": {
      "application/vnd.jupyter.widget-view+json": {
       "model_id": "dc9b165f422b4684a367f32893deff4f",
       "version_major": 2,
       "version_minor": 0
      },
      "text/plain": [
       "interactive(children=(IntSlider(value=-24, description='angle', max=66, min=-108, step=6), IntSlider(value=42,…"
      ]
     },
     "metadata": {},
     "output_type": "display_data"
    }
   ],
   "source": [
    "@interact(angle=(-108,66,6))\n",
    "def _(angle=-24,vangle=(0,90,6),coords=['rectangular','cylindrical','spherical']):\n",
    "    a,b,c = (.5,.6,.8)\n",
    "    r = sqrt(a**2 + b**2)\n",
    "    th = np.arctan(b/a)\n",
    "    rho = sqrt(a**2 + b**2 + c**2)\n",
    "    phi = np.arctan(r/c)\n",
    "    fig = plt.figure(figsize=(10,10))\n",
    "    ax= fig.add_subplot(111,projection='3d')\n",
    "    u = np.linspace(0,1,80)\n",
    "    v = np.linspace(0,1,80)\n",
    "    U,V = np.meshgrid(u,v)\n",
    "    X = U\n",
    "    Y = V\n",
    "    Z = np.ones_like(U)\n",
    "    if coords=='rectangular':\n",
    "        ax.plot([0,a,a,a],[0,0,b,b],[0,0,0,c],lw=3)\n",
    "        ax.plot_surface(a*U,b*V,0*X,rcount=20,ccount=20,color='gray',alpha=.4)\n",
    "    elif coords=='cylindrical':\n",
    "        ax.plot([0,a,a],[0,b,b],[0,0,c],lw=3)\n",
    "        ax.plot_surface(r*U*cos(th*V),r*U*sin(th*V),0*X,rcount=20,ccount=20,color='gray',alpha=.4)\n",
    "        ax.plot(r/4*cos(th*u),r/4*sin(th*u),0,color='k')\n",
    "        ax.text(r/3*cos(th/2),r/3*sin(th/2),0,\"$\\\\theta$\",horizontalalignment='center',verticalalignment='center',fontsize=16)\n",
    "        ax.text(r/2*cos(th + .1),r/2*sin(th + .1),0,\"$r$\",horizontalalignment='center',verticalalignment='center',fontsize=16)\n",
    "    elif coords=='spherical':\n",
    "        ax.plot([0,a],[0,b],[0,c],lw=3)\n",
    "        ax.plot_surface(r*U*cos(th*V),r*U*sin(th*V),0*X,rcount=20,ccount=20,color='gray',alpha=.4)\n",
    "        ax.plot_surface(rho*U*cos(th)*sin(V*phi),rho*U*sin(th)*sin(V*phi),rho*U*cos(V*phi),rcount=20,ccount=20,color='gray',alpha=.4)\n",
    "        ax.plot(r/4*cos(th*u),r/4*sin(th*u),0,color='k')\n",
    "        ax.text(r/3*cos(th/2),r/3*sin(th/2),0,\"$\\\\theta$\",horizontalalignment='center',verticalalignment='center',fontsize=16)\n",
    "        ax.text(rho/2*cos(th)*sin(phi - .1),rho/2*sin(th)*sin(phi - .1),rho/2*cos(phi - .1),\"$\\\\rho$\",horizontalalignment='center',verticalalignment='center',fontsize=16)\n",
    "#         ax.text(r/2*cos(th + .1),r/2*sin(th + .1),0,\"$r$\",horizontalalignment='center',verticalalignment='center',fontsize=16)\n",
    "        ax.plot(r/4*cos(th)*sin(phi*u),r/4*sin(th)*sin(phi*u),r/4*cos(phi*u),color='k')\n",
    "        ax.text(r/3*cos(th)*sin(phi/2),r/3*sin(th)*sin(phi/2),r/3*cos(phi/2),\"$\\\\phi$\",horizontalalignment='center',verticalalignment='center',fontsize=16)\n",
    "\n",
    "\n",
    "    ax.view_init(vangle,angle)\n",
    "    \n",
    "#     ax.plot_wireframe(U,U*V,U,rcount=20,ccount=20)\n",
    "#     ax.plot_wireframe(U*V,U,U,rcount=20,ccount=20)\n",
    "#     ax.plot_surface(U,0*X,U+V*(1-U),rcount=20,ccount=20,color='gray',alpha=.4)\n",
    "#     ax.plot_surface(U*0,U,U+V*(1-U),rcount=20,ccount=20,color='gray',alpha=.4)\n",
    "\n",
    "    for c in 'xyz':\n",
    "        getattr(ax,f\"set_{c}lim\")([0,1]);    \n",
    "        getattr(ax,f\"set_{c}label\")(f\"${c}$\",size=16)\n",
    "    "
   ]
  },
  {
   "cell_type": "markdown",
   "metadata": {
    "slideshow": {
     "slide_type": "fragment"
    }
   },
   "source": [
    "  - Rectangular: $$(x,y,z)$$\n",
    "  - Cylindrical: $$(r,\\theta,z)$$ $r\\geq 0$, $0 \\leq \\theta \\leq 2\\pi$.\n",
    "  - Spherical: $$(\\rho,\\theta,\\phi)$$ $\\rho\\geq 0$, $0 \\leq \\theta \\leq 2\\pi$, $0 \\leq \\phi \\leq \\pi$.\n",
    "\n",
    "\\begin{align*}\n",
    " x &= r \\cos \\theta = \\rho \\sin \\phi \\cos \\theta \\\\\n",
    " y &= r \\sin \\theta = \\rho \\sin \\phi \\sin \\theta \\\\\n",
    " z &= z = \\rho \\cos(\\phi) \\\\\n",
    " \\end{align*}\n",
    " \n",
    " "
   ]
  },
  {
   "cell_type": "markdown",
   "metadata": {
    "slideshow": {
     "slide_type": "subslide"
    }
   },
   "source": [
    "### Quick Exercise\n",
    "\n",
    "We know the equations $x=1$, $y=1$, and $z=1$ represent planes perpendicular to the respective access. Identify each of the following sets in the new coordinates.\n",
    "\n",
    "  1. $r=1$\n",
    "  2. $\\theta = 1$\n",
    "  3. $\\rho = 1$\n",
    "  4. $\\phi = 1$"
   ]
  },
  {
   "cell_type": "code",
   "execution_count": 4,
   "metadata": {
    "hide_input": true,
    "scrolled": false
   },
   "outputs": [
    {
     "data": {
      "application/vnd.jupyter.widget-view+json": {
       "model_id": "",
       "version_major": 2,
       "version_minor": 0
      },
      "text/plain": [
       "interactive(children=(IntSlider(value=0, description='angle', max=90, min=-90, step=6), Dropdown(description='…"
      ]
     },
     "metadata": {},
     "output_type": "display_data"
    }
   ],
   "source": [
    "@interact\n",
    "def _(angle=(-90,90,6),coord=['r','theta','rho','phi']):\n",
    "    fig = plt.figure(figsize=(10,10))\n",
    "    ax=fig.add_subplot(111,projection='3d')\n",
    "    ax.view_init(30,angle)\n",
    "    u = v = np.linspace(0,1,100)\n",
    "    u,v = np.meshgrid(u,v)\n",
    "    if coord == 'r':\n",
    "        ax.plot_surface(cos(2*pi*v),sin(2*pi*v),2*u-1,alpha=.5)\n",
    "    elif coord == 'theta':\n",
    "        ax.plot_surface(sqrt(2)*v*cos(1),sqrt(2)*v*sin(1),2*u-1,alpha=.5)\n",
    "    elif coord == 'rho':\n",
    "        ax.plot_surface(sin(pi*u)*cos(2*pi*v),sin(pi*u)*sin(2*pi*v),cos(pi*u),alpha=.5)\n",
    "    elif coord == 'phi':\n",
    "        ax.plot_surface(sin(1)*u*cos(2*pi*v),sin(1)*u*sin(2*pi*v),cos(1)*u,alpha=.5)\n",
    "    ax.plot([-1,1],[0,0],[0,0],'k',lw=3)\n",
    "    ax.plot([0,0],[-1,1],[0,0],'k',lw=3)\n",
    "    ax.plot([0,0],[0,0],[-1,1],'k',lw=3)"
   ]
  },
  {
   "cell_type": "markdown",
   "metadata": {
    "slideshow": {
     "slide_type": "slide"
    }
   },
   "source": [
    "# Volumes\n",
    "\n",
    "When integrating, we divide space up by taking small intervals in each coordinate. Let's look at the volumes $\\Delta V$ of such subdivisions."
   ]
  },
  {
   "cell_type": "code",
   "execution_count": 5,
   "metadata": {
    "hide_input": true,
    "scrolled": false,
    "slideshow": {
     "slide_type": "fragment"
    }
   },
   "outputs": [
    {
     "data": {
      "application/vnd.jupyter.widget-view+json": {
       "model_id": "f25e6f0e094844d6a6089d22e1a981f5",
       "version_major": 2,
       "version_minor": 0
      },
      "text/plain": [
       "interactive(children=(IntSlider(value=-24, description='angle', max=66, min=-108, step=6), IntSlider(value=42,…"
      ]
     },
     "metadata": {},
     "output_type": "display_data"
    }
   ],
   "source": [
    "@interact(angle=(-108,66,6),mov=(.1,1,.05))\n",
    "def _(angle=-24,vangle=(0,90,6),coords=['rectangular','cylindrical','spherical'],mov=1):\n",
    "#     a,b,c = (.5,.6,.8)\n",
    "#     r = sqrt(a**2 + b**2)\n",
    "#     th = np.arctan(b/a)\n",
    "#     rho = sqrt(a**2 + b**2 + c**2)\n",
    "#     phi = np.arctan(r/c)\n",
    "    fig = plt.figure(figsize=(10,10))\n",
    "    ax= fig.add_subplot(111,projection='3d')\n",
    "    u = np.linspace(0,1,81)\n",
    "    v = np.linspace(0,1,81)\n",
    "    U,V = np.meshgrid(u,v)\n",
    "    X = U\n",
    "    Y = V\n",
    "    Z = np.ones_like(U)\n",
    "    if coords=='rectangular':\n",
    "        ax.plot_wireframe(U,V,0*Z+mov,rcount=11,ccount=11,color='gray',alpha=.7)\n",
    "        ax.plot_wireframe(U,V,0*Z+mov-.1,rcount=11,ccount=11,color='gray',alpha=.7)\n",
    "        for i in np.arange(0,1.1,.1):\n",
    "            for j in np.arange(0,1.1,.1):\n",
    "                ax.plot([i,i],[j,j],[mov-.1,mov],color='gray',alpha=.7)\n",
    "    elif coords=='cylindrical':\n",
    "        ax.plot_wireframe(mov*cos(pi/2*V),mov*sin(pi/2*V),U,rcount=11,ccount=11,color='gray',alpha=.7)\n",
    "        ax.plot_wireframe((mov-.1)*cos(pi/2*V),(mov-.1)*sin(pi/2*V),U,rcount=11,ccount=11,color='gray',alpha=.7)\n",
    "        for i in np.arange(0,1.1,.1):\n",
    "            for j in np.arange(0,1.1,.1):\n",
    "                ax.plot([(mov-.1)*cos(pi/2*i),(mov)*cos(pi/2*i)],[(mov-.1)*sin(pi/2*i),mov*sin(pi/2*i)],[j,j],color='gray',alpha=.7)\n",
    "\n",
    "    elif coords=='spherical':\n",
    "        ax.plot_wireframe(mov*sin(pi/2*U)*cos(pi/2*V),mov*sin(pi/2*U)*sin(pi/2*V),mov*cos(pi/2*U),rcount=11,ccount=11,color='gray',alpha=.7)\n",
    "        ax.plot_wireframe((mov-.1)*sin(pi/2*U)*cos(pi/2*V),(mov-.1)*sin(pi/2*U)*sin(pi/2*V),(mov-.1)*cos(pi/2*U),rcount=11,ccount=11,color='gray',alpha=.7)\n",
    "        for i in np.arange(0,1.1,.1):\n",
    "            for j in np.arange(0,1.1,.1):\n",
    "                ax.plot([(mov-.1)*sin(pi/2*j)*cos(pi/2*i),(mov)*sin(pi/2*j)*cos(pi/2*i)],[(mov-.1)*sin(pi/2*j)*sin(pi/2*i),(mov)*sin(pi/2*j)*sin(pi/2*i)],[(mov-.1)*cos(pi/2*j),(mov)*cos(pi/2*j)],color='gray',alpha=.7)\n",
    "\n",
    "\n",
    "    ax.view_init(vangle,angle)\n",
    "    \n",
    "    for c in 'xyz':\n",
    "        getattr(ax,f\"set_{c}lim\")([0,1]);    \n",
    "        getattr(ax,f\"set_{c}label\")(f\"${c}$\",size=16)\n",
    "    "
   ]
  },
  {
   "cell_type": "markdown",
   "metadata": {
    "slideshow": {
     "slide_type": "fragment"
    }
   },
   "source": [
    "$$dV=dx\\,dy\\,dz = r\\,dr\\,d\\theta\\,dz = \\rho^2 \\sin \\phi \\,d\\rho\\,d\\theta\\,d\\phi$$"
   ]
  },
  {
   "cell_type": "markdown",
   "metadata": {
    "slideshow": {
     "slide_type": "subslide"
    }
   },
   "source": [
    "## Example\n",
    "\n",
    "Find the mass of a right cone with height $h$ and radius (at base) $R$. and uniform density $\\rho$.\n",
    "\n",
    "<br>\n",
    "<div style=\"background:#cfcfee\">**Caution!** When doing these sorts of applications, do not confuse the density $\\rho$ with the polar coordinate $\\rho$. Choose variables wisely.</div>\n",
    "\n",
    "Find the moment of inertia relative to its central axis. "
   ]
  },
  {
   "cell_type": "code",
   "execution_count": 21,
   "metadata": {
    "hide_input": false,
    "scrolled": false,
    "slideshow": {
     "slide_type": "fragment"
    }
   },
   "outputs": [
    {
     "data": {
      "application/vnd.jupyter.widget-view+json": {
       "model_id": "b86732fe775348939669c4be63b604dd",
       "version_major": 2,
       "version_minor": 0
      },
      "text/plain": [
       "interactive(children=(IntSlider(value=0, description='angle', max=90, min=-90, step=6), Output()), _dom_classe…"
      ]
     },
     "metadata": {},
     "output_type": "display_data"
    }
   ],
   "source": [
    "@interact\n",
    "def _(angle=(-90,90,6)):\n",
    "    fig = plt.figure(figsize=(10,10))\n",
    "    ax=fig.add_subplot(111,projection='3d')\n",
    "    ax.view_init(30,angle)\n",
    "    u = v = np.linspace(0,1,100)\n",
    "    u,v = np.meshgrid(u,v)\n",
    "    \n",
    "    ax.plot_surface(u*cos(2*pi*v),u*sin(2*pi*v),3*(1-u),alpha=.5)\n",
    "    ax.plot([-1,1],[0,0],[0,0],'k',lw=3)\n",
    "    ax.plot([0,0],[-1,1],[0,0],'k',lw=3)\n",
    "    ax.plot([0,0],[0,0],[-.1,3],'k',lw=3)\n",
    "    ax.set_xticks([-1,0,1])\n",
    "    ax.set_xticklabels([\"$-R$\",0,\"$R$\"])\n",
    "    ax.set_yticks([-1,0,1])\n",
    "    ax.set_yticklabels([\"$-R$\",0,\"$R$\"])\n",
    "    ax.set_zticks([0,3])\n",
    "    ax.set_zticklabels([0,\"$h$\"])"
   ]
  },
  {
   "cell_type": "markdown",
   "metadata": {
    "slideshow": {
     "slide_type": "fragment"
    }
   },
   "source": [
    "Solution:\n",
    "\n",
    "$$M = \\frac\\rho3 \\pi R^2 h$$\n",
    "\n",
    "$$I = \\frac{3}{10} M R^2$$"
   ]
  },
  {
   "cell_type": "markdown",
   "metadata": {
    "slideshow": {
     "slide_type": "subslide"
    }
   },
   "source": [
    "# Example\n",
    "\n",
    "Find the centroid of a solid hemisphere of radius $R$."
   ]
  },
  {
   "cell_type": "code",
   "execution_count": 19,
   "metadata": {
    "hide_input": true,
    "scrolled": false,
    "slideshow": {
     "slide_type": "fragment"
    }
   },
   "outputs": [
    {
     "data": {
      "application/vnd.jupyter.widget-view+json": {
       "model_id": "e668970ca5df451482fa4f1842292026",
       "version_major": 2,
       "version_minor": 0
      },
      "text/plain": [
       "interactive(children=(IntSlider(value=0, description='angle', max=90, min=-90, step=6), Output()), _dom_classe…"
      ]
     },
     "metadata": {},
     "output_type": "display_data"
    }
   ],
   "source": [
    "@interact\n",
    "def _(angle=(-90,90,6)):\n",
    "    fig = plt.figure(figsize=(10,10))\n",
    "    ax=fig.add_subplot(111,projection='3d')\n",
    "    ax.view_init(30,angle)\n",
    "    u = v = np.linspace(0,1,100)\n",
    "    u,v = np.meshgrid(u,v)\n",
    "    \n",
    "    ax.plot_surface(u*cos(2*pi*v),u*sin(2*pi*v),sqrt(1-u**2),alpha=.5)\n",
    "    ax.plot([-1,1],[0,0],[0,0],'k',lw=3)\n",
    "    ax.plot([0,0],[-1,1],[0,0],'k',lw=3)\n",
    "    ax.plot([0,0],[0,0],[-.1,1.9],'k',lw=3)\n",
    "    ax.set_xticks([-1,0,1])\n",
    "    ax.set_xticklabels([\"$-R$\",0,\"$R$\"])\n",
    "    ax.set_yticks([-1,0,1])\n",
    "    ax.set_yticklabels([\"$-R$\",0,\"$R$\"])\n",
    "    ax.set_zticks([0,1])\n",
    "    ax.set_zticklabels([0,\"$R$\"])"
   ]
  },
  {
   "cell_type": "markdown",
   "metadata": {
    "slideshow": {
     "slide_type": "fragment"
    }
   },
   "source": [
    "Solution:\n",
    "\n",
    "$$(\\bar x,\\bar y,\\bar z) = (0,0,\\frac38 R)$$"
   ]
  },
  {
   "cell_type": "markdown",
   "metadata": {
    "slideshow": {
     "slide_type": "slide"
    }
   },
   "source": [
    "# Exam 2 Review\n",
    "\n",
    "  - Same format as exam 1. \n",
    "  - Not cumulative in a direct sense (cumulative as necessary).\n",
    "  - Topics\n",
    "    - Gradients\n",
    "      - Definition\n",
    "      - Properties\n",
    "      - Directional Derivative\n",
    "    - Optimization\n",
    "      - Critical Points\n",
    "      - Classifying critical points\n",
    "      - Unconstrained optimization\n",
    "      - Lagrange Multipliers\n",
    "    - Integration\n",
    "      - Riemann sums\n",
    "      - Double integrals\n",
    "      - Fubini's Theorem\n",
    "      - Polar Coordinates\n",
    "      - Applications\n",
    "        - Mass/density\n",
    "        - Center of mass/centroids\n",
    "        - Moments of inertia\n",
    "      - Triple integrals\n",
    "      - Cylindrical coordinates\n",
    "      - Spherical Coordinates"
   ]
  },
  {
   "cell_type": "markdown",
   "metadata": {
    "slideshow": {
     "slide_type": "subslide"
    }
   },
   "source": [
    "### Exercise\n",
    "\n",
    "Let $E$ be the region in $\\RR^3$ defined by\n",
    "\\begin{align*}\n",
    "& 0\\leq x^2+y^2+z^2\\leq 1,\\\\\n",
    "& x\\geq0.\n",
    "\\end{align*}\n",
    "\n",
    "Which of the following integrals must be $0$? (Do **not** compute them. Use other means.)\n",
    "\n",
    "  1. $\\displaystyle\\iiint_E \\sin(x) dV$.\n",
    "  1.  $\\displaystyle\\iiint_E xy^2z^2 dV$. \n",
    "  1.  $\\displaystyle\\iiint_E x^2yz dV$.\n",
    "  1.  $\\displaystyle\\iiint_E \\cos(y) dV$. \n",
    "  1.  None of the above."
   ]
  },
  {
   "cell_type": "markdown",
   "metadata": {
    "slideshow": {
     "slide_type": "subslide"
    }
   },
   "source": [
    "### Exercise\n",
    "\n",
    "Let $E$ be the region in $\\RR^3$ defined by\n",
    "\\begin{align*}\n",
    "& 0\\leq x^2+y^2+z^2\\leq 1,\\\\\n",
    "& x\\geq0.\n",
    "\\end{align*}\n",
    "\n",
    "Which of the following integrals must be $0$? (Do **not** compute them. Use other means.)\n",
    "\n",
    "  1. $\\displaystyle\\iiint_E \\sin(x) dV$.\n",
    "  1.  $\\displaystyle\\iiint_E xy^2z^2 dV$. \n",
    "  1.  $\\displaystyle\\iiint_E x^2yz dV$.\n",
    "  1.  $\\displaystyle\\iiint_E \\cos(y) dV$. \n",
    "  1.  None of the above."
   ]
  },
  {
   "cell_type": "markdown",
   "metadata": {
    "slideshow": {
     "slide_type": "subslide"
    }
   },
   "source": [
    "Which region in $\\RR^3$ described below has the smallest volume?\n",
    "\n",
    "\n",
    "  1. All cylindrical coordinates $r,\\theta,z$ are between 0 and 1. \n",
    "  1. All rectangular coordinates $x,y,z$ are between 0 and 1. \n",
    "  1. All spherical coordinates $\\rho,\\theta,\\phi$ are between 0 and 1.\n",
    "  1. All of the above have equal volume. \n",
    "  1. Don't choose this.\n"
   ]
  },
  {
   "cell_type": "code",
   "execution_count": null,
   "metadata": {},
   "outputs": [],
   "source": []
  }
 ],
 "metadata": {
  "celltoolbar": "Slideshow",
  "kernelspec": {
   "display_name": "Python 3",
   "language": "python",
   "name": "python3"
  },
  "language_info": {
   "codemirror_mode": {
    "name": "ipython",
    "version": 3
   },
   "file_extension": ".py",
   "mimetype": "text/x-python",
   "name": "python",
   "nbconvert_exporter": "python",
   "pygments_lexer": "ipython3",
   "version": "3.7.3"
  },
  "rise": {
   "enable_chalkboard": true,
   "scroll": true,
   "theme": "sky",
   "transition": "concave"
  }
 },
 "nbformat": 4,
 "nbformat_minor": 2
}
