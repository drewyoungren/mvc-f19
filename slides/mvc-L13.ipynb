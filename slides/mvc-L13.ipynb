{
 "cells": [
  {
   "cell_type": "code",
   "execution_count": 5,
   "metadata": {
    "slideshow": {
     "slide_type": "skip"
    }
   },
   "outputs": [],
   "source": [
    "import numpy as np\n",
    "import matplotlib.pyplot as plt\n",
    "from IPython.display import display, HTML, IFrame\n",
    "from ipywidgets import interact,fixed\n",
    "import pandas as pd\n",
    "from mpl_toolkits import mplot3d\n",
    "from mpl_toolkits.mplot3d import axes3d\n",
    "from matplotlib.patches import FancyArrowPatch\n",
    "from mpl_toolkits.mplot3d import proj3d\n",
    "\n",
    "plt.rcParams[\"figure.figsize\"] = [12, 9]\n",
    "\n",
    "from numpy.linalg import norm\n",
    "from numpy import cos,sin,tan,arctan,exp,log,pi,sqrt"
   ]
  },
  {
   "cell_type": "markdown",
   "metadata": {
    "slideshow": {
     "slide_type": "notes"
    }
   },
   "source": [
    "$\\newcommand{\\RR}{\\mathbb{R}}$\n",
    "$\\newcommand{\\bv}[1]{\\begin{bmatrix} #1 \\end{bmatrix}}$\n",
    "$\\renewcommand{\\vec}{\\mathbf}$\n"
   ]
  },
  {
   "cell_type": "markdown",
   "metadata": {
    "hide_input": true,
    "slideshow": {
     "slide_type": "slide"
    }
   },
   "source": [
    "## Announcements\n",
    "\n",
    "  - Midterm 1 is in the books\n",
    "    - ![Histogram of Exam 1](e1hist.png)\n",
    "    - Individual \"audits\" available.\n",
    "    - Midterm 2 - Thur 11/7.\n",
    "  - Quiz 5 this week. \n",
    "    - Directional derivatives\n",
    "    - 3 properties of $\\nabla f$\n",
    "  - Homework 7 due Tuesday\n",
    "    "
   ]
  },
  {
   "cell_type": "markdown",
   "metadata": {
    "slideshow": {
     "slide_type": "slide"
    }
   },
   "source": [
    "# One-minute Review\n",
    "\n",
    "  - Local mins and maxes occur at critical points (usually where $\\nabla f = \\vec 0$).\n",
    "  - Critical points with no local extrema are saddle points\n",
    "  - 2nd Derivative Test: $$D = \\begin{vmatrix} f_{xx} & f_{xy} \\\\ f_{xy} & f_{yy} \\end{vmatrix}_{(a,b)}$$\n",
    "\n",
    "Then, \n",
    "  - if $D>0$ and $f_{xx} < 0$, $f(a,b)$ is a local maximum.\n",
    "  - if $D>0$ and $f_{xx} > 0$, $f(a,b)$ is a local minimum.\n",
    "  - if $D<0$, $(a,b)$ is a saddle point. \n",
    "\n",
    "Otherwise, the test is inconclusive."
   ]
  },
  {
   "cell_type": "markdown",
   "metadata": {
    "slideshow": {
     "slide_type": "slide"
    }
   },
   "source": [
    "# Lecture 13\n",
    "\n",
    "  - Objectives\n",
    "    - Identify open and closed sets\n",
    "    - Solve unconstrained optimization problems\n",
    "    - Solve constrained optimization problems (Lagrange Multipliers)\n",
    "    \n",
    "    \n",
    "  - Resources\n",
    "    - Content\n",
    "      - Stewart: §14.8\n",
    "      - New Strang: [§4.8](https://openstax.org/books/calculus-volume-3/pages/4-8-lagrange-multipliers)\n",
    "      - [Slides](https://hub.columbiajupyter2.org/hub/user-redirect/git-pull?repo=https%3A%2F%2Fgithub.com%2Fdrewyoungren%2Fmvc-f19&urlpath=tree%2Fmvc-f19%2Fslides%2Fmvc-L13.ipynb) via JupyterHub\n",
    "    - Practice\n",
    "      - Mooculus: {Constrained Optimization](https://ximera.osu.edu/mooculus/calculus3/constrainedOptimization/digInConstrainedOptimization) [Lagrange Multipliers](https://ximera.osu.edu/mooculus/calculus3/lagrangeMultipliers/digInLagrangeMultipliers)\n",
    "    - Extras\n",
    "      - CalcBLUE: [Optimization](https://www.youtube.com/watch?v=CBWMHf1MfEs&list=PL8erL0pXF3JZZTnqjginERYYEi1WpLE_V&index=110) "
   ]
  },
  {
   "cell_type": "markdown",
   "metadata": {
    "slideshow": {
     "slide_type": "slide"
    }
   },
   "source": [
    "# A (very) little topology\n",
    "\n",
    "Without looking at definitions, identify a \"boundary point\" and an \"interior point\" of the set $S$ (in white) below."
   ]
  },
  {
   "cell_type": "code",
   "execution_count": 15,
   "metadata": {
    "hide_input": true
   },
   "outputs": [
    {
     "data": {
      "image/png": "[encoded data removed]",
      "text/plain": [
       "<Figure size 432x288 with 1 Axes>"
      ]
     },
     "metadata": {
      "needs_background": "light"
     },
     "output_type": "display_data"
    }
   ],
   "source": [
    "f = lambda x,y: exp(-x**2-y**2) + 3/2*exp(-(x-4/3)**2-(y-2/3)**2)\n",
    "\n",
    "X=Y = np.linspace(-1,3,100)\n",
    "X,Y = np.meshgrid(X,Y)\n",
    "plt.contourf(X,Y,f(X,Y),levels=[0,2/3])\n",
    "plt.text(1,1/2,\"$S$\",fontsize=20);\n",
    "                                          \n",
    "                            "
   ]
  },
  {
   "cell_type": "markdown",
   "metadata": {
    "slideshow": {
     "slide_type": "fragment"
    }
   },
   "source": [
    "Let $S$ be a set in $\\RR^n$ and $\\vec p$ be the position of a point in it.  (We can be lazy and say $\\vec p \\in S$.)\n",
    "\n",
    "$\\vec p$ is an **interior point** of $S$ if there exists a positive radius $r>0$ such that for all $|\\vec y - \\vec p| < r$, $\\vec y \\in S$.\n",
    "\n",
    "$\\vec p$ is a **boundary point** of $S$ if for every $r>0$, there are points $\\vec y_1$ and $\\vec y_2$ with $|\\vec y_i - \\vec p| < r$ such that $\\vec y_1 \\in S$ and $\\vec y_2 \\notin S$."
   ]
  },
  {
   "cell_type": "markdown",
   "metadata": {
    "slideshow": {
     "slide_type": "fragment"
    }
   },
   "source": [
    "#### Quick Example\n",
    "\n",
    "Let $S\\subset \\RR^2$ be the unit disk. $(1,0)$ is a boundary point. $(1/2,1/2)$ is an interior point."
   ]
  },
  {
   "cell_type": "markdown",
   "metadata": {
    "slideshow": {
     "slide_type": "subslide"
    }
   },
   "source": [
    "## Definitions \n",
    "\n",
    "A set $S$ is **open** if all points are interior points.\n",
    "\n",
    "A set $S$ is **closed** if it contains all its boundary points."
   ]
  },
  {
   "cell_type": "markdown",
   "metadata": {
    "slideshow": {
     "slide_type": "slide"
    }
   },
   "source": [
    "# Optimization\n"
   ]
  },
  {
   "cell_type": "markdown",
   "metadata": {
    "slideshow": {
     "slide_type": "fragment"
    }
   },
   "source": [
    "### Theorem (Fermat, I guess)\n",
    "\n",
    "If a local maximum or minimum of a function $f:D\\to \\RR$ occurs at an interior point $\\vec p$, then $\\vec p$ is a critical point of $f$. "
   ]
  },
  {
   "cell_type": "markdown",
   "metadata": {
    "slideshow": {
     "slide_type": "fragment"
    }
   },
   "source": [
    "### Interpretation\n",
    "\n",
    "On an open domain, look only at critical points for maxima and minima."
   ]
  },
  {
   "cell_type": "markdown",
   "metadata": {
    "slideshow": {
     "slide_type": "subslide"
    }
   },
   "source": [
    "## First Example - Unconstrained optimization.\n",
    "\n",
    "  Find the point on the plane $z = x -2y + 3$ closest to the origin.\n",
    "  "
   ]
  },
  {
   "cell_type": "code",
   "execution_count": 7,
   "metadata": {
    "hide_input": false,
    "slideshow": {
     "slide_type": "fragment"
    }
   },
   "outputs": [
    {
     "data": {
      "application/vnd.jupyter.widget-view+json": {
       "model_id": "bc811b0b07814f28b386131eb9174958",
       "version_major": 2,
       "version_minor": 0
      },
      "text/plain": [
       "interactive(children=(IntSlider(value=-48, description='angle', max=30, min=-120, step=6), Output()), _dom_cla…"
      ]
     },
     "metadata": {},
     "output_type": "display_data"
    }
   ],
   "source": [
    "@interact\n",
    "def _(angle=(-120,30,6)):\n",
    "    fig= plt.figure(figsize=(8,8),dpi=100)\n",
    "    ax = fig.add_subplot(111,projection='3d')\n",
    "    x = y = np.linspace(-3/2,3/2,100)\n",
    "    x,y = np.meshgrid(x,y)\n",
    "    ax.view_init(30,angle)\n",
    "    for c in 'xyz':\n",
    "#         getattr(ax,f\"set_{c}lim\")([-1,1]);    \n",
    "        getattr(ax,f\"set_{c}label\")(f\"${c}$\",size=16)\n",
    "    ax.plot_surface(x,y,x - 2*y + 3,alpha=.5,cmap=\"ocean\")\n",
    "    ax.set_zlim3d([0,4])\n",
    "    ax.plot([0,-1/2],[0,1],[0,1/2])\n",
    "    ax.plot([0,0],[0,0],[0,4],'k')\n",
    "    ax.plot([0,0],[-2,2],[0,0],'k')\n",
    "    ax.plot([-2,2],[0,0],[0,0],'k');"
   ]
  },
  {
   "cell_type": "markdown",
   "metadata": {
    "slideshow": {
     "slide_type": "subslide"
    }
   },
   "source": [
    "### Extreme Value Theorem\n",
    "\n",
    "If $D\\in \\RR^n$ is closed and bounded and $f:D\\to \\RR$ is continuous, then there is an $\\vec x \\in D$ such that $f(\\vec x)$ is the **global maximum**. That is, $f(\\vec y) \\leq f(\\vec x)$.  "
   ]
  },
  {
   "cell_type": "markdown",
   "metadata": {
    "slideshow": {
     "slide_type": "fragment"
    }
   },
   "source": [
    "The same holds for the global minimum, mutatis mutandis. "
   ]
  },
  {
   "cell_type": "markdown",
   "metadata": {
    "slideshow": {
     "slide_type": "subslide"
    }
   },
   "source": [
    "## Consequences\n",
    "\n",
    "When trying to find the absolute extrema of a function $f$ on a set $D$, \n",
    "  - Find all critical points of $f$ in $D$ (unconstrained optimization). \n",
    "  - Find the extremes on the boundary of $D$."
   ]
  },
  {
   "cell_type": "code",
   "execution_count": 6,
   "metadata": {
    "hide_input": false,
    "scrolled": false,
    "slideshow": {
     "slide_type": "skip"
    }
   },
   "outputs": [
    {
     "data": {
      "application/vnd.jupyter.widget-view+json": {
       "model_id": "c65be3daee954aa4b30f12e52289011e",
       "version_major": 2,
       "version_minor": 0
      },
      "text/plain": [
       "interactive(children=(Dropdown(description='func', options={'f': <function <lambda> at 0x7fbc1e226f28>, 'g': <…"
      ]
     },
     "metadata": {},
     "output_type": "display_data"
    }
   ],
   "source": [
    "f = lambda x,y: 20*exp(-(x**2 + y**2)) - 15* exp(-2 *((x - 1)**2 + (y - 3/4)**2)) - 18 *exp(-2 *((x - 1)**2 + (y + 1/2)**2))\n",
    "g = lambda x,y: 10*x**2\n",
    "h = lambda x,y: 20*((x - 1)**2 - y**2/2) \n",
    "k = lambda x,y: 20*exp(-1/2*((x - 1/4)**2 + (y + 1/3)**2))*sin(5*x)*cos(7*y)\n",
    "\n",
    "@interact\n",
    "def _(func={\"f\": f,\"g\":g,\"h\":h,\"k\":k},angle=(-170,0,6),vangle=(0,90,6),grad=False,surf=False,):\n",
    "    fig = plt.figure(figsize = (10,10),dpi=100)\n",
    "    ax = fig.add_subplot(111,projection='3d')\n",
    "    ax.view_init(vangle,angle)\n",
    "    for c in 'xy':\n",
    "        getattr(ax,f\"set_{c}lim\")([-1,1]);    \n",
    "        getattr(ax,f\"set_{c}label\")(f\"${c}$\",size=16)\n",
    "    x =  np.linspace(-1,1,101)\n",
    "    y =  np.linspace(0,1,101)    \n",
    "    X,Y = np.meshgrid(x,y*3/2*(1-x**2))\n",
    "    Z = func(X,Y)\n",
    "    if surf:\n",
    "        ax.plot_surface(X,Y,Z,alpha=.9,cmap='ocean',rcount=70,ccount=70);\n",
    "#     ax.quiver([1,1],[0,0],[0,0],[-2/exp(1),-1/sqrt(2)],[1/exp(1),1/sqrt(2)],[0,0],lw=3,color='r',alpha=1)\n",
    "#     xx =yy = np.linspace(-3/2,3/2,20)\n",
    "#     xx,yy = np.meshgrid(xx,yy)\n",
    "#     if grad: \n",
    "#         ax2.quiver(xx,yy,func(xx+.01,yy)-func(xx,yy),func(xx,yy+.01)-func(xx,yy),lw=3,alpha=1)\n"
   ]
  },
  {
   "cell_type": "code",
   "execution_count": null,
   "metadata": {},
   "outputs": [],
   "source": []
  }
 ],
 "metadata": {
  "celltoolbar": "Slideshow",
  "kernelspec": {
   "display_name": "Python 3",
   "language": "python",
   "name": "python3"
  },
  "language_info": {
   "codemirror_mode": {
    "name": "ipython",
    "version": 3
   },
   "file_extension": ".py",
   "mimetype": "text/x-python",
   "name": "python",
   "nbconvert_exporter": "python",
   "pygments_lexer": "ipython3",
   "version": "3.7.3"
  },
  "rise": {
   "enable_chalkboard": true,
   "scroll": true,
   "theme": "sky",
   "transition": "concave"
  }
 },
 "nbformat": 4,
 "nbformat_minor": 2
}
