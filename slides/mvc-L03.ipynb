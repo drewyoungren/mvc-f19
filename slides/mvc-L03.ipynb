{
 "cells": [
  {
   "cell_type": "code",
   "execution_count": 92,
   "metadata": {
    "slideshow": {
     "slide_type": "skip"
    }
   },
   "outputs": [],
   "source": [
    "import numpy as np\n",
    "import matplotlib.pyplot as plt\n",
    "from IPython.display import display, HTML, IFrame\n",
    "from ipywidgets import interact\n",
    "import pandas as pd\n",
    "from numpy import cos,sin,pi\n",
    "from mpl_toolkits import mplot3d\n",
    "from mpl_toolkits.mplot3d import axes3d\n",
    "from matplotlib.patches import FancyArrowPatch\n",
    "from mpl_toolkits.mplot3d import proj3d\n",
    "\n",
    "class Arrow3D(FancyArrowPatch):\n",
    "    def __init__(self, xs, ys, zs, *args, **kwargs):\n",
    "        FancyArrowPatch.__init__(self, (0,0), (0,0), *args, **kwargs)\n",
    "        self._verts3d = xs, ys, zs\n",
    "\n",
    "    def draw(self, renderer):\n",
    "        xs3d, ys3d, zs3d = self._verts3d\n",
    "        xs, ys, zs = proj3d.proj_transform(xs3d, ys3d, zs3d, renderer.M)\n",
    "        self.set_positions((xs[0],ys[0]),(xs[1],ys[1]))\n",
    "        FancyArrowPatch.draw(self, renderer)\n",
    "\n",
    "plt.rcParams[\"figure.figsize\"] = [9.6, 7.2]"
   ]
  },
  {
   "cell_type": "markdown",
   "metadata": {
    "slideshow": {
     "slide_type": "notes"
    }
   },
   "source": [
    "$\\newcommand{\\RR}{\\mathbb{R}}$\n",
    "$\\newcommand{\\bv}[1]{\\begin{bmatrix} #1 \\end{bmatrix}}$\n",
    "$\\renewcommand{\\vec}{\\mathbf}$"
   ]
  },
  {
   "cell_type": "markdown",
   "metadata": {
    "hide_input": true,
    "slideshow": {
     "slide_type": "slide"
    }
   },
   "source": [
    "## Announcements\n",
    "\n",
    "  - Quiz 1 in recitation this week. \n",
    "    - Distance formula\n",
    "    - Dot product and its properties\n",
    "    - projection\n",
    "  - Homework 2 posted, due 9/17.\n",
    "  \n",
    "    "
   ]
  },
  {
   "cell_type": "markdown",
   "metadata": {
    "slideshow": {
     "slide_type": "slide"
    }
   },
   "source": [
    "## Vector Operations\n",
    "\n",
    "Let $\\vec v, \\vec w$ be vectors in $\\RR^n$ and $c$ a scalar. \n",
    "\n",
    "| Operation | Notation | Formula | Output |\n",
    "|---|---| --- |---|\n",
    "| magnitude    | $|\\vec v|$ | $$\\sqrt{\\sum v_i^2}$$ | scalar |\n",
    "| scalar multiplication | $c \\vec v$ | $$\\langle c v_1, \\ldots ,c v_n \\rangle $$| vector |\n",
    "| vector addition | $\\vec v + \\vec w$ | $$\\langle v_1 + w_1,\\ldots, v_n + w_n \\rangle $$| vector |\n",
    "| dot product | $\\vec v \\cdot \\vec w$ | $$v_1 w_1 + \\cdots + v_n w_n  $$| scalar |"
   ]
  },
  {
   "cell_type": "markdown",
   "metadata": {
    "slideshow": {
     "slide_type": "slide"
    }
   },
   "source": [
    "## Projection\n",
    "\n",
    "The third exercise above could be reworded, \"Find the multiple of $\\vec w $ *closest* to $\\vec v$."
   ]
  },
  {
   "cell_type": "code",
   "execution_count": 2,
   "metadata": {
    "hide_input": true,
    "scrolled": true,
    "slideshow": {
     "slide_type": "fragment"
    }
   },
   "outputs": [
    {
     "data": {
      "application/vnd.jupyter.widget-view+json": {
       "model_id": "3e9e36112ad348ed82ea20c2cd591e4c",
       "version_major": 2,
       "version_minor": 0
      },
      "text/plain": [
       "interactive(children=(FloatSlider(value=4.0, description='t', max=8.0, step=0.2), Output()), _dom_classes=('wi…"
      ]
     },
     "metadata": {},
     "output_type": "display_data"
    }
   ],
   "source": [
    "@interact\n",
    "def _(t=(0.,8,.2)):\n",
    "    fig,ax = plt.subplots(1, figsize=(6,6))\n",
    "\n",
    "    ax.set_xlim(0,8)\n",
    "    ax.set_ylim(0,8)\n",
    "\n",
    "    ax.arrow(0,0,5,3,color='r',width=.02,head_width=.1,length_includes_head=True)\n",
    "    ax.arrow(0,0,t,t,color='b',width=.02,head_width=.1,length_includes_head=True)\n",
    "    ax.arrow(t,t,5-t,3-t,color='k',alpha = .3,length_includes_head=True)\n",
    "#     ax.arrow(0,0,-(1-t)/2,(1-t)*3/2,alpha=.3)\n",
    "#     ax.arrow(0,0,2*t - (1-t)/2,t + (1-t)*3/2,color='purple', width=.02,head_width=.1)\n",
    "    ax.grid(True)\n",
    "    ax.text(2,7,f\"$|\\\\vec v- c \\\\vec w | = {np.linalg.norm(np.array([5-t,3-t])):.4f}$\",size=22)\n",
    "    ax.plot([0,8],[0,8],'k','---',alpha=.2)"
   ]
  },
  {
   "cell_type": "markdown",
   "metadata": {
    "slideshow": {
     "slide_type": "subslide"
    }
   },
   "source": [
    "### Definitions\n",
    "\n",
    "Suppose $\\vec b \\neq \\vec 0$.\n",
    "\n",
    "The **vector projection** of the vector $\\vec a$ onto $\\vec b$ is \n",
    "$$\\operatorname{proj}_\\vec b \\vec a = \\frac{\\vec a \\cdot \\vec b}{\\vec b \\cdot \\vec b} \\vec b. $$\n",
    "\n",
    "The **scalar projection** of the vector $\\vec a$ onto $\\vec b$ is \n",
    "$$\\operatorname{comp}_\\vec b \\vec a = \\frac{\\vec a \\cdot \\vec b}{|\\vec b|}. $$\n"
   ]
  },
  {
   "cell_type": "markdown",
   "metadata": {
    "slideshow": {
     "slide_type": "slide"
    }
   },
   "source": [
    "# Cross Product\n",
    "\n",
    "It turns out $\\RR^3$ is special. There happens to be a vector 'multiplication' of two vectors $$\\vec v \\times \\vec w$$ that gives a new vector. This **does not work** in $\\RR^2$ (and most other dimensions)."
   ]
  },
  {
   "cell_type": "markdown",
   "metadata": {
    "slideshow": {
     "slide_type": "fragment"
    }
   },
   "source": [
    "The following properties actually define the cross product.\n",
    "\n",
    "  - $\\vec v \\times \\vec w$ is bilinear. "
   ]
  },
  {
   "cell_type": "markdown",
   "metadata": {
    "slideshow": {
     "slide_type": "fragment"
    }
   },
   "source": [
    "  - $\\vec v \\times \\vec w  = - \\vec w \\times \\vec v $ (antisymmetry)"
   ]
  },
  {
   "cell_type": "markdown",
   "metadata": {
    "slideshow": {
     "slide_type": "fragment"
    }
   },
   "source": [
    "  - $\\vec i \\times \\vec j = \\vec k$\n",
    "  - $\\vec j \\times \\vec k = \\vec i$\n",
    "  - $\\vec k \\times \\vec i = \\vec j$\n",
    "  "
   ]
  },
  {
   "cell_type": "markdown",
   "metadata": {
    "slideshow": {
     "slide_type": "subslide"
    }
   },
   "source": [
    "## Formula\n",
    "\n",
    "$$ \\langle a,b,c \\rangle\\times \\langle d,e,f \\rangle = (a\\vec i + b\\vec j + c \\vec k)\\times(d\\vec i + e\\vec j + f \\vec k)$$"
   ]
  },
  {
   "cell_type": "markdown",
   "metadata": {
    "slideshow": {
     "slide_type": "fragment"
    }
   },
   "source": [
    "$$ = \\begin{vmatrix} \\vec i & \\vec j & \\vec k \\\\a &b &c \\\\ d & e & f \\\\ \\end{vmatrix} $$"
   ]
  },
  {
   "cell_type": "markdown",
   "metadata": {
    "slideshow": {
     "slide_type": "subslide"
    }
   },
   "source": [
    "## Properties of $\\vec v \\times \\vec w$\n",
    "\n",
    "  - $\\vec v \\times \\vec w$ is perpendicular to *both* $\\vec v $ and $\\vec w$."
   ]
  },
  {
   "cell_type": "markdown",
   "metadata": {
    "slideshow": {
     "slide_type": "fragment"
    }
   },
   "source": [
    "  - $\\vec v \\times \\vec w$ points in the direction according to the right-hand-rule."
   ]
  },
  {
   "cell_type": "markdown",
   "metadata": {
    "slideshow": {
     "slide_type": "fragment"
    }
   },
   "source": [
    "  - $|\\vec v \\times \\vec w| = |\\vec v ||\\vec w|\\sin\\theta$ where theta is the (positive) angle between the vectors."
   ]
  },
  {
   "cell_type": "code",
   "execution_count": 97,
   "metadata": {
    "scrolled": false
   },
   "outputs": [
    {
     "data": {
      "application/vnd.jupyter.widget-view+json": {
       "model_id": "878f0884af794962908cda83e0805c46",
       "version_major": 2,
       "version_minor": 0
      },
      "text/plain": [
       "interactive(children=(IntSlider(value=42, description='angle', max=90, step=6), Output()), _dom_classes=('widg…"
      ]
     },
     "metadata": {},
     "output_type": "display_data"
    }
   ],
   "source": [
    "@interact\n",
    "def _(angle=(0,90,6)):\n",
    "    fig = plt.figure()\n",
    "    ax = fig.gca(projection='3d')\n",
    "    ax.view_init(30,angle)\n",
    "    ax.quiver([0,0,0],[0,0,0],[0,0,0],[1,2,-1.2],[1,.2,3],[1,-1,-1.8])\n",
    "    ax.set_xlim([-2,2])\n",
    "    ax.set_ylim([-2,2])\n",
    "    ax.set_zlim([-2,2]);"
   ]
  },
  {
   "cell_type": "markdown",
   "metadata": {
    "slideshow": {
     "slide_type": "slide"
    }
   },
   "source": [
    "\n",
    "\n",
    "### Exercises\n",
    "\n",
    "  1. Find a unit vector perpendicular to $\\langle 1,2,-1\\rangle$ and $\\langle 3,0,1\\rangle$. Is there only one?\n",
    "  \n",
    "  2. Suppose that $\\vec a$ is a nonzero vector in $\\RR^3$.\n",
    "    1. If $\\vec a \\cdot \\vec b = \\vec a \\cdot \\vec c$, does it follow that $\\vec b = \\vec c$?\n",
    "    1. If $\\vec a \\times \\vec b= \\vec a \\times \\vec c$, does it follow that $\\vec b = \\vec c$?\n",
    "    2. If both conditions above hold, does it follow that $\\vec b = \\vec c$?"
   ]
  },
  {
   "cell_type": "markdown",
   "metadata": {
    "slideshow": {
     "slide_type": "slide"
    }
   },
   "source": [
    "## Volumes\n",
    "\n",
    "The volume of a parallelopiped defined by vectors $\\vec u$, $\\vec v$, and $vec w$ as 3 sides is given by $$V = |\\vec u\\cdot(\\vec v \\times \\vec w)|.$$ The inner expression is called the **triple product** of the three vectors."
   ]
  },
  {
   "cell_type": "code",
   "execution_count": 95,
   "metadata": {
    "slideshow": {
     "slide_type": "subslide"
    }
   },
   "outputs": [
    {
     "data": {
      "application/vnd.jupyter.widget-view+json": {
       "model_id": "f3e34a089293463e94841cf78909f573",
       "version_major": 2,
       "version_minor": 0
      },
      "text/plain": [
       "interactive(children=(IntSlider(value=42, description='angle', max=90, step=6), Output()), _dom_classes=('widg…"
      ]
     },
     "metadata": {},
     "output_type": "display_data"
    }
   ],
   "source": [
    "@interact\n",
    "def _(angle=(0,90,6)):\n",
    "    fig = plt.figure()\n",
    "    ax = fig.gca(projection='3d')\n",
    "\n",
    "    uvw = np.array([[1,1.5,1],[2,.2,-1],[1,-1,1]])\n",
    "    u,v,w = uvw\n",
    "    ax.quiver([0,0,0],[0,0,0],[0,0,0],uvw[:,0],uvw[:,1],uvw[:,2])\n",
    "    ppd = np.column_stack([u,u+v,u+v+w,v+w,w,w+u,u+v+w])\n",
    "    ax.plot(ppd[0],ppd[1],ppd[2],color='k',ls='dashed')\n",
    "    ppd = np.column_stack([u+v,v,v+w])\n",
    "    ax.plot(ppd[0],ppd[1],ppd[2],color='k',ls='dashed')\n",
    "    ppd = np.column_stack([u,u+w])\n",
    "    ax.plot(ppd[0],ppd[1],ppd[2],color='k',ls='dashed')\n",
    "    ax.view_init(30,angle)\n",
    "    ax.set_xlim([-1,3])\n",
    "    ax.set_ylim([-2,2])\n",
    "    ax.set_zlim([-2,2]);"
   ]
  },
  {
   "cell_type": "markdown",
   "metadata": {
    "slideshow": {
     "slide_type": "slide"
    }
   },
   "source": [
    "## Lines and Planes\n",
    "\n",
    "In $\\RR^2$, two distinct points determine a line. The same is true in higher dimensions. \n",
    "\n",
    "Similarly, a slope (a scalar) and a point is sufficient in $\\RR^2$, but in higher dimension the \"direction\" of a line needs more than a scalar to be specified. It can be done with a **direction vector**.\n",
    "\n",
    "### Parametric form\n",
    "\n",
    "The parametric form for a line through a position $\\vec p$ with direction vector $\\vec v$ it geven by $$\\vec r(t) = \\vec p + t \\vec v.$$\n"
   ]
  },
  {
   "cell_type": "code",
   "execution_count": 94,
   "metadata": {
    "scrolled": false,
    "slideshow": {
     "slide_type": "fragment"
    }
   },
   "outputs": [
    {
     "data": {
      "application/vnd.jupyter.widget-view+json": {
       "model_id": "85110f20c4f14559aea28b649a61f594",
       "version_major": 2,
       "version_minor": 0
      },
      "text/plain": [
       "interactive(children=(FloatSlider(value=1.5, description='t', max=5.0, min=-2.0), IntSlider(value=42, descript…"
      ]
     },
     "metadata": {},
     "output_type": "display_data"
    }
   ],
   "source": [
    "@interact\n",
    "def _(t=(-2.,5.,.1),angle=(0,90,6)):\n",
    "    fig = plt.figure()\n",
    "    ax = fig.gca(projection='3d')\n",
    "    ax.quiver([0,1],[0,1],[0,1],[1,2*t],[1,0],[1,-t*2])\n",
    "    ax.plot([1+2*(-1),1+2*(5)],[1,1],[1-2*(-1),1-2*5],color='k',ls='dashed')\n",
    "    ax.set_xlim([-1,5])\n",
    "    ax.set_ylim([-2,4])\n",
    "    ax.set_zlim([-2,4]);\n",
    "    ax.view_init(30, angle)\n",
    "    ax.quiver([0,1],[0,1],[0,1],[1,2*t],[1,0],[1,-t*2])"
   ]
  },
  {
   "cell_type": "markdown",
   "metadata": {
    "slideshow": {
     "slide_type": "subslide"
    }
   },
   "source": [
    "### Quick exercise\n",
    "\n",
    "Write a parametric form for a line containing position vectors $\\vec p$ and 4\\vec q$."
   ]
  },
  {
   "cell_type": "markdown",
   "metadata": {
    "slideshow": {
     "slide_type": "fragment"
    }
   },
   "source": [
    "### Alternate form\n",
    "\n",
    "Sometimes lines in $\\RR^3$ are written as 3 equations:\n",
    "\n",
    "\\begin{align*}\n",
    "x &= v_1 t + p_1 \\\\\n",
    "y &= v_2 t + p_2 \\\\\n",
    "z &= v_3 t + p_3\n",
    "\\end{align*}"
   ]
  },
  {
   "cell_type": "markdown",
   "metadata": {
    "slideshow": {
     "slide_type": "subslide"
    }
   },
   "source": [
    "## Exercises\n",
    "\n",
    "  1. Where does the line through $(2,4,-3)$ and $(3,1,-1)$ cross the $xy$-plane?\n",
    "  2. Is the line through $(2,4,0)$ and $(1,1,1)$ perpendicular to the line through $(3,3,4)$ and $3,-1,-8)$?"
   ]
  },
  {
   "cell_type": "markdown",
   "metadata": {
    "slideshow": {
     "slide_type": "slide"
    }
   },
   "source": [
    "# Planes\n",
    "\n",
    "By analogy, we could parametrize planes in a similar way, but need 2 parameters.\n",
    "\n",
    "$$\\vec r(s,t) = \\vec p + t\\vec v + s \\vec w$$"
   ]
  },
  {
   "cell_type": "code",
   "execution_count": 60,
   "metadata": {
    "slideshow": {
     "slide_type": "fragment"
    }
   },
   "outputs": [
    {
     "data": {
      "application/javascript": [
       "/* Put everything inside the global mpl namespace */\n",
       "window.mpl = {};\n",
       "\n",
       "\n",
       "mpl.get_websocket_type = function() {\n",
       "    if (typeof(WebSocket) !== 'undefined') {\n",
       "        return WebSocket;\n",
       "    } else if (typeof(MozWebSocket) !== 'undefined') {\n",
       "        return MozWebSocket;\n",
       "    } else {\n",
       "        alert('Your browser does not have WebSocket support. ' +\n",
       "              'Please try Chrome, Safari or Firefox ≥ 6. ' +\n",
       "              'Firefox 4 and 5 are also supported but you ' +\n",
       "              'have to enable WebSockets in about:config.');\n",
       "    };\n",
       "}\n",
       "\n",
       "mpl.figure = function(figure_id, websocket, ondownload, parent_element) {\n",
       "    this.id = figure_id;\n",
       "\n",
       "    this.ws = websocket;\n",
       "\n",
       "    this.supports_binary = (this.ws.binaryType != undefined);\n",
       "\n",
       "    if (!this.supports_binary) {\n",
       "        var warnings = document.getElementById(\"mpl-warnings\");\n",
       "        if (warnings) {\n",
       "            warnings.style.display = 'block';\n",
       "            warnings.textContent = (\n",
       "                \"This browser does not support binary websocket messages. \" +\n",
       "                    \"Performance may be slow.\");\n",
       "        }\n",
       "    }\n",
       "\n",
       "    this.imageObj = new Image();\n",
       "\n",
       "    this.context = undefined;\n",
       "    this.message = undefined;\n",
       "    this.canvas = undefined;\n",
       "    this.rubberband_canvas = undefined;\n",
       "    this.rubberband_context = undefined;\n",
       "    this.format_dropdown = undefined;\n",
       "\n",
       "    this.image_mode = 'full';\n",
       "\n",
       "    this.root = $('<div/>');\n",
       "    this._root_extra_style(this.root)\n",
       "    this.root.attr('style', 'display: inline-block');\n",
       "\n",
       "    $(parent_element).append(this.root);\n",
       "\n",
       "    this._init_header(this);\n",
       "    this._init_canvas(this);\n",
       "    this._init_toolbar(this);\n",
       "\n",
       "    var fig = this;\n",
       "\n",
       "    this.waiting = false;\n",
       "\n",
       "    this.ws.onopen =  function () {\n",
       "            fig.send_message(\"supports_binary\", {value: fig.supports_binary});\n",
       "            fig.send_message(\"send_image_mode\", {});\n",
       "            if (mpl.ratio != 1) {\n",
       "                fig.send_message(\"set_dpi_ratio\", {'dpi_ratio': mpl.ratio});\n",
       "            }\n",
       "            fig.send_message(\"refresh\", {});\n",
       "        }\n",
       "\n",
       "    this.imageObj.onload = function() {\n",
       "            if (fig.image_mode == 'full') {\n",
       "                // Full images could contain transparency (where diff images\n",
       "                // almost always do), so we need to clear the canvas so that\n",
       "                // there is no ghosting.\n",
       "                fig.context.clearRect(0, 0, fig.canvas.width, fig.canvas.height);\n",
       "            }\n",
       "            fig.context.drawImage(fig.imageObj, 0, 0);\n",
       "        };\n",
       "\n",
       "    this.imageObj.onunload = function() {\n",
       "        fig.ws.close();\n",
       "    }\n",
       "\n",
       "    this.ws.onmessage = this._make_on_message_function(this);\n",
       "\n",
       "    this.ondownload = ondownload;\n",
       "}\n",
       "\n",
       "mpl.figure.prototype._init_header = function() {\n",
       "    var titlebar = $(\n",
       "        '<div class=\"ui-dialog-titlebar ui-widget-header ui-corner-all ' +\n",
       "        'ui-helper-clearfix\"/>');\n",
       "    var titletext = $(\n",
       "        '<div class=\"ui-dialog-title\" style=\"width: 100%; ' +\n",
       "        'text-align: center; padding: 3px;\"/>');\n",
       "    titlebar.append(titletext)\n",
       "    this.root.append(titlebar);\n",
       "    this.header = titletext[0];\n",
       "}\n",
       "\n",
       "\n",
       "\n",
       "mpl.figure.prototype._canvas_extra_style = function(canvas_div) {\n",
       "\n",
       "}\n",
       "\n",
       "\n",
       "mpl.figure.prototype._root_extra_style = function(canvas_div) {\n",
       "\n",
       "}\n",
       "\n",
       "mpl.figure.prototype._init_canvas = function() {\n",
       "    var fig = this;\n",
       "\n",
       "    var canvas_div = $('<div/>');\n",
       "\n",
       "    canvas_div.attr('style', 'position: relative; clear: both; outline: 0');\n",
       "\n",
       "    function canvas_keyboard_event(event) {\n",
       "        return fig.key_event(event, event['data']);\n",
       "    }\n",
       "\n",
       "    canvas_div.keydown('key_press', canvas_keyboard_event);\n",
       "    canvas_div.keyup('key_release', canvas_keyboard_event);\n",
       "    this.canvas_div = canvas_div\n",
       "    this._canvas_extra_style(canvas_div)\n",
       "    this.root.append(canvas_div);\n",
       "\n",
       "    var canvas = $('<canvas/>');\n",
       "    canvas.addClass('mpl-canvas');\n",
       "    canvas.attr('style', \"left: 0; top: 0; z-index: 0; outline: 0\")\n",
       "\n",
       "    this.canvas = canvas[0];\n",
       "    this.context = canvas[0].getContext(\"2d\");\n",
       "\n",
       "    var backingStore = this.context.backingStorePixelRatio ||\n",
       "\tthis.context.webkitBackingStorePixelRatio ||\n",
       "\tthis.context.mozBackingStorePixelRatio ||\n",
       "\tthis.context.msBackingStorePixelRatio ||\n",
       "\tthis.context.oBackingStorePixelRatio ||\n",
       "\tthis.context.backingStorePixelRatio || 1;\n",
       "\n",
       "    mpl.ratio = (window.devicePixelRatio || 1) / backingStore;\n",
       "\n",
       "    var rubberband = $('<canvas/>');\n",
       "    rubberband.attr('style', \"position: absolute; left: 0; top: 0; z-index: 1;\")\n",
       "\n",
       "    var pass_mouse_events = true;\n",
       "\n",
       "    canvas_div.resizable({\n",
       "        start: function(event, ui) {\n",
       "            pass_mouse_events = false;\n",
       "        },\n",
       "        resize: function(event, ui) {\n",
       "            fig.request_resize(ui.size.width, ui.size.height);\n",
       "        },\n",
       "        stop: function(event, ui) {\n",
       "            pass_mouse_events = true;\n",
       "            fig.request_resize(ui.size.width, ui.size.height);\n",
       "        },\n",
       "    });\n",
       "\n",
       "    function mouse_event_fn(event) {\n",
       "        if (pass_mouse_events)\n",
       "            return fig.mouse_event(event, event['data']);\n",
       "    }\n",
       "\n",
       "    rubberband.mousedown('button_press', mouse_event_fn);\n",
       "    rubberband.mouseup('button_release', mouse_event_fn);\n",
       "    // Throttle sequential mouse events to 1 every 20ms.\n",
       "    rubberband.mousemove('motion_notify', mouse_event_fn);\n",
       "\n",
       "    rubberband.mouseenter('figure_enter', mouse_event_fn);\n",
       "    rubberband.mouseleave('figure_leave', mouse_event_fn);\n",
       "\n",
       "    canvas_div.on(\"wheel\", function (event) {\n",
       "        event = event.originalEvent;\n",
       "        event['data'] = 'scroll'\n",
       "        if (event.deltaY < 0) {\n",
       "            event.step = 1;\n",
       "        } else {\n",
       "            event.step = -1;\n",
       "        }\n",
       "        mouse_event_fn(event);\n",
       "    });\n",
       "\n",
       "    canvas_div.append(canvas);\n",
       "    canvas_div.append(rubberband);\n",
       "\n",
       "    this.rubberband = rubberband;\n",
       "    this.rubberband_canvas = rubberband[0];\n",
       "    this.rubberband_context = rubberband[0].getContext(\"2d\");\n",
       "    this.rubberband_context.strokeStyle = \"#000000\";\n",
       "\n",
       "    this._resize_canvas = function(width, height) {\n",
       "        // Keep the size of the canvas, canvas container, and rubber band\n",
       "        // canvas in synch.\n",
       "        canvas_div.css('width', width)\n",
       "        canvas_div.css('height', height)\n",
       "\n",
       "        canvas.attr('width', width * mpl.ratio);\n",
       "        canvas.attr('height', height * mpl.ratio);\n",
       "        canvas.attr('style', 'width: ' + width + 'px; height: ' + height + 'px;');\n",
       "\n",
       "        rubberband.attr('width', width);\n",
       "        rubberband.attr('height', height);\n",
       "    }\n",
       "\n",
       "    // Set the figure to an initial 600x600px, this will subsequently be updated\n",
       "    // upon first draw.\n",
       "    this._resize_canvas(600, 600);\n",
       "\n",
       "    // Disable right mouse context menu.\n",
       "    $(this.rubberband_canvas).bind(\"contextmenu\",function(e){\n",
       "        return false;\n",
       "    });\n",
       "\n",
       "    function set_focus () {\n",
       "        canvas.focus();\n",
       "        canvas_div.focus();\n",
       "    }\n",
       "\n",
       "    window.setTimeout(set_focus, 100);\n",
       "}\n",
       "\n",
       "mpl.figure.prototype._init_toolbar = function() {\n",
       "    var fig = this;\n",
       "\n",
       "    var nav_element = $('<div/>');\n",
       "    nav_element.attr('style', 'width: 100%');\n",
       "    this.root.append(nav_element);\n",
       "\n",
       "    // Define a callback function for later on.\n",
       "    function toolbar_event(event) {\n",
       "        return fig.toolbar_button_onclick(event['data']);\n",
       "    }\n",
       "    function toolbar_mouse_event(event) {\n",
       "        return fig.toolbar_button_onmouseover(event['data']);\n",
       "    }\n",
       "\n",
       "    for(var toolbar_ind in mpl.toolbar_items) {\n",
       "        var name = mpl.toolbar_items[toolbar_ind][0];\n",
       "        var tooltip = mpl.toolbar_items[toolbar_ind][1];\n",
       "        var image = mpl.toolbar_items[toolbar_ind][2];\n",
       "        var method_name = mpl.toolbar_items[toolbar_ind][3];\n",
       "\n",
       "        if (!name) {\n",
       "            // put a spacer in here.\n",
       "            continue;\n",
       "        }\n",
       "        var button = $('<button/>');\n",
       "        button.addClass('ui-button ui-widget ui-state-default ui-corner-all ' +\n",
       "                        'ui-button-icon-only');\n",
       "        button.attr('role', 'button');\n",
       "        button.attr('aria-disabled', 'false');\n",
       "        button.click(method_name, toolbar_event);\n",
       "        button.mouseover(tooltip, toolbar_mouse_event);\n",
       "\n",
       "        var icon_img = $('<span/>');\n",
       "        icon_img.addClass('ui-button-icon-primary ui-icon');\n",
       "        icon_img.addClass(image);\n",
       "        icon_img.addClass('ui-corner-all');\n",
       "\n",
       "        var tooltip_span = $('<span/>');\n",
       "        tooltip_span.addClass('ui-button-text');\n",
       "        tooltip_span.html(tooltip);\n",
       "\n",
       "        button.append(icon_img);\n",
       "        button.append(tooltip_span);\n",
       "\n",
       "        nav_element.append(button);\n",
       "    }\n",
       "\n",
       "    var fmt_picker_span = $('<span/>');\n",
       "\n",
       "    var fmt_picker = $('<select/>');\n",
       "    fmt_picker.addClass('mpl-toolbar-option ui-widget ui-widget-content');\n",
       "    fmt_picker_span.append(fmt_picker);\n",
       "    nav_element.append(fmt_picker_span);\n",
       "    this.format_dropdown = fmt_picker[0];\n",
       "\n",
       "    for (var ind in mpl.extensions) {\n",
       "        var fmt = mpl.extensions[ind];\n",
       "        var option = $(\n",
       "            '<option/>', {selected: fmt === mpl.default_extension}).html(fmt);\n",
       "        fmt_picker.append(option);\n",
       "    }\n",
       "\n",
       "    // Add hover states to the ui-buttons\n",
       "    $( \".ui-button\" ).hover(\n",
       "        function() { $(this).addClass(\"ui-state-hover\");},\n",
       "        function() { $(this).removeClass(\"ui-state-hover\");}\n",
       "    );\n",
       "\n",
       "    var status_bar = $('<span class=\"mpl-message\"/>');\n",
       "    nav_element.append(status_bar);\n",
       "    this.message = status_bar[0];\n",
       "}\n",
       "\n",
       "mpl.figure.prototype.request_resize = function(x_pixels, y_pixels) {\n",
       "    // Request matplotlib to resize the figure. Matplotlib will then trigger a resize in the client,\n",
       "    // which will in turn request a refresh of the image.\n",
       "    this.send_message('resize', {'width': x_pixels, 'height': y_pixels});\n",
       "}\n",
       "\n",
       "mpl.figure.prototype.send_message = function(type, properties) {\n",
       "    properties['type'] = type;\n",
       "    properties['figure_id'] = this.id;\n",
       "    this.ws.send(JSON.stringify(properties));\n",
       "}\n",
       "\n",
       "mpl.figure.prototype.send_draw_message = function() {\n",
       "    if (!this.waiting) {\n",
       "        this.waiting = true;\n",
       "        this.ws.send(JSON.stringify({type: \"draw\", figure_id: this.id}));\n",
       "    }\n",
       "}\n",
       "\n",
       "\n",
       "mpl.figure.prototype.handle_save = function(fig, msg) {\n",
       "    var format_dropdown = fig.format_dropdown;\n",
       "    var format = format_dropdown.options[format_dropdown.selectedIndex].value;\n",
       "    fig.ondownload(fig, format);\n",
       "}\n",
       "\n",
       "\n",
       "mpl.figure.prototype.handle_resize = function(fig, msg) {\n",
       "    var size = msg['size'];\n",
       "    if (size[0] != fig.canvas.width || size[1] != fig.canvas.height) {\n",
       "        fig._resize_canvas(size[0], size[1]);\n",
       "        fig.send_message(\"refresh\", {});\n",
       "    };\n",
       "}\n",
       "\n",
       "mpl.figure.prototype.handle_rubberband = function(fig, msg) {\n",
       "    var x0 = msg['x0'] / mpl.ratio;\n",
       "    var y0 = (fig.canvas.height - msg['y0']) / mpl.ratio;\n",
       "    var x1 = msg['x1'] / mpl.ratio;\n",
       "    var y1 = (fig.canvas.height - msg['y1']) / mpl.ratio;\n",
       "    x0 = Math.floor(x0) + 0.5;\n",
       "    y0 = Math.floor(y0) + 0.5;\n",
       "    x1 = Math.floor(x1) + 0.5;\n",
       "    y1 = Math.floor(y1) + 0.5;\n",
       "    var min_x = Math.min(x0, x1);\n",
       "    var min_y = Math.min(y0, y1);\n",
       "    var width = Math.abs(x1 - x0);\n",
       "    var height = Math.abs(y1 - y0);\n",
       "\n",
       "    fig.rubberband_context.clearRect(\n",
       "        0, 0, fig.canvas.width / mpl.ratio, fig.canvas.height / mpl.ratio);\n",
       "\n",
       "    fig.rubberband_context.strokeRect(min_x, min_y, width, height);\n",
       "}\n",
       "\n",
       "mpl.figure.prototype.handle_figure_label = function(fig, msg) {\n",
       "    // Updates the figure title.\n",
       "    fig.header.textContent = msg['label'];\n",
       "}\n",
       "\n",
       "mpl.figure.prototype.handle_cursor = function(fig, msg) {\n",
       "    var cursor = msg['cursor'];\n",
       "    switch(cursor)\n",
       "    {\n",
       "    case 0:\n",
       "        cursor = 'pointer';\n",
       "        break;\n",
       "    case 1:\n",
       "        cursor = 'default';\n",
       "        break;\n",
       "    case 2:\n",
       "        cursor = 'crosshair';\n",
       "        break;\n",
       "    case 3:\n",
       "        cursor = 'move';\n",
       "        break;\n",
       "    }\n",
       "    fig.rubberband_canvas.style.cursor = cursor;\n",
       "}\n",
       "\n",
       "mpl.figure.prototype.handle_message = function(fig, msg) {\n",
       "    fig.message.textContent = msg['message'];\n",
       "}\n",
       "\n",
       "mpl.figure.prototype.handle_draw = function(fig, msg) {\n",
       "    // Request the server to send over a new figure.\n",
       "    fig.send_draw_message();\n",
       "}\n",
       "\n",
       "mpl.figure.prototype.handle_image_mode = function(fig, msg) {\n",
       "    fig.image_mode = msg['mode'];\n",
       "}\n",
       "\n",
       "mpl.figure.prototype.updated_canvas_event = function() {\n",
       "    // Called whenever the canvas gets updated.\n",
       "    this.send_message(\"ack\", {});\n",
       "}\n",
       "\n",
       "// A function to construct a web socket function for onmessage handling.\n",
       "// Called in the figure constructor.\n",
       "mpl.figure.prototype._make_on_message_function = function(fig) {\n",
       "    return function socket_on_message(evt) {\n",
       "        if (evt.data instanceof Blob) {\n",
       "            /* FIXME: We get \"Resource interpreted as Image but\n",
       "             * transferred with MIME type text/plain:\" errors on\n",
       "             * Chrome.  But how to set the MIME type?  It doesn't seem\n",
       "             * to be part of the websocket stream */\n",
       "            evt.data.type = \"image/png\";\n",
       "\n",
       "            /* Free the memory for the previous frames */\n",
       "            if (fig.imageObj.src) {\n",
       "                (window.URL || window.webkitURL).revokeObjectURL(\n",
       "                    fig.imageObj.src);\n",
       "            }\n",
       "\n",
       "            fig.imageObj.src = (window.URL || window.webkitURL).createObjectURL(\n",
       "                evt.data);\n",
       "            fig.updated_canvas_event();\n",
       "            fig.waiting = false;\n",
       "            return;\n",
       "        }\n",
       "        else if (typeof evt.data === 'string' && evt.data.slice(0, 21) == \"data:image/png;base64\") {\n",
       "            fig.imageObj.src = evt.data;\n",
       "            fig.updated_canvas_event();\n",
       "            fig.waiting = false;\n",
       "            return;\n",
       "        }\n",
       "\n",
       "        var msg = JSON.parse(evt.data);\n",
       "        var msg_type = msg['type'];\n",
       "\n",
       "        // Call the  \"handle_{type}\" callback, which takes\n",
       "        // the figure and JSON message as its only arguments.\n",
       "        try {\n",
       "            var callback = fig[\"handle_\" + msg_type];\n",
       "        } catch (e) {\n",
       "            console.log(\"No handler for the '\" + msg_type + \"' message type: \", msg);\n",
       "            return;\n",
       "        }\n",
       "\n",
       "        if (callback) {\n",
       "            try {\n",
       "                // console.log(\"Handling '\" + msg_type + \"' message: \", msg);\n",
       "                callback(fig, msg);\n",
       "            } catch (e) {\n",
       "                console.log(\"Exception inside the 'handler_\" + msg_type + \"' callback:\", e, e.stack, msg);\n",
       "            }\n",
       "        }\n",
       "    };\n",
       "}\n",
       "\n",
       "// from http://stackoverflow.com/questions/1114465/getting-mouse-location-in-canvas\n",
       "mpl.findpos = function(e) {\n",
       "    //this section is from http://www.quirksmode.org/js/events_properties.html\n",
       "    var targ;\n",
       "    if (!e)\n",
       "        e = window.event;\n",
       "    if (e.target)\n",
       "        targ = e.target;\n",
       "    else if (e.srcElement)\n",
       "        targ = e.srcElement;\n",
       "    if (targ.nodeType == 3) // defeat Safari bug\n",
       "        targ = targ.parentNode;\n",
       "\n",
       "    // jQuery normalizes the pageX and pageY\n",
       "    // pageX,Y are the mouse positions relative to the document\n",
       "    // offset() returns the position of the element relative to the document\n",
       "    var x = e.pageX - $(targ).offset().left;\n",
       "    var y = e.pageY - $(targ).offset().top;\n",
       "\n",
       "    return {\"x\": x, \"y\": y};\n",
       "};\n",
       "\n",
       "/*\n",
       " * return a copy of an object with only non-object keys\n",
       " * we need this to avoid circular references\n",
       " * http://stackoverflow.com/a/24161582/3208463\n",
       " */\n",
       "function simpleKeys (original) {\n",
       "  return Object.keys(original).reduce(function (obj, key) {\n",
       "    if (typeof original[key] !== 'object')\n",
       "        obj[key] = original[key]\n",
       "    return obj;\n",
       "  }, {});\n",
       "}\n",
       "\n",
       "mpl.figure.prototype.mouse_event = function(event, name) {\n",
       "    var canvas_pos = mpl.findpos(event)\n",
       "\n",
       "    if (name === 'button_press')\n",
       "    {\n",
       "        this.canvas.focus();\n",
       "        this.canvas_div.focus();\n",
       "    }\n",
       "\n",
       "    var x = canvas_pos.x * mpl.ratio;\n",
       "    var y = canvas_pos.y * mpl.ratio;\n",
       "\n",
       "    this.send_message(name, {x: x, y: y, button: event.button,\n",
       "                             step: event.step,\n",
       "                             guiEvent: simpleKeys(event)});\n",
       "\n",
       "    /* This prevents the web browser from automatically changing to\n",
       "     * the text insertion cursor when the button is pressed.  We want\n",
       "     * to control all of the cursor setting manually through the\n",
       "     * 'cursor' event from matplotlib */\n",
       "    event.preventDefault();\n",
       "    return false;\n",
       "}\n",
       "\n",
       "mpl.figure.prototype._key_event_extra = function(event, name) {\n",
       "    // Handle any extra behaviour associated with a key event\n",
       "}\n",
       "\n",
       "mpl.figure.prototype.key_event = function(event, name) {\n",
       "\n",
       "    // Prevent repeat events\n",
       "    if (name == 'key_press')\n",
       "    {\n",
       "        if (event.which === this._key)\n",
       "            return;\n",
       "        else\n",
       "            this._key = event.which;\n",
       "    }\n",
       "    if (name == 'key_release')\n",
       "        this._key = null;\n",
       "\n",
       "    var value = '';\n",
       "    if (event.ctrlKey && event.which != 17)\n",
       "        value += \"ctrl+\";\n",
       "    if (event.altKey && event.which != 18)\n",
       "        value += \"alt+\";\n",
       "    if (event.shiftKey && event.which != 16)\n",
       "        value += \"shift+\";\n",
       "\n",
       "    value += 'k';\n",
       "    value += event.which.toString();\n",
       "\n",
       "    this._key_event_extra(event, name);\n",
       "\n",
       "    this.send_message(name, {key: value,\n",
       "                             guiEvent: simpleKeys(event)});\n",
       "    return false;\n",
       "}\n",
       "\n",
       "mpl.figure.prototype.toolbar_button_onclick = function(name) {\n",
       "    if (name == 'download') {\n",
       "        this.handle_save(this, null);\n",
       "    } else {\n",
       "        this.send_message(\"toolbar_button\", {name: name});\n",
       "    }\n",
       "};\n",
       "\n",
       "mpl.figure.prototype.toolbar_button_onmouseover = function(tooltip) {\n",
       "    this.message.textContent = tooltip;\n",
       "};\n",
       "mpl.toolbar_items = [[\"Home\", \"Reset original view\", \"fa fa-home icon-home\", \"home\"], [\"Back\", \"Back to previous view\", \"fa fa-arrow-left icon-arrow-left\", \"back\"], [\"Forward\", \"Forward to next view\", \"fa fa-arrow-right icon-arrow-right\", \"forward\"], [\"\", \"\", \"\", \"\"], [\"Pan\", \"Pan axes with left mouse, zoom with right\", \"fa fa-arrows icon-move\", \"pan\"], [\"Zoom\", \"Zoom to rectangle\", \"fa fa-square-o icon-check-empty\", \"zoom\"], [\"\", \"\", \"\", \"\"], [\"Download\", \"Download plot\", \"fa fa-floppy-o icon-save\", \"download\"]];\n",
       "\n",
       "mpl.extensions = [\"eps\", \"jpeg\", \"pdf\", \"png\", \"ps\", \"raw\", \"svg\", \"tif\"];\n",
       "\n",
       "mpl.default_extension = \"png\";var comm_websocket_adapter = function(comm) {\n",
       "    // Create a \"websocket\"-like object which calls the given IPython comm\n",
       "    // object with the appropriate methods. Currently this is a non binary\n",
       "    // socket, so there is still some room for performance tuning.\n",
       "    var ws = {};\n",
       "\n",
       "    ws.close = function() {\n",
       "        comm.close()\n",
       "    };\n",
       "    ws.send = function(m) {\n",
       "        //console.log('sending', m);\n",
       "        comm.send(m);\n",
       "    };\n",
       "    // Register the callback with on_msg.\n",
       "    comm.on_msg(function(msg) {\n",
       "        //console.log('receiving', msg['content']['data'], msg);\n",
       "        // Pass the mpl event to the overridden (by mpl) onmessage function.\n",
       "        ws.onmessage(msg['content']['data'])\n",
       "    });\n",
       "    return ws;\n",
       "}\n",
       "\n",
       "mpl.mpl_figure_comm = function(comm, msg) {\n",
       "    // This is the function which gets called when the mpl process\n",
       "    // starts-up an IPython Comm through the \"matplotlib\" channel.\n",
       "\n",
       "    var id = msg.content.data.id;\n",
       "    // Get hold of the div created by the display call when the Comm\n",
       "    // socket was opened in Python.\n",
       "    var element = $(\"#\" + id);\n",
       "    var ws_proxy = comm_websocket_adapter(comm)\n",
       "\n",
       "    function ondownload(figure, format) {\n",
       "        window.open(figure.imageObj.src);\n",
       "    }\n",
       "\n",
       "    var fig = new mpl.figure(id, ws_proxy,\n",
       "                           ondownload,\n",
       "                           element.get(0));\n",
       "\n",
       "    // Call onopen now - mpl needs it, as it is assuming we've passed it a real\n",
       "    // web socket which is closed, not our websocket->open comm proxy.\n",
       "    ws_proxy.onopen();\n",
       "\n",
       "    fig.parent_element = element.get(0);\n",
       "    fig.cell_info = mpl.find_output_cell(\"<div id='\" + id + \"'></div>\");\n",
       "    if (!fig.cell_info) {\n",
       "        console.error(\"Failed to find cell for figure\", id, fig);\n",
       "        return;\n",
       "    }\n",
       "\n",
       "    var output_index = fig.cell_info[2]\n",
       "    var cell = fig.cell_info[0];\n",
       "\n",
       "};\n",
       "\n",
       "mpl.figure.prototype.handle_close = function(fig, msg) {\n",
       "    var width = fig.canvas.width/mpl.ratio\n",
       "    fig.root.unbind('remove')\n",
       "\n",
       "    // Update the output cell to use the data from the current canvas.\n",
       "    fig.push_to_output();\n",
       "    var dataURL = fig.canvas.toDataURL();\n",
       "    // Re-enable the keyboard manager in IPython - without this line, in FF,\n",
       "    // the notebook keyboard shortcuts fail.\n",
       "    IPython.keyboard_manager.enable()\n",
       "    $(fig.parent_element).html('<img src=\"' + dataURL + '\" width=\"' + width + '\">');\n",
       "    fig.close_ws(fig, msg);\n",
       "}\n",
       "\n",
       "mpl.figure.prototype.close_ws = function(fig, msg){\n",
       "    fig.send_message('closing', msg);\n",
       "    // fig.ws.close()\n",
       "}\n",
       "\n",
       "mpl.figure.prototype.push_to_output = function(remove_interactive) {\n",
       "    // Turn the data on the canvas into data in the output cell.\n",
       "    var width = this.canvas.width/mpl.ratio\n",
       "    var dataURL = this.canvas.toDataURL();\n",
       "    this.cell_info[1]['text/html'] = '<img src=\"' + dataURL + '\" width=\"' + width + '\">';\n",
       "}\n",
       "\n",
       "mpl.figure.prototype.updated_canvas_event = function() {\n",
       "    // Tell IPython that the notebook contents must change.\n",
       "    IPython.notebook.set_dirty(true);\n",
       "    this.send_message(\"ack\", {});\n",
       "    var fig = this;\n",
       "    // Wait a second, then push the new image to the DOM so\n",
       "    // that it is saved nicely (might be nice to debounce this).\n",
       "    setTimeout(function () { fig.push_to_output() }, 1000);\n",
       "}\n",
       "\n",
       "mpl.figure.prototype._init_toolbar = function() {\n",
       "    var fig = this;\n",
       "\n",
       "    var nav_element = $('<div/>');\n",
       "    nav_element.attr('style', 'width: 100%');\n",
       "    this.root.append(nav_element);\n",
       "\n",
       "    // Define a callback function for later on.\n",
       "    function toolbar_event(event) {\n",
       "        return fig.toolbar_button_onclick(event['data']);\n",
       "    }\n",
       "    function toolbar_mouse_event(event) {\n",
       "        return fig.toolbar_button_onmouseover(event['data']);\n",
       "    }\n",
       "\n",
       "    for(var toolbar_ind in mpl.toolbar_items){\n",
       "        var name = mpl.toolbar_items[toolbar_ind][0];\n",
       "        var tooltip = mpl.toolbar_items[toolbar_ind][1];\n",
       "        var image = mpl.toolbar_items[toolbar_ind][2];\n",
       "        var method_name = mpl.toolbar_items[toolbar_ind][3];\n",
       "\n",
       "        if (!name) { continue; };\n",
       "\n",
       "        var button = $('<button class=\"btn btn-default\" href=\"#\" title=\"' + name + '\"><i class=\"fa ' + image + ' fa-lg\"></i></button>');\n",
       "        button.click(method_name, toolbar_event);\n",
       "        button.mouseover(tooltip, toolbar_mouse_event);\n",
       "        nav_element.append(button);\n",
       "    }\n",
       "\n",
       "    // Add the status bar.\n",
       "    var status_bar = $('<span class=\"mpl-message\" style=\"text-align:right; float: right;\"/>');\n",
       "    nav_element.append(status_bar);\n",
       "    this.message = status_bar[0];\n",
       "\n",
       "    // Add the close button to the window.\n",
       "    var buttongrp = $('<div class=\"btn-group inline pull-right\"></div>');\n",
       "    var button = $('<button class=\"btn btn-mini btn-primary\" href=\"#\" title=\"Stop Interaction\"><i class=\"fa fa-power-off icon-remove icon-large\"></i></button>');\n",
       "    button.click(function (evt) { fig.handle_close(fig, {}); } );\n",
       "    button.mouseover('Stop Interaction', toolbar_mouse_event);\n",
       "    buttongrp.append(button);\n",
       "    var titlebar = this.root.find($('.ui-dialog-titlebar'));\n",
       "    titlebar.prepend(buttongrp);\n",
       "}\n",
       "\n",
       "mpl.figure.prototype._root_extra_style = function(el){\n",
       "    var fig = this\n",
       "    el.on(\"remove\", function(){\n",
       "\tfig.close_ws(fig, {});\n",
       "    });\n",
       "}\n",
       "\n",
       "mpl.figure.prototype._canvas_extra_style = function(el){\n",
       "    // this is important to make the div 'focusable\n",
       "    el.attr('tabindex', 0)\n",
       "    // reach out to IPython and tell the keyboard manager to turn it's self\n",
       "    // off when our div gets focus\n",
       "\n",
       "    // location in version 3\n",
       "    if (IPython.notebook.keyboard_manager) {\n",
       "        IPython.notebook.keyboard_manager.register_events(el);\n",
       "    }\n",
       "    else {\n",
       "        // location in version 2\n",
       "        IPython.keyboard_manager.register_events(el);\n",
       "    }\n",
       "\n",
       "}\n",
       "\n",
       "mpl.figure.prototype._key_event_extra = function(event, name) {\n",
       "    var manager = IPython.notebook.keyboard_manager;\n",
       "    if (!manager)\n",
       "        manager = IPython.keyboard_manager;\n",
       "\n",
       "    // Check for shift+enter\n",
       "    if (event.shiftKey && event.which == 13) {\n",
       "        this.canvas_div.blur();\n",
       "        event.shiftKey = false;\n",
       "        // Send a \"J\" for go to next cell\n",
       "        event.which = 74;\n",
       "        event.keyCode = 74;\n",
       "        manager.command_mode();\n",
       "        manager.handle_keydown(event);\n",
       "    }\n",
       "}\n",
       "\n",
       "mpl.figure.prototype.handle_save = function(fig, msg) {\n",
       "    fig.ondownload(fig, null);\n",
       "}\n",
       "\n",
       "\n",
       "mpl.find_output_cell = function(html_output) {\n",
       "    // Return the cell and output element which can be found *uniquely* in the notebook.\n",
       "    // Note - this is a bit hacky, but it is done because the \"notebook_saving.Notebook\"\n",
       "    // IPython event is triggered only after the cells have been serialised, which for\n",
       "    // our purposes (turning an active figure into a static one), is too late.\n",
       "    var cells = IPython.notebook.get_cells();\n",
       "    var ncells = cells.length;\n",
       "    for (var i=0; i<ncells; i++) {\n",
       "        var cell = cells[i];\n",
       "        if (cell.cell_type === 'code'){\n",
       "            for (var j=0; j<cell.output_area.outputs.length; j++) {\n",
       "                var data = cell.output_area.outputs[j];\n",
       "                if (data.data) {\n",
       "                    // IPython >= 3 moved mimebundle to data attribute of output\n",
       "                    data = data.data;\n",
       "                }\n",
       "                if (data['text/html'] == html_output) {\n",
       "                    return [cell, data, j];\n",
       "                }\n",
       "            }\n",
       "        }\n",
       "    }\n",
       "}\n",
       "\n",
       "// Register the function which deals with the matplotlib target/channel.\n",
       "// The kernel may be null if the page has been refreshed.\n",
       "if (IPython.notebook.kernel != null) {\n",
       "    IPython.notebook.kernel.comm_manager.register_target('matplotlib', mpl.mpl_figure_comm);\n",
       "}\n"
      ],
      "text/plain": [
       "<IPython.core.display.Javascript object>"
      ]
     },
     "metadata": {},
     "output_type": "display_data"
    },
    {
     "data": {
      "text/html": [
       "<img src=\"data:image/png;base64,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\" width=\"639.9999861283738\">"
      ],
      "text/plain": [
       "<IPython.core.display.HTML object>"
      ]
     },
     "metadata": {},
     "output_type": "display_data"
    }
   ],
   "source": [
    "fig = plt.figure()\n",
    "ax = fig.gca(projection='3d')\n",
    "\n",
    "s = t = np.linspace(-2,2,30)\n",
    "s,t = np.meshgrid(s,t)\n",
    "\n",
    "x = 3 - 2*t + 3*s\n",
    "y = 0 + 1*t + 1*s\n",
    "z = 1 + 2*t - 1*s\n",
    "\n",
    "ax.plot_surface(x,y,z,alpha=.3)\n",
    "r,v,w = np.column_stack([[0,0,0],[3,0,1],[3,0,1],[3,0,1],[-2,1,2],[3,1,-1]])\n",
    "ax.quiver(r[:3],v[:3],w[:3],r[3:],v[3:],w[3:],color=['r','b','b']);\n",
    "for c in 'xyz':\n",
    "    getattr(ax,f\"set_{c}lim\")([-6,6]);"
   ]
  },
  {
   "cell_type": "markdown",
   "metadata": {
    "slideshow": {
     "slide_type": "subslide"
    }
   },
   "source": [
    "## Equation of a plane\n",
    "\n",
    "But a more efficient way in $\\RR^3$ recognizes that a plane can be define by \n",
    "  - a position vector $\\vec p = \\langle p_1,p_2,p_3 \\rangle$, and\n",
    "  - a **normal** vectorn $\\vec n = \\langle a,b,c \\rangle$, perpendicular to the plane.\n",
    "  \n",
    "So a position vector $\\vec x = \\langle x,y,z \\rangle$ if and only if $$\\vec n\\cdot(\\vec x - \\vec p) = 0 $$"
   ]
  },
  {
   "cell_type": "code",
   "execution_count": 90,
   "metadata": {
    "slideshow": {
     "slide_type": "fragment"
    }
   },
   "outputs": [
    {
     "data": {
      "application/vnd.jupyter.widget-view+json": {
       "model_id": "13fdc5e6f5c44bc0bfbeb21ef96578f2",
       "version_major": 2,
       "version_minor": 0
      },
      "text/plain": [
       "interactive(children=(IntSlider(value=45, description='angle', max=90, step=3), Output()), _dom_classes=('widg…"
      ]
     },
     "metadata": {},
     "output_type": "display_data"
    }
   ],
   "source": [
    "@interact\n",
    "def _(angle=(0,90,3)):\n",
    "    fig = plt.figure()\n",
    "    ax = fig.gca(projection='3d')\n",
    "\n",
    "    s = t = np.linspace(-2,2,30)\n",
    "    s,t = np.meshgrid(s,t)\n",
    "\n",
    "    n = -np.cross([-2,1,2],[3,1,-1])\n",
    "\n",
    "    x = 3 - 2*t + 3*s\n",
    "    y = 0 + 1*t + 1*s\n",
    "    z = 1 + 2*t - 1*s\n",
    "\n",
    "    ax.plot_surface(x,y,z,alpha=.3)\n",
    "    r,v,w = np.column_stack([[0,0,0],[3,0,1],[3,0,1],n])\n",
    "    ax.quiver(r[:2],v[:2],w[:2],r[2:],v[2:],w[2:],color=['r','k']);\n",
    "    for c in 'xyz':\n",
    "        getattr(ax,f\"set_{c}lim\")([-6,6]);    \n",
    "\n",
    "    ax.view_init(30, angle)\n"
   ]
  },
  {
   "cell_type": "markdown",
   "metadata": {
    "slideshow": {
     "slide_type": "subslide"
    }
   },
   "source": [
    "## Equation of a plane\n",
    "\n",
    "In coordinates, this becomes $$a(x-p_1) + b (y-p_2) + c (z-p_3) = 0$$ or, alternatively, $$ax+by+cz = d$$ where $d=\\vec n \\cdot\\vec p$.\n"
   ]
  },
  {
   "cell_type": "markdown",
   "metadata": {
    "slideshow": {
     "slide_type": "fragment"
    }
   },
   "source": [
    "#### Quick exercise\n",
    "\n",
    "What is a normal vector to the plane given by $$ x+2y = 16-8z?$$\n",
    "Find a point on this plane. "
   ]
  },
  {
   "cell_type": "markdown",
   "metadata": {
    "slideshow": {
     "slide_type": "slide"
    }
   },
   "source": [
    "### Exercises\n",
    "\n",
    "  1. Find an equation of the plane through $(1,0,0)$, $(0,1,0)$, and $(0,0,1)$.\n",
    "  2. Find a parametric form for the line of intersection of the planes given by $x+y-z = 2$ and $2x - y + 3z = 1$."
   ]
  },
  {
   "cell_type": "markdown",
   "metadata": {
    "slideshow": {
     "slide_type": "slide"
    }
   },
   "source": [
    "# Distance between points, lines, and planes\n",
    "\n",
    "The distance between points is given easily by the distance formula, but often one wants to know the distance from a position to a given set of points, or between two sets. First, we must specify by \"distance to a set\" we mean **the minimum of the distances to all points is the set**.\n",
    "\n",
    "#### Example\n",
    "\n",
    "Find the distance from the origin to the line given by \n",
    "$$\\vec r(t) = (3-t)\\,\\vec i + 2t\\,\\vec j + (t - 2)\\,\\vec k.$$"
   ]
  },
  {
   "cell_type": "code",
   "execution_count": 81,
   "metadata": {
    "slideshow": {
     "slide_type": "fragment"
    }
   },
   "outputs": [
    {
     "name": "stdout",
     "output_type": "stream",
     "text": [
      "[ 0.83333333 -1.66666667 -0.83333333]\n"
     ]
    },
    {
     "data": {
      "application/vnd.jupyter.widget-view+json": {
       "model_id": "405b436012b74d9fa9a4ef7098e19eb2",
       "version_major": 2,
       "version_minor": 0
      },
      "text/plain": [
       "interactive(children=(FloatSlider(value=1.5, description='t', max=5.0, min=-2.0), IntSlider(value=45, descript…"
      ]
     },
     "metadata": {},
     "output_type": "display_data"
    }
   ],
   "source": [
    "p,v = np.array([[3,0,-2],[-1,2,1]])\n",
    "pj = np.dot(p,v)/np.dot(v,v)*v\n",
    "@interact\n",
    "def _(t=(-2.,5.,.1),angle=(0,90,3),sol=False):\n",
    "    fig = plt.figure()\n",
    "    ax = fig.gca(projection='3d')\n",
    "    ax.quiver([0,0],[0,0],[0,0],[3,3-1*t],[0,2*t],[-2,-2+t])\n",
    "    ax.plot([5,-2],[-4,10],[-4,3],color='k',ls='dashed')\n",
    "    ax.view_init(30, angle)\n",
    "    ax.set_xlim([-1,5])\n",
    "    ax.set_ylim([-2,4])\n",
    "    ax.set_zlim([-2,4]);\n",
    "    if sol:\n",
    "        vx,vy,vz = np.column_stack([[0,0,0],pj,pj,p-pj])\n",
    "        ax.quiver(vx[:2],vy[:2],vz[:2],vx[2:],vy[2:],vz[2:],color='r')"
   ]
  },
  {
   "cell_type": "markdown",
   "metadata": {
    "slideshow": {
     "slide_type": "subslide"
    }
   },
   "source": [
    "### Distance from a point to a line\n",
    "\n",
    "We can generalize this:\n",
    "The distance from a point at position $\\vec x$ to a line with parametric form $\\vec r (t) = \\vec p + t\\,\\vec v$ is given by $$|\\vec x - \\vec p - \\operatorname{proj}_\\vec v (\\vec x - \\vec p) |.$$"
   ]
  }
 ],
 "metadata": {
  "celltoolbar": "Slideshow",
  "kernelspec": {
   "display_name": "Python 3",
   "language": "python",
   "name": "python3"
  },
  "language_info": {
   "codemirror_mode": {
    "name": "ipython",
    "version": 3
   },
   "file_extension": ".py",
   "mimetype": "text/x-python",
   "name": "python",
   "nbconvert_exporter": "python",
   "pygments_lexer": "ipython3",
   "version": "3.7.3"
  },
  "rise": {
   "enable_chalkboard": true,
   "scroll": true,
   "theme": "sky",
   "transition": "concave"
  }
 },
 "nbformat": 4,
 "nbformat_minor": 2
}
