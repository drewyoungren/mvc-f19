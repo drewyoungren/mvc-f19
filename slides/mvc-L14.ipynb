{
 "cells": [
  {
   "cell_type": "code",
   "execution_count": 96,
   "metadata": {
    "slideshow": {
     "slide_type": "skip"
    }
   },
   "outputs": [],
   "source": [
    "import numpy as np\n",
    "import matplotlib.pyplot as plt\n",
    "from IPython.display import display, HTML, IFrame\n",
    "from ipywidgets import interact,fixed\n",
    "import pandas as pd\n",
    "from mpl_toolkits import mplot3d\n",
    "from mpl_toolkits.mplot3d import axes3d\n",
    "from matplotlib.patches import FancyArrowPatch,Rectangle\n",
    "from mpl_toolkits.mplot3d.art3d import Poly3DCollection\n",
    "from mpl_toolkits.mplot3d import proj3d\n",
    "\n",
    "plt.rcParams[\"figure.figsize\"] = [12, 9]\n",
    "\n",
    "from numpy.linalg import norm\n",
    "from numpy import cos,sin,tan,arctan,exp,log,pi,sqrt"
   ]
  },
  {
   "cell_type": "markdown",
   "metadata": {
    "slideshow": {
     "slide_type": "notes"
    }
   },
   "source": [
    "$\\newcommand{\\RR}{\\mathbb{R}}$\n",
    "$\\newcommand{\\bv}[1]{\\begin{bmatrix} #1 \\end{bmatrix}}$\n",
    "$\\renewcommand{\\vec}{\\mathbf}$\n"
   ]
  },
  {
   "cell_type": "markdown",
   "metadata": {
    "hide_input": true,
    "slideshow": {
     "slide_type": "slide"
    }
   },
   "source": [
    "## Announcements\n",
    "\n",
    "  - Quiz 6 this week. \n",
    "    - Find critical points.\n",
    "    - Classify them.\n",
    "    - Constrinned optimization.\n",
    "  - Homework 8 due Tuesday\n",
    "    "
   ]
  },
  {
   "cell_type": "markdown",
   "metadata": {
    "slideshow": {
     "slide_type": "slide"
    }
   },
   "source": [
    "# One-minute Review\n",
    "\n",
    "  - To find local min/max of a function $f$ on a level set $g = c$, solve \n",
    "  $$ \\nabla f = \\lambda \\nabla g$$\n",
    "  \n",
    "  or look where $\\nabla g = \\vec 0.$\n",
    "  \n",
    "  "
   ]
  },
  {
   "cell_type": "markdown",
   "metadata": {
    "slideshow": {
     "slide_type": "slide"
    }
   },
   "source": [
    "# Lecture 14\n",
    "\n",
    "  - Objectives\n",
    "    - Integrating.    \n",
    "    \n",
    "  - Resources\n",
    "    - Content\n",
    "      - Stewart: §15.1\n",
    "      - New Strang: [§5.1](https://openstax.org/books/calculus-volume-3/pages/4-8-lagrange-multipliers)\n",
    "      - [Slides](https://hub.columbiajupyter2.org/hub/user-redirect/git-pull?repo=https%3A%2F%2Fgithub.com%2Fdrewyoungren%2Fmvc-f19&urlpath=tree%2Fmvc-f19%2Fslides%2Fmvc-L13.ipynb) via JupyterHub\n",
    "    - Practice\n",
    "      - Mooculus: {Constrained Optimization](https://ximera.osu.edu/mooculus/calculus3/constrainedOptimization/digInConstrainedOptimization) [Lagrange Multipliers](https://ximera.osu.edu/mooculus/calculus3/lagrangeMultipliers/digInLagrangeMultipliers)\n",
    "    - Extras\n",
    "      - CalcBLUE: [Optimization](https://www.youtube.com/watch?v=CBWMHf1MfEs&list=PL8erL0pXF3JZZTnqjginERYYEi1WpLE_V&index=110) "
   ]
  },
  {
   "cell_type": "markdown",
   "metadata": {
    "slideshow": {
     "slide_type": "slide"
    }
   },
   "source": [
    "# Remember Integration?\n",
    "\n",
    "Recall the definition nof a definite integral.\n",
    "\n",
    "$$\\int_a^b f(x)\\,dx$$"
   ]
  },
  {
   "cell_type": "markdown",
   "metadata": {
    "slideshow": {
     "slide_type": "subslide"
    }
   },
   "source": [
    " = $$\\lim _{N \\to \\infty} \\sum_{i=0}^N f(x_i^*) \\Delta x_i$$\n",
    " \n",
    "where $x_i^*$ is a sample point in the $i$th subinterval of $[a,b]$ and $\\Delta x_i$ is the width of the $i$th subiterval (often $\\frac{b-a}{N}$)."
   ]
  },
  {
   "cell_type": "code",
   "execution_count": 40,
   "metadata": {
    "hide_input": false,
    "scrolled": false
   },
   "outputs": [
    {
     "data": {
      "application/vnd.jupyter.widget-view+json": {
       "model_id": "",
       "version_major": 2,
       "version_minor": 0
      },
      "text/plain": [
       "interactive(children=(IntSlider(value=11, description='N', max=22, min=1), FloatSlider(value=0.5, description=…"
      ]
     },
     "metadata": {},
     "output_type": "display_data"
    }
   ],
   "source": [
    "f = lambda x: 1 - x**2 + x**3/4 \n",
    "a=0\n",
    "b=2\n",
    "\n",
    "@interact\n",
    "def _(N=(1,22),s=(0.,1.,.25)):\n",
    "    X = np.linspace(-1/2,5/2,100)\n",
    "    plt.figure(figsize=(12,12))\n",
    "    plt.plot(X,f(X),X,np.zeros_like(X),'k');\n",
    "    ax = plt.gca()\n",
    "    dx = (b-a)/N\n",
    "    tot = 0\n",
    "    for i in range(N):\n",
    "        xi = a + (i)*dx\n",
    "        yi = f(xi+s*dx)\n",
    "        tot += yi\n",
    "        if yi >=0:\n",
    "            c = 'b'\n",
    "        else: \n",
    "            c = 'r'\n",
    "        ax.add_patch(Rectangle((xi,0),dx,yi,alpha=.4,color=c))\n",
    "    ax.set_title(f\"$\\int_0^2(1-x^2+x^3/4)dx \\sim $ {tot * dx:.5f}\",fontsize=17)\n",
    "                                          \n",
    "                            "
   ]
  },
  {
   "cell_type": "markdown",
   "metadata": {
    "slideshow": {
     "slide_type": "fragment"
    }
   },
   "source": [
    "# Double Integral\n",
    "\n",
    "Consider the rectangle $\\mathcal{R} = [a,b]\\times[c,d] = \\{(x,y)\\mid a\\leq x\\leq b, c\\leq y \\leq d\\}$. The the **double integral** of a function $f$ over $\\mathcal{R}$ is \n",
    "$$\\iint_\\mathcal{R} f(x,y)\\,dA = \\lim_{M,N\\to \\infty} \\sum_{i=1}^M \\sum_{j=1}^N f(x_{ij}^*,y_{ij}^*)\\, \\Delta A_{ij} $$\n",
    "\n",
    "where $(x_{ij}^*,y_{ij}^*)$ is a sample point in the $ij$th subrectangle of $\\mathcal{R}$ and $\\Delta A_{ij}$ is the area of the $ij$th subrectangle (often $\\Delta x\\Delta y$)."
   ]
  },
  {
   "cell_type": "code",
   "execution_count": 64,
   "metadata": {
    "hide_input": false,
    "scrolled": false
   },
   "outputs": [
    {
     "data": {
      "application/vnd.jupyter.widget-view+json": {
       "model_id": "",
       "version_major": 2,
       "version_minor": 0
      },
      "text/plain": [
       "interactive(children=(IntSlider(value=11, description='N', max=22, min=1), FloatSlider(value=0.5, description=…"
      ]
     },
     "metadata": {},
     "output_type": "display_data"
    }
   ],
   "source": [
    "f = lambda x,y: 1 - x**2 + y**3/10 \n",
    "a=0\n",
    "b=2\n",
    "c=1\n",
    "d=4\n",
    "\n",
    "@interact\n",
    "def _(N=(1,22),s=(0.,1.,.25),angle=(-6,100,6)):\n",
    "    X = np.linspace(a-1/2,b+1/2,150)\n",
    "    Y = np.linspace(c-1/2,d+1/2,150)\n",
    "    XN = np.linspace(a,b,N+1)\n",
    "    YN = np.linspace(c,d,N+1)\n",
    "    fig = plt.figure(figsize=(12,12))\n",
    "    ax = fig.add_subplot(111,projection='3d')\n",
    "    ax.view_init(30,angle)\n",
    "    X,Y = np.meshgrid(X,Y)\n",
    "    XN,YN = np.meshgrid(XN,YN)\n",
    "    ZN = (f(XN,YN)).ravel()\n",
    "    dx = (b-a)/N\n",
    "    dy = (d-c)/N\n",
    "    ax.plot_surface(X,Y,f(X,Y),alpha=.5,cmap='viridis')\n",
    "#     ax.bar3d(XN.ravel(),YN.ravel(),0*ZN,dx,dy,ZN)\n",
    "\n",
    "    tot = 0\n",
    "    for i in range(N):\n",
    "        for j in range(N):\n",
    "            xi = a + (i)*dx\n",
    "            yj = c + j*dy\n",
    "            zi = f(xi+s*dx,yj+s*dy)\n",
    "            tot += zi\n",
    "            if zi >=0:\n",
    "                cl = 'b'\n",
    "            else: \n",
    "                cl = 'r'\n",
    "            ax.bar3d(xi,yj,0,dx,dy,zi,alpha=.4,color=cl)\n",
    "#             ax.add_patch(Rectangle((a,c),b-a,d-c))\n",
    "    ax.set_title(f\"$\\int_0^2(1-x^2+y^3/10) dA \\sim $ {tot * dx*dy:.5f}\",fontsize=17)\n",
    "                                          \n",
    "                            "
   ]
  },
  {
   "cell_type": "markdown",
   "metadata": {
    "slideshow": {
     "slide_type": "fragment"
    }
   },
   "source": [
    "#### Quick Example\n",
    "\n",
    "Let $S$ be the unit square $[0,1]\\times [0,1]$. Estimate $$\\iint_S \\frac{a}{y+1}$$ using a $4\\times 4$ partition and \n",
    "\n",
    "  - \"lower-left\" sample points\n",
    "  - \"upper-left\" sample points\n",
    "  - \"midpoints\"\n",
    "\n"
   ]
  },
  {
   "cell_type": "markdown",
   "metadata": {
    "slideshow": {
     "slide_type": "subslide"
    }
   },
   "source": [
    "## Definitions \n",
    "\n",
    "A set $S$ is **open** if all points are interior points.\n",
    "\n",
    "A set $S$ is **closed** if it contains all its boundary points."
   ]
  },
  {
   "cell_type": "code",
   "execution_count": 82,
   "metadata": {},
   "outputs": [
    {
     "data": {
      "text/plain": [
       "array([0.25, 0.5 , 0.75, 1.  ])"
      ]
     },
     "execution_count": 82,
     "metadata": {},
     "output_type": "execute_result"
    }
   ],
   "source": [
    "np.arange(1/4,1.1,1/4)"
   ]
  },
  {
   "cell_type": "code",
   "execution_count": 83,
   "metadata": {
    "scrolled": true,
    "slideshow": {
     "slide_type": "fragment"
    }
   },
   "outputs": [
    {
     "name": "stdout",
     "output_type": "stream",
     "text": [
      "lower-left:\t0.2848\n",
      "upper-left:\t0.2379\n",
      "midpoints:\t0.3456\n"
     ]
    }
   ],
   "source": [
    "f = lambda x,y: x/(y+1)\n",
    "\n",
    "dx=1/4\n",
    "dy=1/4\n",
    "\n",
    "ll = dx*dy*sum([f(x,y) for x in np.arange(0,1,1/4) for y in np.arange(0,1,1/4)])\n",
    "ul = dx*dy*sum([f(x,y) for x in np.arange(0,1,1/4) for y in (np.arange(0,1,1/4)+1/4)])\n",
    "mp = dx*dy*sum([f(x,y) for x in np.arange(1/8,1.,1/4) for y in np.arange(1/8,1.,1/4)])\n",
    "\n",
    "print(f\"lower-left:\\t{ll:.4f}\\nupper-left:\\t{ul:.4f}\\nmidpoints:\\t{mp:.4f}\")"
   ]
  },
  {
   "cell_type": "markdown",
   "metadata": {
    "slideshow": {
     "slide_type": "subslide"
    }
   },
   "source": [
    "### Extra\n",
    "\n",
    "How would you integrate this with Python?"
   ]
  },
  {
   "cell_type": "code",
   "execution_count": 93,
   "metadata": {
    "scrolled": true,
    "slideshow": {
     "slide_type": "fragment"
    }
   },
   "outputs": [
    {
     "data": {
      "application/vnd.jupyter.widget-view+json": {
       "model_id": "2022b7606aa14b2b913e7185a65c10f1",
       "version_major": 2,
       "version_minor": 0
      },
      "text/plain": [
       "interactive(children=(IntSlider(value=27, description='n', max=50, min=4), Output()), _dom_classes=('widget-in…"
      ]
     },
     "metadata": {},
     "output_type": "display_data"
    }
   ],
   "source": [
    "@interact\n",
    "def _(n=(4,50)):\n",
    "    dx = dy = 1/n\n",
    "    mp = dx*dy*sum([f(x,y) for x in np.arange(1/(2*n),1.,1/n) for y in np.arange(1/(2*n),1.,1/n)])\n",
    "    print(f\"With {n*n} subrectangles, the integral is approximately {mp:.15f}\")"
   ]
  },
  {
   "cell_type": "code",
   "execution_count": 84,
   "metadata": {
    "slideshow": {
     "slide_type": "fragment"
    }
   },
   "outputs": [],
   "source": [
    "# import the real thing\n",
    "from scipy.integrate import dblquad"
   ]
  },
  {
   "cell_type": "code",
   "execution_count": 87,
   "metadata": {
    "slideshow": {
     "slide_type": "fragment"
    }
   },
   "outputs": [
    {
     "data": {
      "text/plain": [
       "0.3465735902799727"
      ]
     },
     "execution_count": 87,
     "metadata": {},
     "output_type": "execute_result"
    }
   ],
   "source": [
    "dblquad(f,0,1,0,1)[0]"
   ]
  },
  {
   "cell_type": "markdown",
   "metadata": {
    "slideshow": {
     "slide_type": "slide"
    }
   },
   "source": [
    "# Properties of the Double Integral\n",
    "\n",
    "\n",
    "$$\\iint_\\mathcal{R} (f(x,y) + g(x,y))\\,dA = \\iint_\\mathcal{R} f(x,y) \\,dA + \\iint_\\mathcal{R} g(x,y)\\,dA $$  "
   ]
  },
  {
   "cell_type": "markdown",
   "metadata": {
    "slideshow": {
     "slide_type": "fragment"
    }
   },
   "source": [
    "$$\\iint_\\mathcal{R} c(f(x,y)) \\,dA = c\\iint_\\mathcal{R} f(x,y)\\,dA$$"
   ]
  },
  {
   "cell_type": "markdown",
   "metadata": {
    "slideshow": {
     "slide_type": "fragment"
    }
   },
   "source": [
    "$$\\iint_\\mathcal{R} c \\,dA = c\\, {\\rm Area}(\\mathcal{R})$$"
   ]
  },
  {
   "cell_type": "markdown",
   "metadata": {
    "slideshow": {
     "slide_type": "slide"
    }
   },
   "source": [
    "# Iterated Integrals\n",
    "\n",
    "#### Quick Question\n",
    "\n",
    "What sort of mathematical object is this:\n",
    "$$\\int_1^4 f(x,y)\\, dy$$"
   ]
  },
  {
   "cell_type": "markdown",
   "metadata": {
    "slideshow": {
     "slide_type": "fragment"
    }
   },
   "source": [
    "##### Answer\n",
    " It is a function of a single variable $x$. This is sometimes called \"integrating out $y$.\" A studennt called it a \"partial integral.\" That's cool."
   ]
  },
  {
   "cell_type": "markdown",
   "metadata": {
    "slideshow": {
     "slide_type": "slide"
    }
   },
   "source": [
    "# Iterated Integrals\n",
    "\n",
    "An **iterated integral** is a nested collection of integrals like so:\n",
    "\n",
    "$$ \\int_a^b \\int_c^d f(x,y)\\, dy\\, dx = \\int_a^b \\left( \\int_c^d f(x,y)\\, dy\\right)\\, dx $$"
   ]
  },
  {
   "cell_type": "code",
   "execution_count": 106,
   "metadata": {
    "hide_input": false,
    "scrolled": false,
    "slideshow": {
     "slide_type": "fragment"
    }
   },
   "outputs": [
    {
     "data": {
      "application/vnd.jupyter.widget-view+json": {
       "model_id": "3a355890c7e44c1ea3b65eea63d709dd",
       "version_major": 2,
       "version_minor": 0
      },
      "text/plain": [
       "interactive(children=(FloatSlider(value=0.5, description='s', max=1.0, step=0.025), IntSlider(value=42, descri…"
      ]
     },
     "metadata": {},
     "output_type": "display_data"
    }
   ],
   "source": [
    "f = lambda x,y: 1 - x**2 + y**3/10 \n",
    "a=0\n",
    "b=2\n",
    "c=1\n",
    "d=4\n",
    "\n",
    "@interact\n",
    "def _(s=(0.,1.,.025),angle=(-6,100,6)):\n",
    "    x = np.linspace(a,b,150)\n",
    "    y = np.linspace(c,d,150)\n",
    "    fig = plt.figure(figsize=(12,12))\n",
    "    ax = fig.add_subplot(111,projection='3d')\n",
    "    ax.view_init(30,angle)\n",
    "    X,Y = np.meshgrid(x,y)\n",
    "    dx = (b-a)\n",
    "    dy = (d-c)\n",
    "    ax.plot_surface(X,Y,f(X,Y),alpha=.5,cmap='viridis')\n",
    "#     ax.bar3d(XN.ravel(),YN.ravel(),0*ZN,dx,dy,ZN)\n",
    "    verts = [(a + s * dx,c,0)]\n",
    "    tot = 0\n",
    "    for yi in y:\n",
    "        zi = f(a + s*dx,yi)\n",
    "        tot += zi\n",
    "        verts.append((a + s*dx,yi,zi))\n",
    "    verts.append((a + s * dx,d,0))\n",
    "    ax.add_collection3d(Poly3DCollection([verts]))\n",
    "\n",
    "    ax.set_title(f\"$\\int_c^d(1-x^2+y^3/10) dy$ at x={a +s*dx} is about {tot*(d-c)/150:.5f}\",fontsize=17)\n",
    "                                          \n",
    "                            "
   ]
  },
  {
   "cell_type": "markdown",
   "metadata": {
    "slideshow": {
     "slide_type": "subslide"
    }
   },
   "source": [
    "## Fubini's Theorem\n",
    "\n",
    "If $f$ is continuous on the the rectangle $\\mathcal{R} = [a,b] \\times [c,d]$, then the double integral $\\iint_\\mathcal{R} f\\, dA$ exists and is equal to \n",
    "\n",
    "$$ \\int_a^b \\int_c^d f(x,y)\\,dy\\,dx =  \\int_c^d \\int_a^b f(x,y)\\,dx\\,dy. $$ "
   ]
  },
  {
   "cell_type": "markdown",
   "metadata": {
    "slideshow": {
     "slide_type": "subslide"
    }
   },
   "source": [
    "### Example\n",
    "\n",
    "Let $\\mathcal{R} = [0,\\pi]\\times[0,2\\pi]$. Evaluate $$\\iint_\\mathcal{R} x \\cos(xy)\\,dA$$ as an iterated integral."
   ]
  },
  {
   "cell_type": "code",
   "execution_count": 129,
   "metadata": {
    "slideshow": {
     "slide_type": "fragment"
    }
   },
   "outputs": [
    {
     "data": {
      "text/plain": [
       "0.11787596787265521"
      ]
     },
     "execution_count": 129,
     "metadata": {},
     "output_type": "execute_result"
    }
   ],
   "source": [
    "(1-cos(2*pi**2))/pi"
   ]
  },
  {
   "cell_type": "code",
   "execution_count": 125,
   "metadata": {
    "slideshow": {
     "slide_type": "fragment"
    }
   },
   "outputs": [
    {
     "data": {
      "text/plain": [
       "0.11787596787265664"
      ]
     },
     "execution_count": 125,
     "metadata": {},
     "output_type": "execute_result"
    }
   ],
   "source": [
    "dblquad(lambda x,y: x*cos(x*y),0,pi,0,2*pi)[0]"
   ]
  },
  {
   "cell_type": "markdown",
   "metadata": {
    "slideshow": {
     "slide_type": "subslide"
    }
   },
   "source": [
    "## Nonrectangular domains\n",
    "\n",
    "Assuming a region $\\mathcal{D}$ is not \"too bad****\", we can integrate over it by admitting to the sum, only terms where the subrectangel lies in $\\mathcal{D}$.  "
   ]
  },
  {
   "cell_type": "markdown",
   "metadata": {
    "slideshow": {
     "slide_type": "fragment"
    }
   },
   "source": [
    "#### Quick Example\n",
    "\n",
    "Let $\\mathcal{D} = \\{ (x,y) \\mid 1\\leq x^2 + y^2 \\leq 4\\}$, an annulus.\n",
    "\n",
    "Approximate $$\\iint_\\mathcal{D} (2+x)\\,dA$$"
   ]
  },
  {
   "cell_type": "code",
   "execution_count": 124,
   "metadata": {
    "hide_input": false,
    "scrolled": false,
    "slideshow": {
     "slide_type": "fragment"
    }
   },
   "outputs": [
    {
     "data": {
      "application/vnd.jupyter.widget-view+json": {
       "model_id": "8799f590e3414bb8b138887a1a1a1ff0",
       "version_major": 2,
       "version_minor": 0
      },
      "text/plain": [
       "interactive(children=(IntSlider(value=20, description='N', max=40, min=1), FloatSlider(value=0.5, description=…"
      ]
     },
     "metadata": {},
     "output_type": "display_data"
    }
   ],
   "source": [
    "f = lambda x,y: 2+x \n",
    "a=-2\n",
    "b=2\n",
    "c=-2\n",
    "d=2\n",
    "\n",
    "@interact\n",
    "def _(N=(1,40),s=(0.,1.,.25),angle=(-180,10,6),vangle=(15,90,5)):\n",
    "    r = np.linspace(1,2,50)\n",
    "    th = np.linspace(-pi,pi,150)\n",
    "    XN = np.linspace(a,b,N+1)\n",
    "    YN = np.linspace(c,d,N+1)\n",
    "    fig = plt.figure(figsize=(12,12))\n",
    "    ax = fig.add_subplot(111,projection='3d')\n",
    "    ax.view_init(vangle,angle)\n",
    "    r,th = np.meshgrid(r,th)\n",
    "    X = r*cos(th)\n",
    "    Y = r*sin(th)\n",
    "    XN,YN = np.meshgrid(XN,YN)\n",
    "    ZN = (f(XN,YN)).ravel()\n",
    "    dx = (b-a)/N\n",
    "    dy = (d-c)/N\n",
    "    ax.plot_surface(X,Y,f(X,Y),alpha=.8,cmap='rainbow')\n",
    "#     ax.bar3d(XN.ravel(),YN.ravel(),0*ZN,dx,dy,ZN)\n",
    "\n",
    "    tot = 0\n",
    "    for i in range(N):\n",
    "        for j in range(N):\n",
    "            xi = a + (i)*dx\n",
    "            yj = c + j*dy\n",
    "            zi = f(xi+s*dx,yj+s*dy)\n",
    "            if zi >=0:\n",
    "                cl = 'gray'\n",
    "            else: \n",
    "                cl = 'r'\n",
    "            if (1 < norm((xi,yj)) < 2) and (1 < norm((xi+dx,yj+dy)) < 2):\n",
    "                ax.bar3d(xi,yj,0,dx,dy,zi,alpha=.4,color=cl)\n",
    "                tot += zi\n",
    "#             ax.add_patch(Rectangle((a,c),b-a,d-c))\n",
    "    ax.set_title(f\"$\\int_\\mathcal{{D}}(x+2) dA \\sim $ {tot * dx*dy:.5f}\",fontsize=17)\n",
    "                                          \n",
    "                            "
   ]
  },
  {
   "cell_type": "markdown",
   "metadata": {
    "slideshow": {
     "slide_type": "fragment"
    }
   },
   "source": [
    " ****Meaning, essentially, its area is well approximated with rectangles."
   ]
  },
  {
   "cell_type": "markdown",
   "metadata": {
    "slideshow": {
     "slide_type": "slide"
    }
   },
   "source": [
    "### Regions defined by functions\n",
    "\n",
    "A region in $\\RR^2$ that is bounded by graphs of functions (of one variable) can be integrated over as interated integrals. \n",
    "\n",
    "Suppose $\\mathcal{D} = \\{(x,y) \\mid g(x) \\leq y \\leq h(x) \\}$. Then \n",
    "\n",
    "$$\\iint_\\mathcal{R} f(x,y) \\,dA = \\int_a^b \\int_{g(x)}^{h(x)} f(x,y)\\,dy\\,dx$$ "
   ]
  },
  {
   "cell_type": "markdown",
   "metadata": {
    "slideshow": {
     "slide_type": "subslide"
    }
   },
   "source": [
    "## Example\n",
    "\n",
    "Let $\\mathcal{D}$ be the region bounded by the curves $y=x^3$ and $y=\\sqrt{x}$. Find the integral $\\iint_\\mathcal{D} x y\\,dA$ two ways."
   ]
  },
  {
   "cell_type": "code",
   "execution_count": 131,
   "metadata": {
    "slideshow": {
     "slide_type": "fragment"
    }
   },
   "outputs": [
    {
     "data": {
      "text/plain": [
       "0.10416666666666666"
      ]
     },
     "execution_count": 131,
     "metadata": {},
     "output_type": "execute_result"
    }
   ],
   "source": [
    "f = lambda x,y: x*y\n",
    "g = lambda x: x**3\n",
    "h = sqrt\n",
    "\n",
    "dblquad(f, 0,1,g,h)[0]"
   ]
  },
  {
   "cell_type": "code",
   "execution_count": 133,
   "metadata": {
    "slideshow": {
     "slide_type": "fragment"
    }
   },
   "outputs": [
    {
     "data": {
      "text/plain": [
       "0.10416666665871528"
      ]
     },
     "execution_count": 133,
     "metadata": {},
     "output_type": "execute_result"
    }
   ],
   "source": [
    "f = lambda x,y: x*y\n",
    "g = lambda y: y**(1/3)\n",
    "h = lambda y: y**2\n",
    "\n",
    "dblquad(f, 0,1,h,g)[0]"
   ]
  },
  {
   "cell_type": "markdown",
   "metadata": {
    "slideshow": {
     "slide_type": "subslide"
    }
   },
   "source": [
    "### Exercise\n",
    "\n",
    "We want to find the volume of the solid region under the plane $x-2y+z=10$ and above the region bounded by $x+y=1$ and $x^2+y=1$.\n",
    "\n",
    "  1. Sketch the region of integration."
   ]
  },
  {
   "cell_type": "markdown",
   "metadata": {
    "slideshow": {
     "slide_type": "fragment"
    }
   },
   "source": [
    "  2. Choose an order of integration."
   ]
  },
  {
   "cell_type": "markdown",
   "metadata": {
    "slideshow": {
     "slide_type": "fragment"
    }
   },
   "source": [
    "  3. Set up iterated integral."
   ]
  },
  {
   "cell_type": "markdown",
   "metadata": {
    "slideshow": {
     "slide_type": "slide"
    }
   },
   "source": [
    "## Polar Coordinates\n",
    "\n",
    "Note that the area of the rectangle $\\{(x,y) \\mid x_1 \\leq x \\leq x_2, y_1 \\leq y \\leq y_2 \\}$ is \n",
    "\n",
    "$$\\Delta A = (x_2-x_1)(y_2-y_1) = \\Delta x \\Delta y $$"
   ]
  },
  {
   "cell_type": "markdown",
   "metadata": {
    "slideshow": {
     "slide_type": "fragment"
    }
   },
   "source": [
    "But what about a \"polar rectangle\"  $\\{(r \\cos \\theta,r \\sin \\theta) \\mid r_1 \\leq r \\leq r_2, \\theta_1 \\leq \\theta \\leq \\theta_2 \\}$?"
   ]
  },
  {
   "cell_type": "markdown",
   "metadata": {
    "slideshow": {
     "slide_type": "subslide"
    }
   },
   "source": [
    "## Converting integrals to polar coordinates. \n",
    "\n",
    "Let $\\mathcal{D}$ be the polar region defined by $r_1 \\leq r \\leq r_2, \\theta_1 \\leq \\theta \\leq \\theta_2 $ and $f(x,y)$ a continuous function on $\\mathcal D$. Then,\n",
    "\n",
    "$$\\iint_\\mathcal D f dA = \\int_{\\theta_1}^{\\theta_2} \\int_{r_1}^{r_2} f(r \\cos \\theta,r \\sin \\theta )\\,r\\,dr\\,d\\theta$$ \n",
    "\n"
   ]
  },
  {
   "cell_type": "markdown",
   "metadata": {
    "slideshow": {
     "slide_type": "fragment"
    }
   },
   "source": [
    "Remember to convert all parts of the integral:\n",
    "  - the limits of integration\n",
    "  - the integrand\n",
    "  - the differential"
   ]
  },
  {
   "cell_type": "markdown",
   "metadata": {
    "slideshow": {
     "slide_type": "subslide"
    }
   },
   "source": [
    "## Examples\n",
    "\n",
    "  1. Find the volume under a paraboloid $z=a^2-x^2-y^2$ annd above $z=0$ in terms of $a$ where $a>0$.\n",
    "  \n",
    "  3. Sketch the region of integration in the definite integral below and then evaluate it using polar coordinates.  $$\\int_0^1\\int_{\\sqrt{1-x^2}}^{\\sqrt{4-x^2}} x\\,dy\\,dx + \\int_1^2\\int_{0}^{\\sqrt{4-x^2}} x\\,dy\\,dx$$\n",
    "  \n",
    "  2. Find the volume of the region above the $xy$-plane, under the surface $z=x^2+y^2$ and inside the cylinder $x^2 +(y-1)^2 =1$.\n",
    "  \n"
   ]
  },
  {
   "cell_type": "markdown",
   "metadata": {
    "slideshow": {
     "slide_type": "slide"
    }
   },
   "source": [
    "### Cool Example\n",
    "\n",
    "Compute $$\\int_{-\\infty}^\\infty e^{-x^2}\\,dx.$$"
   ]
  },
  {
   "cell_type": "code",
   "execution_count": null,
   "metadata": {},
   "outputs": [],
   "source": []
  }
 ],
 "metadata": {
  "celltoolbar": "Slideshow",
  "kernelspec": {
   "display_name": "Python 3",
   "language": "python",
   "name": "python3"
  },
  "language_info": {
   "codemirror_mode": {
    "name": "ipython",
    "version": 3
   },
   "file_extension": ".py",
   "mimetype": "text/x-python",
   "name": "python",
   "nbconvert_exporter": "python",
   "pygments_lexer": "ipython3",
   "version": "3.7.3"
  },
  "rise": {
   "enable_chalkboard": true,
   "scroll": true,
   "theme": "sky",
   "transition": "concave"
  }
 },
 "nbformat": 4,
 "nbformat_minor": 2
}
